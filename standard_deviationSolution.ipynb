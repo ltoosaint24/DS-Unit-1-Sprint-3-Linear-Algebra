{
  "nbformat": 4,
  "nbformat_minor": 0,
  "metadata": {
    "colab": {
      "name": "Solution.ipynb",
      "provenance": [],
      "collapsed_sections": [],
      "include_colab_link": true
    },
    "kernelspec": {
      "display_name": "Python 3",
      "language": "python",
      "name": "python3"
    },
    "language_info": {
      "codemirror_mode": {
        "name": "ipython",
        "version": 3
      },
      "file_extension": ".py",
      "mimetype": "text/x-python",
      "name": "python",
      "nbconvert_exporter": "python",
      "pygments_lexer": "ipython3",
      "version": "3.7.3"
    }
  },
  "cells": [
    {
      "cell_type": "markdown",
      "metadata": {
        "id": "view-in-github",
        "colab_type": "text"
      },
      "source": [
        "<a href=\"https://colab.research.google.com/github/ltoosaint24/DS-Unit-1-Sprint-3-Linear-Algebra/blob/master/standard_deviationSolution.ipynb\" target=\"_parent\"><img src=\"https://colab.research.google.com/assets/colab-badge.svg\" alt=\"Open In Colab\"/></a>"
      ]
    },
    {
      "cell_type": "markdown",
      "metadata": {
        "colab_type": "text",
        "id": "GSNiYn8lr6nN"
      },
      "source": [
        "## 1. A review of statistical terms"
      ]
    },
    {
      "cell_type": "markdown",
      "metadata": {
        "colab_type": "text",
        "id": "3d4izUhQvh2_"
      },
      "source": [
        "### 1.1 Variance & Standard Deviation\n",
        "Suppose we have a list of widgets. What is the mean, variance, and standard deviation of this list?"
      ]
    },
    {
      "cell_type": "code",
      "metadata": {
        "colab_type": "code",
        "id": "vxeP-KycnDBq",
        "colab": {}
      },
      "source": [
        "# here's the list.\n",
        "widgets=[451, 330, 570, 390, 410]"
      ],
      "execution_count": null,
      "outputs": []
    },
    {
      "cell_type": "code",
      "metadata": {
        "colab_type": "code",
        "id": "IbY4cUN8nDBu",
        "colab": {}
      },
      "source": [
        "# which libraries should we import here?\n",
        "import math\n",
        "import numpy as np\n",
        "import pandas as pd"
      ],
      "execution_count": null,
      "outputs": []
    },
    {
      "cell_type": "code",
      "metadata": {
        "colab_type": "code",
        "id": "NU3vD0_ZnDBw",
        "colab": {
          "base_uri": "https://localhost:8080/",
          "height": 35
        },
        "outputId": "9f3cda4c-c51a-49af-9afb-def22da79601"
      },
      "source": [
        "# find the mean\n",
        "total = sum(widgets)\n",
        "mean_widgets = total/len(widgets)\n",
        "print(\"mean widgets: \", mean_widgets)"
      ],
      "execution_count": null,
      "outputs": [
        {
          "output_type": "stream",
          "text": [
            "mean widgets:  430.2\n"
          ],
          "name": "stdout"
        }
      ]
    },
    {
      "cell_type": "markdown",
      "metadata": {
        "colab_type": "text",
        "id": "_quq24q1nDB0"
      },
      "source": [
        "#### Variance"
      ]
    },
    {
      "cell_type": "code",
      "metadata": {
        "colab_type": "code",
        "id": "pcV0Q_11nDB1",
        "colab": {
          "base_uri": "https://localhost:8080/",
          "height": 35
        },
        "outputId": "56a3e88e-747a-4a8a-fa8c-149e9e647dd0"
      },
      "source": [
        "# first write a little function \n",
        "def subtract_mean(number):\n",
        "    return number-mean_widgets\n",
        "\n",
        "# Note: this can be converted to lambda for efficiency:\n",
        "lambda x: x-mean_widgets"
      ],
      "execution_count": null,
      "outputs": [
        {
          "output_type": "execute_result",
          "data": {
            "text/plain": [
              "<function __main__.<lambda>>"
            ]
          },
          "metadata": {
            "tags": []
          },
          "execution_count": 4
        }
      ]
    },
    {
      "cell_type": "code",
      "metadata": {
        "colab_type": "code",
        "id": "MMVU8gW2nDB4",
        "colab": {}
      },
      "source": [
        "# use `map` to apply that function to our list \n",
        "distances = list(map(subtract_mean, widgets))"
      ],
      "execution_count": null,
      "outputs": []
    },
    {
      "cell_type": "code",
      "metadata": {
        "colab_type": "code",
        "id": "wC7vL5FPnDB7",
        "colab": {}
      },
      "source": [
        "# square and sum all of those distances\n",
        "squared_distances = list(map(lambda x: x**2, distances))"
      ],
      "execution_count": null,
      "outputs": []
    },
    {
      "cell_type": "code",
      "metadata": {
        "colab_type": "code",
        "id": "NjKrf7Q1nDB-",
        "colab": {}
      },
      "source": [
        "# how long is our list?\n",
        "list_length=len(squared_distances)-1 # for a sample taken from a population\n",
        "list_length=len(squared_distances) # for a whole population (no sample)"
      ],
      "execution_count": null,
      "outputs": []
    },
    {
      "cell_type": "code",
      "metadata": {
        "colab_type": "code",
        "id": "4GWdN9HRnDCA",
        "colab": {
          "base_uri": "https://localhost:8080/",
          "height": 35
        },
        "outputId": "103541a7-8c3b-44cb-a3bd-711422e9517c"
      },
      "source": [
        "# calculate variance\n",
        "variance_widgets = sum(squared_distances)/list_length\n",
        "print('{:.2f}'.format(variance_widgets,3))"
      ],
      "execution_count": null,
      "outputs": [
        {
          "output_type": "stream",
          "text": [
            "6408.16\n"
          ],
          "name": "stdout"
        }
      ]
    },
    {
      "cell_type": "markdown",
      "metadata": {
        "colab_type": "text",
        "id": "B2vaLcQUnDCD"
      },
      "source": [
        "#### standard dev"
      ]
    },
    {
      "cell_type": "code",
      "metadata": {
        "colab_type": "code",
        "id": "6ywCoGvKnDCD",
        "colab": {
          "base_uri": "https://localhost:8080/",
          "height": 52
        },
        "outputId": "dc121fbc-ec46-4c84-c5b7-681f77d7ae6f"
      },
      "source": [
        "# calculate the standard deviation\n",
        "print('{:.2f}'.format(math.sqrt(variance_widgets)))\n",
        "print('{:.2f}'.format(np.sqrt(variance_widgets)))"
      ],
      "execution_count": null,
      "outputs": [
        {
          "output_type": "stream",
          "text": [
            "80.05\n",
            "80.05\n"
          ],
          "name": "stdout"
        }
      ]
    },
    {
      "cell_type": "code",
      "metadata": {
        "colab_type": "code",
        "id": "0JZJUdhvnDCF",
        "colab": {
          "base_uri": "https://localhost:8080/",
          "height": 69
        },
        "outputId": "69157781-ebd3-44a3-c7d2-a31a33bee8d4"
      },
      "source": [
        "# check our work using numpy\n",
        "print(np.mean(widgets))\n",
        "print('{:.2f}'.format(np.var(widgets)))\n",
        "print('{:.2f}'.format(np.std(widgets)))"
      ],
      "execution_count": null,
      "outputs": [
        {
          "output_type": "stream",
          "text": [
            "430.2\n",
            "6408.16\n",
            "80.05\n"
          ],
          "name": "stdout"
        }
      ]
    },
    {
      "cell_type": "code",
      "metadata": {
        "colab_type": "code",
        "id": "w1iZfYvBtEA1",
        "colab": {
          "base_uri": "https://localhost:8080/",
          "height": 35
        },
        "outputId": "187322f0-acaa-46b2-bcda-45674b3a1208"
      },
      "source": [
        "# check our work using pandas\n",
        "df = pd.DataFrame({\"widgets\": widgets})\n",
        "print('mean:', df['widgets'].mean())"
      ],
      "execution_count": null,
      "outputs": [
        {
          "output_type": "stream",
          "text": [
            "mean: 430.2\n"
          ],
          "name": "stdout"
        }
      ]
    },
    {
      "cell_type": "code",
      "metadata": {
        "colab_type": "code",
        "id": "oSk5wK1znDCN",
        "colab": {
          "base_uri": "https://localhost:8080/",
          "height": 52
        },
        "outputId": "16d4bc22-e945-4fb5-e6a2-9d49c1641dd6"
      },
      "source": [
        "# for a population\n",
        "print('var:', '{:.2f}'.format(df['widgets'].var(ddof=0)))\n",
        "print('std:', '{:.2f}'.format(df['widgets'].std(ddof=0)))"
      ],
      "execution_count": null,
      "outputs": [
        {
          "output_type": "stream",
          "text": [
            "var: 6408.16\n",
            "std: 80.05\n"
          ],
          "name": "stdout"
        }
      ]
    },
    {
      "cell_type": "code",
      "metadata": {
        "colab_type": "code",
        "id": "nXbyrXDVnDCS",
        "colab": {
          "base_uri": "https://localhost:8080/",
          "height": 52
        },
        "outputId": "ff25df9a-1383-407d-8799-ae8d3479cb10"
      },
      "source": [
        "# for a sample\n",
        "print('var:', '{:.2f}'.format(df['widgets'].var(ddof=1)))\n",
        "print('std:', '{:.2f}'.format(df['widgets'].std(ddof=1)))"
      ],
      "execution_count": null,
      "outputs": [
        {
          "output_type": "stream",
          "text": [
            "var: 8010.20\n",
            "std: 89.50\n"
          ],
          "name": "stdout"
        }
      ]
    },
    {
      "cell_type": "markdown",
      "metadata": {
        "colab_type": "text",
        "id": "oh63KaOctEp_"
      },
      "source": [
        "### 1.2 Covariance\n",
        "Find the covariance between widgets and gadgets."
      ]
    },
    {
      "cell_type": "code",
      "metadata": {
        "colab_type": "code",
        "id": "G7ZB0krot564",
        "colab": {}
      },
      "source": [
        "# make a new list\n",
        "gadgets = [410, 505, 371, 220, 625]"
      ],
      "execution_count": null,
      "outputs": []
    },
    {
      "cell_type": "code",
      "metadata": {
        "colab_type": "code",
        "id": "lX0-DLuDnDCY",
        "colab": {
          "base_uri": "https://localhost:8080/",
          "height": 35
        },
        "outputId": "b7caec17-b842-4caa-fba7-9913d8d82874"
      },
      "source": [
        "# using numpy\n",
        "print('{:.2f}'.format(np.cov(widgets, gadgets)[0][1]))"
      ],
      "execution_count": null,
      "outputs": [
        {
          "output_type": "stream",
          "text": [
            "-2919.05\n"
          ],
          "name": "stdout"
        }
      ]
    },
    {
      "cell_type": "code",
      "metadata": {
        "colab_type": "code",
        "id": "4q2U5pSMnDCc",
        "colab": {
          "base_uri": "https://localhost:8080/",
          "height": 35
        },
        "outputId": "ba1a12e9-c909-4492-b24e-9138e1863e7f"
      },
      "source": [
        "# using pandas\n",
        "df['gadgets'] = pd.Series(gadgets)\n",
        "print('{:.2f}'.format(df.cov().values[0][1]))"
      ],
      "execution_count": null,
      "outputs": [
        {
          "output_type": "stream",
          "text": [
            "-2919.05\n"
          ],
          "name": "stdout"
        }
      ]
    },
    {
      "cell_type": "markdown",
      "metadata": {
        "colab_type": "text",
        "id": "J9SbUY9mt66I"
      },
      "source": [
        "### 1.3 Correlation Coefficient \n",
        "Find the correlation coefficient that summarizes the relationship between widgets and gadgets. "
      ]
    },
    {
      "cell_type": "code",
      "metadata": {
        "colab_type": "code",
        "id": "Glkaaa0hnDCf",
        "colab": {
          "base_uri": "https://localhost:8080/",
          "height": 52
        },
        "outputId": "25d8a104-9e46-4abc-c8bd-6a459d1fddad"
      },
      "source": [
        "# Calculate the standard dev of both lists using pandas.\n",
        "std_w = df['widgets'].std(ddof=1)\n",
        "std_g = df['gadgets'].std(ddof=1)\n",
        "print('{:.4f}'.format(std_w))\n",
        "print('{:.4f}'.format(std_g))"
      ],
      "execution_count": null,
      "outputs": [
        {
          "output_type": "stream",
          "text": [
            "89.4997\n",
            "151.2934\n"
          ],
          "name": "stdout"
        }
      ]
    },
    {
      "cell_type": "code",
      "metadata": {
        "colab_type": "code",
        "id": "pnaUKUrPnDCh",
        "colab": {
          "base_uri": "https://localhost:8080/",
          "height": 35
        },
        "outputId": "2d129100-201c-443a-bb39-5a309a7f4b01"
      },
      "source": [
        "# Calculate covariance using pandas\n",
        "cov_wg = df['widgets'].cov(df['gadgets'])\n",
        "print('{:.4f}'.format(cov_wg))"
      ],
      "execution_count": null,
      "outputs": [
        {
          "output_type": "stream",
          "text": [
            "-2919.0500\n"
          ],
          "name": "stdout"
        }
      ]
    },
    {
      "cell_type": "code",
      "metadata": {
        "colab_type": "code",
        "id": "cpJO2i9ynDCj",
        "colab": {}
      },
      "source": [
        "# Calculate the denominator\n",
        "denom = std_w*std_g"
      ],
      "execution_count": null,
      "outputs": []
    },
    {
      "cell_type": "code",
      "metadata": {
        "colab_type": "code",
        "id": "vFJms2YRrKhY",
        "colab": {
          "base_uri": "https://localhost:8080/",
          "height": 35
        },
        "outputId": "a46b9f2d-1456-400c-acab-b8d670eb26dc"
      },
      "source": [
        "# Calculate correlation\n",
        "corr_wg = cov_wg/denom\n",
        "print('{:.6f}'.format(corr_wg))"
      ],
      "execution_count": null,
      "outputs": [
        {
          "output_type": "stream",
          "text": [
            "-0.215576\n"
          ],
          "name": "stdout"
        }
      ]
    },
    {
      "cell_type": "code",
      "metadata": {
        "colab_type": "code",
        "id": "2wxA_D2AnDCm",
        "colab": {
          "base_uri": "https://localhost:8080/",
          "height": 35
        },
        "outputId": "bd5e99a0-99c7-45d5-f060-f36f05213f09"
      },
      "source": [
        "## Check work using pandas\n",
        "print('{:.6f}'.format(df['widgets'].corr(df['gadgets'])))"
      ],
      "execution_count": null,
      "outputs": [
        {
          "output_type": "stream",
          "text": [
            "-0.215576\n"
          ],
          "name": "stdout"
        }
      ]
    },
    {
      "cell_type": "code",
      "metadata": {
        "colab_type": "code",
        "id": "JsQSwZjunDCr",
        "colab": {
          "base_uri": "https://localhost:8080/",
          "height": 108
        },
        "outputId": "71032f60-c348-4496-8b22-b309fbede968"
      },
      "source": [
        "# A shorter way to do this\n",
        "df.corr()"
      ],
      "execution_count": null,
      "outputs": [
        {
          "output_type": "execute_result",
          "data": {
            "text/html": [
              "<div>\n",
              "<style scoped>\n",
              "    .dataframe tbody tr th:only-of-type {\n",
              "        vertical-align: middle;\n",
              "    }\n",
              "\n",
              "    .dataframe tbody tr th {\n",
              "        vertical-align: top;\n",
              "    }\n",
              "\n",
              "    .dataframe thead th {\n",
              "        text-align: right;\n",
              "    }\n",
              "</style>\n",
              "<table border=\"1\" class=\"dataframe\">\n",
              "  <thead>\n",
              "    <tr style=\"text-align: right;\">\n",
              "      <th></th>\n",
              "      <th>widgets</th>\n",
              "      <th>gadgets</th>\n",
              "    </tr>\n",
              "  </thead>\n",
              "  <tbody>\n",
              "    <tr>\n",
              "      <th>widgets</th>\n",
              "      <td>1.000000</td>\n",
              "      <td>-0.215576</td>\n",
              "    </tr>\n",
              "    <tr>\n",
              "      <th>gadgets</th>\n",
              "      <td>-0.215576</td>\n",
              "      <td>1.000000</td>\n",
              "    </tr>\n",
              "  </tbody>\n",
              "</table>\n",
              "</div>"
            ],
            "text/plain": [
              "          widgets   gadgets\n",
              "widgets  1.000000 -0.215576\n",
              "gadgets -0.215576  1.000000"
            ]
          },
          "metadata": {
            "tags": []
          },
          "execution_count": 22
        }
      ]
    },
    {
      "cell_type": "markdown",
      "metadata": {
        "colab_type": "text",
        "id": "IbZVf7nmujPJ"
      },
      "source": [
        "### 1.4 The Variance-Covariance Matrix\n",
        "Import a dataset of residential properties in Washington DC. Calculate the variance-covariance matrix and correlation matrix for the dataset's numeric columns."
      ]
    },
    {
      "cell_type": "code",
      "metadata": {
        "colab_type": "code",
        "id": "0TWgUIiaCFzq",
        "colab": {
          "base_uri": "https://localhost:8080/",
          "height": 108
        },
        "outputId": "fd727252-1724-465c-f7c2-6f608f05fee0"
      },
      "source": [
        "# source: https://www.kaggle.com/christophercorrea/dc-residential-properties/\n",
        "houses = pd.read_csv('https://raw.githubusercontent.com/austinlasseter/dash-scatterplot-housing/master/dchouses.csv')\n",
        "houses.head(2)"
      ],
      "execution_count": null,
      "outputs": [
        {
          "output_type": "execute_result",
          "data": {
            "text/html": [
              "<div>\n",
              "<style scoped>\n",
              "    .dataframe tbody tr th:only-of-type {\n",
              "        vertical-align: middle;\n",
              "    }\n",
              "\n",
              "    .dataframe tbody tr th {\n",
              "        vertical-align: top;\n",
              "    }\n",
              "\n",
              "    .dataframe thead th {\n",
              "        text-align: right;\n",
              "    }\n",
              "</style>\n",
              "<table border=\"1\" class=\"dataframe\">\n",
              "  <thead>\n",
              "    <tr style=\"text-align: right;\">\n",
              "      <th></th>\n",
              "      <th>BATHRM</th>\n",
              "      <th>HF_BATHRM</th>\n",
              "      <th>KITCHENS</th>\n",
              "      <th>HEAT</th>\n",
              "      <th>AC</th>\n",
              "      <th>ROOMS</th>\n",
              "      <th>PRICE</th>\n",
              "    </tr>\n",
              "  </thead>\n",
              "  <tbody>\n",
              "    <tr>\n",
              "      <th>0</th>\n",
              "      <td>1</td>\n",
              "      <td>1</td>\n",
              "      <td>1.0</td>\n",
              "      <td>Forced Air</td>\n",
              "      <td>Y</td>\n",
              "      <td>6</td>\n",
              "      <td>NaN</td>\n",
              "    </tr>\n",
              "    <tr>\n",
              "      <th>1</th>\n",
              "      <td>2</td>\n",
              "      <td>1</td>\n",
              "      <td>1.0</td>\n",
              "      <td>Hot Water Rad</td>\n",
              "      <td>Y</td>\n",
              "      <td>8</td>\n",
              "      <td>460000.0</td>\n",
              "    </tr>\n",
              "  </tbody>\n",
              "</table>\n",
              "</div>"
            ],
            "text/plain": [
              "   BATHRM  HF_BATHRM  KITCHENS           HEAT AC  ROOMS     PRICE\n",
              "0       1          1       1.0     Forced Air  Y      6       NaN\n",
              "1       2          1       1.0  Hot Water Rad  Y      8  460000.0"
            ]
          },
          "metadata": {
            "tags": []
          },
          "execution_count": 23
        }
      ]
    },
    {
      "cell_type": "code",
      "metadata": {
        "colab_type": "code",
        "id": "4nfUnsmQnDCw",
        "colab": {
          "base_uri": "https://localhost:8080/",
          "height": 218
        },
        "outputId": "b6bc6026-723e-4d86-cff8-92c1b6af30af"
      },
      "source": [
        "# calculate the covariance for the entire dataset\n",
        "houses.cov()"
      ],
      "execution_count": null,
      "outputs": [
        {
          "output_type": "execute_result",
          "data": {
            "text/html": [
              "<div>\n",
              "<style scoped>\n",
              "    .dataframe tbody tr th:only-of-type {\n",
              "        vertical-align: middle;\n",
              "    }\n",
              "\n",
              "    .dataframe tbody tr th {\n",
              "        vertical-align: top;\n",
              "    }\n",
              "\n",
              "    .dataframe thead th {\n",
              "        text-align: right;\n",
              "    }\n",
              "</style>\n",
              "<table border=\"1\" class=\"dataframe\">\n",
              "  <thead>\n",
              "    <tr style=\"text-align: right;\">\n",
              "      <th></th>\n",
              "      <th>BATHRM</th>\n",
              "      <th>HF_BATHRM</th>\n",
              "      <th>KITCHENS</th>\n",
              "      <th>ROOMS</th>\n",
              "      <th>PRICE</th>\n",
              "    </tr>\n",
              "  </thead>\n",
              "  <tbody>\n",
              "    <tr>\n",
              "      <th>BATHRM</th>\n",
              "      <td>1.007166</td>\n",
              "      <td>0.125448</td>\n",
              "      <td>0.329582</td>\n",
              "      <td>1.866127e+00</td>\n",
              "      <td>-5.164766e+05</td>\n",
              "    </tr>\n",
              "    <tr>\n",
              "      <th>HF_BATHRM</th>\n",
              "      <td>0.125448</td>\n",
              "      <td>0.340972</td>\n",
              "      <td>-0.067744</td>\n",
              "      <td>4.989159e-01</td>\n",
              "      <td>4.109166e+05</td>\n",
              "    </tr>\n",
              "    <tr>\n",
              "      <th>KITCHENS</th>\n",
              "      <td>0.329582</td>\n",
              "      <td>-0.067744</td>\n",
              "      <td>0.420696</td>\n",
              "      <td>9.291807e-01</td>\n",
              "      <td>-6.497264e+03</td>\n",
              "    </tr>\n",
              "    <tr>\n",
              "      <th>ROOMS</th>\n",
              "      <td>1.866127</td>\n",
              "      <td>0.498916</td>\n",
              "      <td>0.929181</td>\n",
              "      <td>7.218137e+00</td>\n",
              "      <td>-3.030853e+06</td>\n",
              "    </tr>\n",
              "    <tr>\n",
              "      <th>PRICE</th>\n",
              "      <td>-516476.554036</td>\n",
              "      <td>410916.625989</td>\n",
              "      <td>-6497.264022</td>\n",
              "      <td>-3.030853e+06</td>\n",
              "      <td>1.551202e+14</td>\n",
              "    </tr>\n",
              "  </tbody>\n",
              "</table>\n",
              "</div>"
            ],
            "text/plain": [
              "                  BATHRM      HF_BATHRM  ...         ROOMS         PRICE\n",
              "BATHRM          1.007166       0.125448  ...  1.866127e+00 -5.164766e+05\n",
              "HF_BATHRM       0.125448       0.340972  ...  4.989159e-01  4.109166e+05\n",
              "KITCHENS        0.329582      -0.067744  ...  9.291807e-01 -6.497264e+03\n",
              "ROOMS           1.866127       0.498916  ...  7.218137e+00 -3.030853e+06\n",
              "PRICE     -516476.554036  410916.625989  ... -3.030853e+06  1.551202e+14\n",
              "\n",
              "[5 rows x 5 columns]"
            ]
          },
          "metadata": {
            "tags": []
          },
          "execution_count": 24
        }
      ]
    },
    {
      "cell_type": "code",
      "metadata": {
        "colab_type": "code",
        "id": "Rs27LfIfnDCz",
        "colab": {
          "base_uri": "https://localhost:8080/",
          "height": 198
        },
        "outputId": "f9c93c5b-a499-45af-b65c-81eac494eef6"
      },
      "source": [
        "# calculate the correlation for the entire dataset\n",
        "houses.corr()"
      ],
      "execution_count": null,
      "outputs": [
        {
          "output_type": "execute_result",
          "data": {
            "text/html": [
              "<div>\n",
              "<style scoped>\n",
              "    .dataframe tbody tr th:only-of-type {\n",
              "        vertical-align: middle;\n",
              "    }\n",
              "\n",
              "    .dataframe tbody tr th {\n",
              "        vertical-align: top;\n",
              "    }\n",
              "\n",
              "    .dataframe thead th {\n",
              "        text-align: right;\n",
              "    }\n",
              "</style>\n",
              "<table border=\"1\" class=\"dataframe\">\n",
              "  <thead>\n",
              "    <tr style=\"text-align: right;\">\n",
              "      <th></th>\n",
              "      <th>BATHRM</th>\n",
              "      <th>HF_BATHRM</th>\n",
              "      <th>KITCHENS</th>\n",
              "      <th>ROOMS</th>\n",
              "      <th>PRICE</th>\n",
              "    </tr>\n",
              "  </thead>\n",
              "  <tbody>\n",
              "    <tr>\n",
              "      <th>BATHRM</th>\n",
              "      <td>1.000000</td>\n",
              "      <td>0.214070</td>\n",
              "      <td>0.461896</td>\n",
              "      <td>0.692115</td>\n",
              "      <td>-0.042109</td>\n",
              "    </tr>\n",
              "    <tr>\n",
              "      <th>HF_BATHRM</th>\n",
              "      <td>0.214070</td>\n",
              "      <td>1.000000</td>\n",
              "      <td>-0.173102</td>\n",
              "      <td>0.318021</td>\n",
              "      <td>0.058728</td>\n",
              "    </tr>\n",
              "    <tr>\n",
              "      <th>KITCHENS</th>\n",
              "      <td>0.461896</td>\n",
              "      <td>-0.173102</td>\n",
              "      <td>1.000000</td>\n",
              "      <td>0.592760</td>\n",
              "      <td>-0.021364</td>\n",
              "    </tr>\n",
              "    <tr>\n",
              "      <th>ROOMS</th>\n",
              "      <td>0.692115</td>\n",
              "      <td>0.318021</td>\n",
              "      <td>0.592760</td>\n",
              "      <td>1.000000</td>\n",
              "      <td>-0.088273</td>\n",
              "    </tr>\n",
              "    <tr>\n",
              "      <th>PRICE</th>\n",
              "      <td>-0.042109</td>\n",
              "      <td>0.058728</td>\n",
              "      <td>-0.021364</td>\n",
              "      <td>-0.088273</td>\n",
              "      <td>1.000000</td>\n",
              "    </tr>\n",
              "  </tbody>\n",
              "</table>\n",
              "</div>"
            ],
            "text/plain": [
              "             BATHRM  HF_BATHRM  KITCHENS     ROOMS     PRICE\n",
              "BATHRM     1.000000   0.214070  0.461896  0.692115 -0.042109\n",
              "HF_BATHRM  0.214070   1.000000 -0.173102  0.318021  0.058728\n",
              "KITCHENS   0.461896  -0.173102  1.000000  0.592760 -0.021364\n",
              "ROOMS      0.692115   0.318021  0.592760  1.000000 -0.088273\n",
              "PRICE     -0.042109   0.058728 -0.021364 -0.088273  1.000000"
            ]
          },
          "metadata": {
            "tags": []
          },
          "execution_count": 25
        }
      ]
    },
    {
      "cell_type": "markdown",
      "metadata": {
        "colab_type": "text",
        "id": "7K0Xfh8MvYkl"
      },
      "source": [
        "## 2. Orthogonality"
      ]
    },
    {
      "cell_type": "markdown",
      "metadata": {
        "colab_type": "text",
        "id": "MiNjyqiEz5SG"
      },
      "source": [
        "### 2.1 Quick review of norm and dot product."
      ]
    },
    {
      "cell_type": "code",
      "metadata": {
        "colab_type": "code",
        "id": "tvmE56uanDC3",
        "colab": {
          "base_uri": "https://localhost:8080/",
          "height": 52
        },
        "outputId": "c348b63f-40ce-4007-bba0-fabbfcf9c561"
      },
      "source": [
        "# let's make a couple of vectors.\n",
        "v = np.random.randint(low=1, high=100, size=3)\n",
        "x = np.random.randint(low=1, high=100, size=3)\n",
        "print(v, '\\n', x)"
      ],
      "execution_count": null,
      "outputs": [
        {
          "output_type": "stream",
          "text": [
            "[37 89  5] \n",
            " [42  4 32]\n"
          ],
          "name": "stdout"
        }
      ]
    },
    {
      "cell_type": "code",
      "metadata": {
        "colab_type": "code",
        "id": "06xHlrTlnDC6",
        "colab": {
          "base_uri": "https://localhost:8080/",
          "height": 52
        },
        "outputId": "4c23e099-405b-4143-9d1c-e5c22e76ff47"
      },
      "source": [
        "# quick: which one is longer? \n",
        "for vect in [v,x]:\n",
        "    norm=np.linalg.norm(vect)\n",
        "    print('{:.2f}'.format(norm))"
      ],
      "execution_count": null,
      "outputs": [
        {
          "output_type": "stream",
          "text": [
            "96.51\n",
            "52.95\n"
          ],
          "name": "stdout"
        }
      ]
    },
    {
      "cell_type": "code",
      "metadata": {
        "colab_type": "code",
        "id": "4ao4ZgKNnDC8",
        "colab": {
          "base_uri": "https://localhost:8080/",
          "height": 35
        },
        "outputId": "72f9098a-a027-4643-9715-de3d91a1ec49"
      },
      "source": [
        "# what's the dot product of x and v? using array broadcasting\n",
        "(v[0]*x[0]) + (v[1]*x[1]) + (v[2]*x[2])"
      ],
      "execution_count": null,
      "outputs": [
        {
          "output_type": "execute_result",
          "data": {
            "text/plain": [
              "2070"
            ]
          },
          "metadata": {
            "tags": []
          },
          "execution_count": 28
        }
      ]
    },
    {
      "cell_type": "code",
      "metadata": {
        "colab_type": "code",
        "id": "IlV_uaYK1EQB",
        "colab": {
          "base_uri": "https://localhost:8080/",
          "height": 35
        },
        "outputId": "eb1bb190-4df2-4297-cd35-13189081dbca"
      },
      "source": [
        "# what's the dot product of x and v? using numpy\n",
        "np.dot(x,v)"
      ],
      "execution_count": null,
      "outputs": [
        {
          "output_type": "execute_result",
          "data": {
            "text/plain": [
              "2070"
            ]
          },
          "metadata": {
            "tags": []
          },
          "execution_count": 29
        }
      ]
    },
    {
      "cell_type": "code",
      "metadata": {
        "colab_type": "code",
        "id": "FFPwT01inDDA",
        "colab": {
          "base_uri": "https://localhost:8080/",
          "height": 35
        },
        "outputId": "0e906cdc-d227-4211-b21d-d565868dc165"
      },
      "source": [
        "# there's another way to write this.\n",
        "x.dot(v) "
      ],
      "execution_count": null,
      "outputs": [
        {
          "output_type": "execute_result",
          "data": {
            "text/plain": [
              "2070"
            ]
          },
          "metadata": {
            "tags": []
          },
          "execution_count": 30
        }
      ]
    },
    {
      "cell_type": "markdown",
      "metadata": {
        "colab_type": "text",
        "id": "Pe3eOZ2fvdZ-"
      },
      "source": [
        "### 2.2 Orthogonality"
      ]
    },
    {
      "cell_type": "code",
      "metadata": {
        "colab_type": "code",
        "id": "YLSBk7hJvvCx",
        "colab": {}
      },
      "source": [
        "# import\n",
        "import matplotlib.pyplot as plt\n",
        "%matplotlib inline"
      ],
      "execution_count": null,
      "outputs": []
    },
    {
      "cell_type": "code",
      "metadata": {
        "colab_type": "code",
        "id": "TlhzHqYlnDDF",
        "colab": {}
      },
      "source": [
        "# choose some vectors\n",
        "vector_1 = [2, 2]\n",
        "vector_2 = [1, -1]"
      ],
      "execution_count": null,
      "outputs": []
    },
    {
      "cell_type": "code",
      "metadata": {
        "colab_type": "code",
        "id": "oHFvKnbnnDDH",
        "colab": {
          "base_uri": "https://localhost:8080/",
          "height": 269
        },
        "outputId": "f7b74f24-dc52-4f0a-dad5-385e2b8f5c1c"
      },
      "source": [
        "# Set up the figure so that x and y axes are symmetrical.\n",
        "\n",
        "fig, ax = plt.subplots(figsize=(4,4))\n",
        "ax.grid()\n",
        "plt.xlim(-2,3)          \n",
        "plt.ylim(-2,3)\n",
        "\n",
        "# Plot the vectors\n",
        "for vect in [vector_1, vector_2]:\n",
        "    plt.arrow(0,0, vect[0], vect[1], head_width=.2, head_length=0.2, linewidth=4)\n",
        "plt.show()"
      ],
      "execution_count": null,
      "outputs": [
        {
          "output_type": "display_data",
          "data": {
            "image/png": "[encoded data removed]",
            "text/plain": [
              "<Figure size 288x288 with 1 Axes>"
            ]
          },
          "metadata": {
            "tags": [],
            "needs_background": "light"
          }
        }
      ]
    },
    {
      "cell_type": "markdown",
      "metadata": {
        "colab_type": "text",
        "id": "7AS4V1Nhvvxz"
      },
      "source": [
        "Are the following vectors orthogonal?"
      ]
    },
    {
      "cell_type": "code",
      "metadata": {
        "colab_type": "code",
        "id": "F_-y54YSz47k",
        "colab": {
          "base_uri": "https://localhost:8080/",
          "height": 35
        },
        "outputId": "bcc83709-05c1-46c2-f796-b78743e34038"
      },
      "source": [
        "# If dot product != 0, then vectors are not orthogonal.\n",
        "a = np.array([-7,4])\n",
        "b = np.array([-5,3])\n",
        "np.dot(a,b)"
      ],
      "execution_count": null,
      "outputs": [
        {
          "output_type": "execute_result",
          "data": {
            "text/plain": [
              "47"
            ]
          },
          "metadata": {
            "tags": []
          },
          "execution_count": 34
        }
      ]
    },
    {
      "cell_type": "code",
      "metadata": {
        "colab_type": "code",
        "id": "THsK1eLPnDDN",
        "colab": {
          "base_uri": "https://localhost:8080/",
          "height": 35
        },
        "outputId": "9478a42e-eeb3-492e-997c-38e49b5099e5"
      },
      "source": [
        "# If dot product = 0, then vectors are orthogonal.\n",
        "a = np.array([0,4])\n",
        "b = np.array([-5,0])\n",
        "np.dot(a,b)"
      ],
      "execution_count": null,
      "outputs": [
        {
          "output_type": "execute_result",
          "data": {
            "text/plain": [
              "0"
            ]
          },
          "metadata": {
            "tags": []
          },
          "execution_count": 35
        }
      ]
    },
    {
      "cell_type": "code",
      "metadata": {
        "colab_type": "code",
        "id": "3097JSy4nDDS",
        "colab": {
          "base_uri": "https://localhost:8080/",
          "height": 35
        },
        "outputId": "d418dfbe-e627-49b3-b948-1fae0783b6c6"
      },
      "source": [
        "# If dot product = 0, then vectors are orthogonal.\n",
        "np.dot(vector_1,vector_2)"
      ],
      "execution_count": null,
      "outputs": [
        {
          "output_type": "execute_result",
          "data": {
            "text/plain": [
              "0"
            ]
          },
          "metadata": {
            "tags": []
          },
          "execution_count": 36
        }
      ]
    },
    {
      "cell_type": "code",
      "metadata": {
        "colab_type": "code",
        "id": "2Rf_eYxlnDDW",
        "colab": {
          "base_uri": "https://localhost:8080/",
          "height": 69
        },
        "outputId": "54ddc944-5330-464e-e95d-f40a7780c522"
      },
      "source": [
        "# For any vector, generate another vector that is orthogonal to it.\n",
        "k = np.random.randn(3) # take any random vector.\n",
        "print(k)\n",
        "x = np.random.randn(3) # take any random vector of the same length.\n",
        "x -= x.dot(k) * k / np.linalg.norm(k)**2      # make it orthogonal to k\n",
        "print(x)\n",
        "xk=np.dot(x, k) # generate the dot product, to confirm that it's zero.\n",
        "print('{:.8f}'.format(xk))"
      ],
      "execution_count": null,
      "outputs": [
        {
          "output_type": "stream",
          "text": [
            "[-0.4020872  -0.45838476 -0.79188036]\n",
            "[-0.57980438 -0.32065556  0.48001638]\n",
            "0.00000000\n"
          ],
          "name": "stdout"
        }
      ]
    },
    {
      "cell_type": "markdown",
      "metadata": {
        "colab_type": "text",
        "id": "MK_TpWqk1Evk"
      },
      "source": [
        "## 3. Unit Vectors"
      ]
    },
    {
      "cell_type": "code",
      "metadata": {
        "colab_type": "code",
        "id": "I3W8ZiHR1_Fa",
        "colab": {
          "base_uri": "https://localhost:8080/",
          "height": 35
        },
        "outputId": "b989c1ee-a941-435d-9580-a3bdc0a93307"
      },
      "source": [
        "# Suppose we have a vector f.\n",
        "f = np.random.randint(low=1, high=100, size=5)\n",
        "f"
      ],
      "execution_count": null,
      "outputs": [
        {
          "output_type": "execute_result",
          "data": {
            "text/plain": [
              "array([ 6, 40, 11, 28, 60])"
            ]
          },
          "metadata": {
            "tags": []
          },
          "execution_count": 38
        }
      ]
    },
    {
      "cell_type": "code",
      "metadata": {
        "colab_type": "code",
        "id": "Dr8pE-wHnDDe",
        "colab": {
          "base_uri": "https://localhost:8080/",
          "height": 35
        },
        "outputId": "d7647670-13c8-4551-bef0-2a3b291d49ad"
      },
      "source": [
        "# how long is it?\n",
        "norm_f = np.linalg.norm(f)\n",
        "print('{:.4f}'.format(norm_f))"
      ],
      "execution_count": null,
      "outputs": [
        {
          "output_type": "stream",
          "text": [
            "78.3645\n"
          ],
          "name": "stdout"
        }
      ]
    },
    {
      "cell_type": "code",
      "metadata": {
        "colab_type": "code",
        "id": "ejqFtzV6nDDg",
        "colab": {
          "base_uri": "https://localhost:8080/",
          "height": 35
        },
        "outputId": "b46352a8-c4bf-4bca-a6d6-2f7662fe2ae3"
      },
      "source": [
        "# find its unit vector. the hat symbol (f^) indicates it's a unit vector.\n",
        "f_hat = f/np.linalg.norm(f)\n",
        "print(f_hat)"
      ],
      "execution_count": null,
      "outputs": [
        {
          "output_type": "stream",
          "text": [
            "[0.07656525 0.510435   0.14036962 0.3573045  0.76565249]\n"
          ],
          "name": "stdout"
        }
      ]
    },
    {
      "cell_type": "code",
      "metadata": {
        "colab_type": "code",
        "id": "l9LDNhH3nDDi",
        "colab": {
          "base_uri": "https://localhost:8080/",
          "height": 35
        },
        "outputId": "fd986117-8279-4bdb-820d-8fe5dd0ce384"
      },
      "source": [
        "# how long is this?\n",
        "f_hat_norm = np.linalg.norm(f_hat)\n",
        "print('{:.4f}'.format(f_hat_norm))"
      ],
      "execution_count": null,
      "outputs": [
        {
          "output_type": "stream",
          "text": [
            "1.0000\n"
          ],
          "name": "stdout"
        }
      ]
    },
    {
      "cell_type": "markdown",
      "metadata": {
        "colab_type": "text",
        "id": "o39UyP-I5lpP"
      },
      "source": [
        "## 4. Linear Independence / Dependence "
      ]
    },
    {
      "cell_type": "markdown",
      "metadata": {
        "colab_type": "text",
        "id": "ajfBqYe45sT5"
      },
      "source": [
        "Plot two vectors that are linearly dependent and two vectors that are linearly independent (bonus points if done in $\\mathbb{R}^3$)."
      ]
    },
    {
      "cell_type": "code",
      "metadata": {
        "colab_type": "code",
        "id": "gJBiBwtknDDl",
        "colab": {
          "base_uri": "https://localhost:8080/",
          "height": 52
        },
        "outputId": "f7a0d08c-7999-4942-b553-2c101f2e5be7"
      },
      "source": [
        "# Linearly dependent vectors\n",
        "vector_1 = [-.8, 1.3]\n",
        "vector_2 = np.multiply(vector_1, 2)\n",
        "print(vector_1, '\\n', vector_2)"
      ],
      "execution_count": null,
      "outputs": [
        {
          "output_type": "stream",
          "text": [
            "[-0.8, 1.3] \n",
            " [-1.6  2.6]\n"
          ],
          "name": "stdout"
        }
      ]
    },
    {
      "cell_type": "code",
      "metadata": {
        "colab_type": "code",
        "id": "Eut55rrbnDDp",
        "colab": {
          "base_uri": "https://localhost:8080/",
          "height": 269
        },
        "outputId": "d6763ce8-85ac-4930-d53a-3e72ee164550"
      },
      "source": [
        "# Plot the vectors\n",
        "\n",
        "fig, ax = plt.subplots(figsize=(4,4))\n",
        "ax.grid()\n",
        "plt.xlim(-3,3)          \n",
        "plt.ylim(-3,3)\n",
        "\n",
        "for myvect, mycolor, width in [(vector_1, 'cyan', 15), (vector_2, 'crimson', 5)]:\n",
        "    plt.arrow(0,0,\n",
        "              myvect[0], \n",
        "              myvect[1], \n",
        "              head_width=.2, \n",
        "              head_length=0.2, \n",
        "              linewidth=width, \n",
        "              color=mycolor)"
      ],
      "execution_count": null,
      "outputs": [
        {
          "output_type": "display_data",
          "data": {
            "image/png": "[encoded data removed]",
            "text/plain": [
              "<Figure size 288x288 with 1 Axes>"
            ]
          },
          "metadata": {
            "tags": [],
            "needs_background": "light"
          }
        }
      ]
    },
    {
      "cell_type": "code",
      "metadata": {
        "colab_type": "code",
        "id": "abP8EFRrnDDr",
        "colab": {
          "base_uri": "https://localhost:8080/",
          "height": 52
        },
        "outputId": "18faf6ea-b829-4a08-ae15-59ffc9d1c0ea"
      },
      "source": [
        "# Linearly independent vectors, not orthogonal\n",
        "vector_1 = np.random.randint(low=-3, high=3, size=2)\n",
        "vector_2 = np.random.randint(low=-3, high=3, size=2)\n",
        "print(vector_1, '\\n', vector_2)"
      ],
      "execution_count": null,
      "outputs": [
        {
          "output_type": "stream",
          "text": [
            "[-2 -3] \n",
            " [ 0 -3]\n"
          ],
          "name": "stdout"
        }
      ]
    },
    {
      "cell_type": "code",
      "metadata": {
        "colab_type": "code",
        "id": "sUAQ1AY8nDDu",
        "colab": {
          "base_uri": "https://localhost:8080/",
          "height": 269
        },
        "outputId": "12c724ad-1811-42db-f803-b17f63c4867d"
      },
      "source": [
        "# Set up the grid\n",
        "fig, ax = plt.subplots(figsize=(4,4))\n",
        "ax.grid()\n",
        "plt.xlim(-3,3)          \n",
        "plt.ylim(-3,3)\n",
        "\n",
        "# Plot the vectors\n",
        "for myvect, mycolor, width in [(vector_1, 'cyan', 15), (vector_2, 'crimson', 5)]:\n",
        "    plt.arrow(0,0,\n",
        "              myvect[0], \n",
        "              myvect[1], \n",
        "              head_width=.2, \n",
        "              head_length=0.2, \n",
        "              linewidth=width, \n",
        "              color=mycolor)"
      ],
      "execution_count": null,
      "outputs": [
        {
          "output_type": "display_data",
          "data": {
            "image/png": "[encoded data removed]",
            "text/plain": [
              "<Figure size 288x288 with 1 Axes>"
            ]
          },
          "metadata": {
            "tags": [],
            "needs_background": "light"
          }
        }
      ]
    },
    {
      "cell_type": "markdown",
      "metadata": {
        "colab_type": "text",
        "id": "TrJ0MT_n3SvO"
      },
      "source": [
        "## 5. Span"
      ]
    },
    {
      "cell_type": "markdown",
      "metadata": {
        "colab_type": "text",
        "id": "p1i_ueD25ZcP"
      },
      "source": [
        "Suppose we have two vectors. The linear combination is as follows, where a and b are any scalars.\n",
        "\n",
        "\\begin{align}\n",
        "a\\begin{bmatrix} 1 & 3 \\end{bmatrix} +\n",
        "b\\begin{bmatrix} 2 & 1 \\end{bmatrix}\n",
        "\\end{align}\n",
        "\n",
        "Note that:\n",
        "* The set of all possible linear combinations (i.e., all possible values of a and b) is the span of these vectors. \n",
        "* A set of vectors _spans_ a space if their linear combinations fill the space.\n",
        "* The span of most pairs of 2D vectors is the entire infinite sheet of infinite space (unless they are colinear). "
      ]
    },
    {
      "cell_type": "code",
      "metadata": {
        "colab_type": "code",
        "id": "IchFZn3FnDD0",
        "colab": {}
      },
      "source": [
        "# Let's take two vectors.\n",
        "vector_1 = np.array([1,3])\n",
        "vector_2 = np.array([2,1])"
      ],
      "execution_count": null,
      "outputs": []
    },
    {
      "cell_type": "code",
      "metadata": {
        "colab_type": "code",
        "id": "fOOsc2wnnDD2",
        "colab": {
          "base_uri": "https://localhost:8080/",
          "height": 265
        },
        "outputId": "06b7fa99-c40e-4f1f-c38a-9ea91d1a4bc8"
      },
      "source": [
        "# Plot them on a grid\n",
        "fig, ax = plt.subplots(figsize=(4,4))\n",
        "ax.grid()\n",
        "plt.xlim(-5,5)          \n",
        "plt.ylim(-5,5)\n",
        "\n",
        "# Display\n",
        "for myvect in [vector_1, vector_2]:\n",
        "    plt.arrow(0,0,\n",
        "              myvect[0], \n",
        "              myvect[1], \n",
        "              head_width=.2, \n",
        "              head_length=0.2, \n",
        "              linewidth=10, \n",
        "              color='chartreuse')"
      ],
      "execution_count": null,
      "outputs": [
        {
          "output_type": "display_data",
          "data": {
            "image/png": "[encoded data removed]",
            "text/plain": [
              "<Figure size 288x288 with 1 Axes>"
            ]
          },
          "metadata": {
            "tags": [],
            "needs_background": "light"
          }
        }
      ]
    },
    {
      "cell_type": "code",
      "metadata": {
        "colab_type": "code",
        "id": "GG0Ng_EMnDD5",
        "colab": {
          "base_uri": "https://localhost:8080/",
          "height": 35
        },
        "outputId": "3e81803d-eece-4d70-c901-88d57f715dc2"
      },
      "source": [
        "# This is one possible linear combination:\n",
        "a,b=(2,3)\n",
        "linear_combo= np.multiply(vector_1, a) + np.multiply(vector_2, b) \n",
        "print(linear_combo)"
      ],
      "execution_count": null,
      "outputs": [
        {
          "output_type": "stream",
          "text": [
            "[8 9]\n"
          ],
          "name": "stdout"
        }
      ]
    },
    {
      "cell_type": "code",
      "metadata": {
        "colab_type": "code",
        "id": "SlzxYyirnDD8",
        "colab": {
          "base_uri": "https://localhost:8080/",
          "height": 35
        },
        "outputId": "512c3f70-73cb-4fc3-ece4-1a4806953c6a"
      },
      "source": [
        "# This is a set of several linear combinations:\n",
        "muchos_combos=[]\n",
        "for (a,b) in [(2,3), (4,5), (6,7), (8,9)]:\n",
        "    linear_combo = np.multiply(vector_1, a) + np.multiply(vector_2, b) \n",
        "    muchos_combos.append(linear_combo)\n",
        "print(muchos_combos)"
      ],
      "execution_count": null,
      "outputs": [
        {
          "output_type": "stream",
          "text": [
            "[array([8, 9]), array([14, 17]), array([20, 25]), array([26, 33])]\n"
          ],
          "name": "stdout"
        }
      ]
    },
    {
      "cell_type": "markdown",
      "metadata": {
        "colab_type": "text",
        "id": "IBqe7X1732kX"
      },
      "source": [
        "## 6. Basis"
      ]
    },
    {
      "cell_type": "markdown",
      "metadata": {
        "colab_type": "text",
        "id": "LzyALl_NnDEA"
      },
      "source": [
        "In 2-dimensional space $\\mathbb{R}^2$, ANY vector (a,b) can be decomposed as the linear combination of the basis vectors (1,0) and (0,1). Since these are unit vectors, they are called \"orthonormal basis\".\n",
        "\n",
        "(a,b) = a(1,0) + b(0,1)"
      ]
    },
    {
      "cell_type": "code",
      "metadata": {
        "colab_type": "code",
        "id": "utvF3Pkt8NP6",
        "colab": {
          "base_uri": "https://localhost:8080/",
          "height": 281
        },
        "outputId": "b1f6ec2a-1eb9-4e7c-f2e8-161549dd2287"
      },
      "source": [
        "# find basis vectors in 2-d\n",
        "vector_1 = [-2, 2]\n",
        "vector_2 = [2, 2]\n",
        "\n",
        "# Plot the Scaled Vectors\n",
        "plt.arrow(0,0, vector_1[0], vector_1[1],head_width=.05, head_length=0.05, color ='red')\n",
        "plt.arrow(0,0, vector_2[0], vector_2[1],head_width=.05, head_length=0.05, color ='green')\n",
        "plt.xlim(-3,3)          \n",
        "plt.ylim(-1,3)\n",
        "plt.title(\"Basis for R^2\")\n",
        "plt.show()"
      ],
      "execution_count": null,
      "outputs": [
        {
          "output_type": "display_data",
          "data": {
            "image/png": "[encoded data removed]",
            "text/plain": [
              "<Figure size 432x288 with 1 Axes>"
            ]
          },
          "metadata": {
            "tags": [],
            "needs_background": "light"
          }
        }
      ]
    },
    {
      "cell_type": "markdown",
      "metadata": {
        "colab_type": "text",
        "id": "EHmUxbcY6vD3"
      },
      "source": [
        "## 7. Rank"
      ]
    },
    {
      "cell_type": "markdown",
      "metadata": {
        "colab_type": "text",
        "id": "5roiZXxGqLTA"
      },
      "source": [
        "Rank means the number of dimensions in the output of a matrix that's used for linear transformation. For example, when the output of a transformation is a line, we say the matrix has a rank of 1. If it's a plane, then it's rank 2. Put another way, Rank tells us the number of linearly independent vectors in the row space of a matrix and by extension the space of R^n that is spanned by the vectors of the matrix."
      ]
    },
    {
      "cell_type": "code",
      "metadata": {
        "colab_type": "code",
        "id": "Ms2wG0smnDED",
        "colab": {
          "base_uri": "https://localhost:8080/",
          "height": 35
        },
        "outputId": "f1f78d50-b221-4aec-c7b3-c5e14535e1d5"
      },
      "source": [
        "# Rank two\n",
        "P = np.array([[1,2,3],[4,5,6]])\n",
        "np.linalg.matrix_rank(P)"
      ],
      "execution_count": null,
      "outputs": [
        {
          "output_type": "execute_result",
          "data": {
            "text/plain": [
              "2"
            ]
          },
          "metadata": {
            "tags": []
          },
          "execution_count": 51
        }
      ]
    },
    {
      "cell_type": "markdown",
      "metadata": {
        "id": "aJtqKExPfLDI",
        "colab_type": "text"
      },
      "source": [
        "To find the span of multiple vectors you first have to find their rank. Because their matrix is rank 3, we know that these vectors span R^3."
      ]
    },
    {
      "cell_type": "code",
      "metadata": {
        "id": "8OgwHYRSfLDJ",
        "colab_type": "code",
        "colab": {
          "base_uri": "https://localhost:8080/",
          "height": 35
        },
        "outputId": "21ce83cd-7e1e-45f1-97e3-81c965f350a5"
      },
      "source": [
        "# example\n",
        "import numpy as np\n",
        "v1 = np.array([[2,4,6],[-2,0,3],[2,8,12]])\n",
        "np.linalg.matrix_rank(v1)"
      ],
      "execution_count": null,
      "outputs": [
        {
          "output_type": "execute_result",
          "data": {
            "text/plain": [
              "3"
            ]
          },
          "metadata": {
            "tags": []
          },
          "execution_count": 52
        }
      ]
    },
    {
      "cell_type": "code",
      "metadata": {
        "id": "IElucycwfLDM",
        "colab_type": "code",
        "colab": {
          "base_uri": "https://localhost:8080/",
          "height": 35
        },
        "outputId": "a977a610-e7a9-46bc-c134-fd7b68691116"
      },
      "source": [
        "matrix = pd.DataFrame({'a':[1,2,3],'b':[-1,0,7],'c':[4,8,2]})\n",
        "np.linalg.matrix_rank(matrix)"
      ],
      "execution_count": null,
      "outputs": [
        {
          "output_type": "execute_result",
          "data": {
            "text/plain": [
              "3"
            ]
          },
          "metadata": {
            "tags": []
          },
          "execution_count": 53
        }
      ]
    },
    {
      "cell_type": "code",
      "metadata": {
        "id": "3FVvZa7GfLDO",
        "colab_type": "code",
        "colab": {
          "base_uri": "https://localhost:8080/",
          "height": 35
        },
        "outputId": "8d5fbb4e-a53a-425c-c9fb-d5c10512abf5"
      },
      "source": [
        "# this also works if the vectors are introduced as columns\n",
        "import pandas as pd\n",
        "v2 = np.array([[1],[-2],[2]])\n",
        "v2=pd.DataFrame(v2)\n",
        "np.linalg.matrix_rank(v2)"
      ],
      "execution_count": null,
      "outputs": [
        {
          "output_type": "execute_result",
          "data": {
            "text/plain": [
              "1"
            ]
          },
          "metadata": {
            "tags": []
          },
          "execution_count": 54
        }
      ]
    },
    {
      "cell_type": "code",
      "metadata": {
        "colab_type": "code",
        "id": "nqFzLQTZnDEH",
        "colab": {
          "base_uri": "https://localhost:8080/",
          "height": 52
        },
        "outputId": "1531ca59-e7fb-4065-f5da-e226c759b756"
      },
      "source": [
        "# Return a 2-D array with ones on the diagonal and zeros elsewhere.\n",
        "np.eye(2)"
      ],
      "execution_count": null,
      "outputs": [
        {
          "output_type": "execute_result",
          "data": {
            "text/plain": [
              "array([[1., 0.],\n",
              "       [0., 1.]])"
            ]
          },
          "metadata": {
            "tags": []
          },
          "execution_count": 55
        }
      ]
    },
    {
      "cell_type": "code",
      "metadata": {
        "colab_type": "code",
        "id": "5wcAgs_hnDEJ",
        "colab": {
          "base_uri": "https://localhost:8080/",
          "height": 35
        },
        "outputId": "d81d3381-707f-4b86-b349-6650f5aaa441"
      },
      "source": [
        "# rank three\n",
        "P = np.array([[1,2,3],[-1,0,7],[4,8,2]])\n",
        "np.linalg.matrix_rank(P)"
      ],
      "execution_count": null,
      "outputs": [
        {
          "output_type": "execute_result",
          "data": {
            "text/plain": [
              "3"
            ]
          },
          "metadata": {
            "tags": []
          },
          "execution_count": 56
        }
      ]
    },
    {
      "cell_type": "code",
      "metadata": {
        "colab_type": "code",
        "id": "xR4wGh-mnDEK",
        "colab": {
          "base_uri": "https://localhost:8080/",
          "height": 86
        },
        "outputId": "b62e1aa7-206c-49f0-c07d-5abadb25f55b"
      },
      "source": [
        "# rank four\n",
        "np.eye(4)"
      ],
      "execution_count": null,
      "outputs": [
        {
          "output_type": "execute_result",
          "data": {
            "text/plain": [
              "array([[1., 0., 0., 0.],\n",
              "       [0., 1., 0., 0.],\n",
              "       [0., 0., 1., 0.],\n",
              "       [0., 0., 0., 1.]])"
            ]
          },
          "metadata": {
            "tags": []
          },
          "execution_count": 57
        }
      ]
    },
    {
      "cell_type": "code",
      "metadata": {
        "colab_type": "code",
        "id": "CmCHN8BynDEO",
        "colab": {
          "base_uri": "https://localhost:8080/",
          "height": 35
        },
        "outputId": "7dad6fcb-9aa3-4922-b96c-97fe6ba18f9e"
      },
      "source": [
        "# rank four\n",
        "np.linalg.matrix_rank(np.eye(4))"
      ],
      "execution_count": null,
      "outputs": [
        {
          "output_type": "execute_result",
          "data": {
            "text/plain": [
              "4"
            ]
          },
          "metadata": {
            "tags": []
          },
          "execution_count": 58
        }
      ]
    },
    {
      "cell_type": "code",
      "metadata": {
        "colab_type": "code",
        "id": "pmg3u_8rnDEQ",
        "colab": {
          "base_uri": "https://localhost:8080/",
          "height": 52
        },
        "outputId": "f24a57b8-407e-4996-d9bd-94d89d09b836"
      },
      "source": [
        "# Rank zero\n",
        "P = np.array([0])\n",
        "print(np.linalg.matrix_rank(P))\n",
        "np.eye(0)"
      ],
      "execution_count": null,
      "outputs": [
        {
          "output_type": "stream",
          "text": [
            "0\n"
          ],
          "name": "stdout"
        },
        {
          "output_type": "execute_result",
          "data": {
            "text/plain": [
              "array([], shape=(0, 0), dtype=float64)"
            ]
          },
          "metadata": {
            "tags": []
          },
          "execution_count": 59
        }
      ]
    },
    {
      "cell_type": "code",
      "metadata": {
        "colab_type": "code",
        "id": "CXi3f9nCnDES",
        "colab": {
          "base_uri": "https://localhost:8080/",
          "height": 35
        },
        "outputId": "a4675bc4-0823-48d9-f16e-7b67fa01e01a"
      },
      "source": [
        "# Rank one\n",
        "P = np.array([[1,2,3]])\n",
        "np.linalg.matrix_rank(P)"
      ],
      "execution_count": null,
      "outputs": [
        {
          "output_type": "execute_result",
          "data": {
            "text/plain": [
              "1"
            ]
          },
          "metadata": {
            "tags": []
          },
          "execution_count": 60
        }
      ]
    },
    {
      "cell_type": "code",
      "metadata": {
        "colab_type": "code",
        "id": "zgKI7dbrnDEU",
        "colab": {
          "base_uri": "https://localhost:8080/",
          "height": 35
        },
        "outputId": "500e2a89-6714-4d36-edc1-d9d6beac7a74"
      },
      "source": [
        "# Rank one\n",
        "np.eye(1)"
      ],
      "execution_count": null,
      "outputs": [
        {
          "output_type": "execute_result",
          "data": {
            "text/plain": [
              "array([[1.]])"
            ]
          },
          "metadata": {
            "tags": []
          },
          "execution_count": 61
        }
      ]
    },
    {
      "cell_type": "code",
      "metadata": {
        "colab_type": "code",
        "id": "RAPC6Gypsm7Y",
        "colab": {
          "base_uri": "https://localhost:8080/",
          "height": 35
        },
        "outputId": "69d9ee3e-09d1-4cfc-dd0f-a2f6423c0539"
      },
      "source": [
        "# try this one.\n",
        "P = np.array([[11,12,31],\n",
        "              [-12,20,17],\n",
        "              [41,18,22]])\n",
        "rank = np.linalg.matrix_rank(P)\n",
        "print(rank)"
      ],
      "execution_count": null,
      "outputs": [
        {
          "output_type": "stream",
          "text": [
            "3\n"
          ],
          "name": "stdout"
        }
      ]
    },
    {
      "cell_type": "markdown",
      "metadata": {
        "colab_type": "text",
        "id": "0Db2sc_V8QD6"
      },
      "source": [
        "## 8. Linear Projections\n",
        "\n",
        "Line $L$ is formed by all of the vectors that can be created by scaling vector $v$ "
      ]
    },
    {
      "cell_type": "code",
      "metadata": {
        "colab_type": "code",
        "id": "78Um7FqbnDEW",
        "colab": {}
      },
      "source": [
        "# Original Vector\n",
        "v = np.array([2,1])\n",
        "w = np.array([-3,3])"
      ],
      "execution_count": null,
      "outputs": []
    },
    {
      "cell_type": "code",
      "metadata": {
        "colab_type": "code",
        "id": "HJ3_u493nDEX",
        "colab": {}
      },
      "source": [
        "# dot product\n",
        "w_dot_v = np.dot(v, w)\n",
        "v_dot_v = np.dot(v, v)"
      ],
      "execution_count": null,
      "outputs": []
    },
    {
      "cell_type": "code",
      "metadata": {
        "colab_type": "code",
        "id": "5XqD6zY1nDEZ",
        "colab": {
          "base_uri": "https://localhost:8080/",
          "height": 35
        },
        "outputId": "cbf5f824-8d51-4dc8-ad49-1af34b4e6d54"
      },
      "source": [
        "# projection\n",
        "fraction = w_dot_v/v_dot_v\n",
        "projection = np.multiply(fraction,v)\n",
        "print(projection)"
      ],
      "execution_count": null,
      "outputs": [
        {
          "output_type": "stream",
          "text": [
            "[-1.2 -0.6]\n"
          ],
          "name": "stdout"
        }
      ]
    },
    {
      "cell_type": "code",
      "metadata": {
        "colab_type": "code",
        "id": "YPWYmarFoNv7",
        "colab": {
          "base_uri": "https://localhost:8080/",
          "height": 269
        },
        "outputId": "968c5aff-eaa8-4e4d-d2e6-4a19ed541f8b"
      },
      "source": [
        "# Plot a line\n",
        "plt.xlim(-1,4)          \n",
        "plt.ylim(-1,4)\n",
        "axes = plt.gca()"
      ],
      "execution_count": null,
      "outputs": [
        {
          "output_type": "display_data",
          "data": {
            "image/png": "[encoded data removed]",
            "text/plain": [
              "<Figure size 432x288 with 1 Axes>"
            ]
          },
          "metadata": {
            "tags": [],
            "needs_background": "light"
          }
        }
      ]
    },
    {
      "cell_type": "code",
      "metadata": {
        "colab_type": "code",
        "id": "OdC9qHz3nDEa",
        "colab": {}
      },
      "source": [
        "# Get Vals for L\n",
        "x_vals = np.array(axes.get_xlim())\n",
        "y_vals = 3*x_vals"
      ],
      "execution_count": null,
      "outputs": []
    },
    {
      "cell_type": "code",
      "metadata": {
        "colab_type": "code",
        "id": "hp5z2WTBCNKx",
        "colab": {
          "base_uri": "https://localhost:8080/",
          "height": 341
        },
        "outputId": "f05e7391-7845-4151-8044-329f25fd4010"
      },
      "source": [
        "# Axis Bounds\n",
        "plt.xlim(-2,4)          \n",
        "plt.ylim(-2,4)\n",
        "\n",
        "# Set axes\n",
        "axes = plt.gca()\n",
        "plt.axes().set_aspect('equal')\n",
        "\n",
        "# Plot Vectors and L\n",
        "plt.plot(x_vals, y_vals, '--', color='b', linewidth=1)"
      ],
      "execution_count": null,
      "outputs": [
        {
          "output_type": "stream",
          "text": [
            "/usr/local/lib/python3.6/dist-packages/ipykernel_launcher.py:7: MatplotlibDeprecationWarning: Adding an axes using the same arguments as a previous axes currently reuses the earlier instance.  In a future version, a new instance will always be created and returned.  Meanwhile, this warning can be suppressed, and the future behavior ensured, by passing a unique label to each axes instance.\n",
            "  import sys\n"
          ],
          "name": "stderr"
        },
        {
          "output_type": "execute_result",
          "data": {
            "text/plain": [
              "[<matplotlib.lines.Line2D at 0x7f24f1dd2e48>]"
            ]
          },
          "metadata": {
            "tags": []
          },
          "execution_count": 68
        },
        {
          "output_type": "display_data",
          "data": {
            "image/png": "[encoded data removed]",
            "text/plain": [
              "<Figure size 432x288 with 1 Axes>"
            ]
          },
          "metadata": {
            "tags": [],
            "needs_background": "light"
          }
        }
      ]
    },
    {
      "cell_type": "code",
      "metadata": {
        "colab_type": "code",
        "id": "Oy4cTNF_nDEf",
        "colab": {}
      },
      "source": [
        ""
      ],
      "execution_count": null,
      "outputs": []
    }
  ]
}