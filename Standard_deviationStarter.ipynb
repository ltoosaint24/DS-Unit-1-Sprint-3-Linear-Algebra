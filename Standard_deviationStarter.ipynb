{
  "nbformat": 4,
  "nbformat_minor": 0,
  "metadata": {
    "colab": {
      "name": "Starter.ipynb",
      "provenance": [],
      "collapsed_sections": [],
      "include_colab_link": true
    },
    "kernelspec": {
      "display_name": "Python 3",
      "language": "python",
      "name": "python3"
    },
    "language_info": {
      "codemirror_mode": {
        "name": "ipython",
        "version": 3
      },
      "file_extension": ".py",
      "mimetype": "text/x-python",
      "name": "python",
      "nbconvert_exporter": "python",
      "pygments_lexer": "ipython3",
      "version": "3.7.3"
    }
  },
  "cells": [
    {
      "cell_type": "markdown",
      "metadata": {
        "id": "view-in-github",
        "colab_type": "text"
      },
      "source": [
        "<a href=\"https://colab.research.google.com/github/ltoosaint24/DS-Unit-1-Sprint-3-Linear-Algebra/blob/master/Standard_deviationStarter.ipynb\" target=\"_parent\"><img src=\"https://colab.research.google.com/assets/colab-badge.svg\" alt=\"Open In Colab\"/></a>"
      ]
    },
    {
      "cell_type": "markdown",
      "metadata": {
        "colab_type": "text",
        "id": "GSNiYn8lr6nN"
      },
      "source": [
        "## 1. A review of statistical terms"
      ]
    },
    {
      "cell_type": "markdown",
      "metadata": {
        "colab_type": "text",
        "id": "3d4izUhQvh2_"
      },
      "source": [
        "### 1.1 Variance & Standard Deviation\n",
        "Suppose we have a list of widgets. What is the mean, variance, and standard deviation of this list?"
      ]
    },
    {
      "cell_type": "code",
      "metadata": {
        "id": "KTI7Mi_Ztahs",
        "colab_type": "code",
        "colab": {}
      },
      "source": [
        "# here's the list."
      ],
      "execution_count": null,
      "outputs": []
    },
    {
      "cell_type": "code",
      "metadata": {
        "id": "vfKc_QJJtahw",
        "colab_type": "code",
        "colab": {}
      },
      "source": [
        "# which libraries should we import here?"
      ],
      "execution_count": null,
      "outputs": []
    },
    {
      "cell_type": "code",
      "metadata": {
        "id": "g31MiWthtahy",
        "colab_type": "code",
        "colab": {},
        "outputId": "f96961a7-e864-479a-b72e-f5afbffbdf81"
      },
      "source": [
        "# find the mean"
      ],
      "execution_count": null,
      "outputs": [
        {
          "output_type": "stream",
          "text": [
            "mean widgets:  430.2\n"
          ],
          "name": "stdout"
        }
      ]
    },
    {
      "cell_type": "markdown",
      "metadata": {
        "id": "RVC5SmYMtah2",
        "colab_type": "text"
      },
      "source": [
        "#### Variance"
      ]
    },
    {
      "cell_type": "code",
      "metadata": {
        "id": "2SYSCLiEtah3",
        "colab_type": "code",
        "colab": {},
        "outputId": "f2e0cf86-7933-4746-8675-382ad6d47cde"
      },
      "source": [
        "# first write a little function \n",
        "\n",
        "# Note: this can be converted to lambda for efficiency:"
      ],
      "execution_count": null,
      "outputs": [
        {
          "output_type": "execute_result",
          "data": {
            "text/plain": [
              "<function __main__.<lambda>(x)>"
            ]
          },
          "metadata": {
            "tags": []
          },
          "execution_count": 4
        }
      ]
    },
    {
      "cell_type": "code",
      "metadata": {
        "id": "PeL1QXHitah6",
        "colab_type": "code",
        "colab": {}
      },
      "source": [
        "# use `map` to apply that function to our list "
      ],
      "execution_count": null,
      "outputs": []
    },
    {
      "cell_type": "code",
      "metadata": {
        "id": "Dw9t2SZYtah9",
        "colab_type": "code",
        "colab": {}
      },
      "source": [
        "# square and sum all of those distances"
      ],
      "execution_count": null,
      "outputs": []
    },
    {
      "cell_type": "code",
      "metadata": {
        "id": "M-33QI1StaiA",
        "colab_type": "code",
        "colab": {}
      },
      "source": [
        "# how long is our list?\n",
        "# for a sample taken from a population\n",
        "# for a whole population (no sample)"
      ],
      "execution_count": null,
      "outputs": []
    },
    {
      "cell_type": "code",
      "metadata": {
        "id": "OwxzuVNwtaiC",
        "colab_type": "code",
        "colab": {},
        "outputId": "8035f9c5-8fb0-474d-d9e2-f53a8e68b9ca"
      },
      "source": [
        "# calculate variance"
      ],
      "execution_count": null,
      "outputs": [
        {
          "output_type": "stream",
          "text": [
            "6408.16\n"
          ],
          "name": "stdout"
        }
      ]
    },
    {
      "cell_type": "markdown",
      "metadata": {
        "id": "jTLLrls0taiE",
        "colab_type": "text"
      },
      "source": [
        "#### standard dev"
      ]
    },
    {
      "cell_type": "code",
      "metadata": {
        "id": "2U62wFvltaiF",
        "colab_type": "code",
        "colab": {},
        "outputId": "ca3e63f1-e605-44ef-b933-e14b457bbca6"
      },
      "source": [
        "# calculate the standard deviation"
      ],
      "execution_count": null,
      "outputs": [
        {
          "output_type": "stream",
          "text": [
            "80.05\n",
            "80.05\n"
          ],
          "name": "stdout"
        }
      ]
    },
    {
      "cell_type": "code",
      "metadata": {
        "id": "AN_-7NlMtaiJ",
        "colab_type": "code",
        "colab": {},
        "outputId": "d05b22ed-543b-45e2-e929-096500642aad"
      },
      "source": [
        "# check our work using numpy"
      ],
      "execution_count": null,
      "outputs": [
        {
          "output_type": "stream",
          "text": [
            "430.2\n",
            "6408.16\n",
            "80.05\n"
          ],
          "name": "stdout"
        }
      ]
    },
    {
      "cell_type": "code",
      "metadata": {
        "colab_type": "code",
        "id": "w1iZfYvBtEA1",
        "colab": {},
        "outputId": "a501e4a3-fb61-4aba-d91b-e10237014238"
      },
      "source": [
        "# check our work using pandas"
      ],
      "execution_count": null,
      "outputs": [
        {
          "output_type": "stream",
          "text": [
            "mean: 430.2\n"
          ],
          "name": "stdout"
        }
      ]
    },
    {
      "cell_type": "code",
      "metadata": {
        "id": "6icsdXW6taiP",
        "colab_type": "code",
        "colab": {},
        "outputId": "5d72a8bc-d112-4914-f747-bf0b5de6cf2b"
      },
      "source": [
        "# for a population"
      ],
      "execution_count": null,
      "outputs": [
        {
          "output_type": "stream",
          "text": [
            "var: 6408.16\n",
            "std: 80.05\n"
          ],
          "name": "stdout"
        }
      ]
    },
    {
      "cell_type": "code",
      "metadata": {
        "id": "9rLQ54_KtaiR",
        "colab_type": "code",
        "colab": {},
        "outputId": "74ad2e8c-f25f-4aa6-9a42-7bb433e6d9ef"
      },
      "source": [
        "# for a sample"
      ],
      "execution_count": null,
      "outputs": [
        {
          "output_type": "stream",
          "text": [
            "var: 8010.20\n",
            "std: 89.50\n"
          ],
          "name": "stdout"
        }
      ]
    },
    {
      "cell_type": "markdown",
      "metadata": {
        "colab_type": "text",
        "id": "oh63KaOctEp_"
      },
      "source": [
        "### 1.2 Covariance\n",
        "Find the covariance between widgets and gadgets."
      ]
    },
    {
      "cell_type": "code",
      "metadata": {
        "colab_type": "code",
        "id": "G7ZB0krot564",
        "colab": {}
      },
      "source": [
        "# make a new list"
      ],
      "execution_count": null,
      "outputs": []
    },
    {
      "cell_type": "code",
      "metadata": {
        "id": "FWkopLOwtaiW",
        "colab_type": "code",
        "colab": {},
        "outputId": "b4a57568-28aa-4e8e-93e8-244e3ccf8506"
      },
      "source": [
        "# using numpy"
      ],
      "execution_count": null,
      "outputs": [
        {
          "output_type": "stream",
          "text": [
            "-2919.05\n"
          ],
          "name": "stdout"
        }
      ]
    },
    {
      "cell_type": "code",
      "metadata": {
        "id": "6RLXaU3NtaiY",
        "colab_type": "code",
        "colab": {},
        "outputId": "48e8d15c-7055-4aa2-9841-5517678cd521"
      },
      "source": [
        "# using pandas"
      ],
      "execution_count": null,
      "outputs": [
        {
          "output_type": "stream",
          "text": [
            "-2919.05\n"
          ],
          "name": "stdout"
        }
      ]
    },
    {
      "cell_type": "markdown",
      "metadata": {
        "colab_type": "text",
        "id": "J9SbUY9mt66I"
      },
      "source": [
        "### 1.3 Correlation Coefficient \n",
        "Find the correlation coefficient that summarizes the relationship between widgets and gadgets. "
      ]
    },
    {
      "cell_type": "code",
      "metadata": {
        "id": "rrfLK9CCtaic",
        "colab_type": "code",
        "colab": {},
        "outputId": "4d92a6ce-c2d1-42ff-d979-48e38f9d4725"
      },
      "source": [
        "# Calculate the standard dev of both lists using pandas."
      ],
      "execution_count": null,
      "outputs": [
        {
          "output_type": "stream",
          "text": [
            "89.4997\n",
            "151.2934\n"
          ],
          "name": "stdout"
        }
      ]
    },
    {
      "cell_type": "code",
      "metadata": {
        "id": "l_DMDN4otaif",
        "colab_type": "code",
        "colab": {},
        "outputId": "74f74174-c147-4d4d-eb94-55b3c67c9579"
      },
      "source": [
        "# Calculate covariance using pandas"
      ],
      "execution_count": null,
      "outputs": [
        {
          "output_type": "stream",
          "text": [
            "-2919.0500\n"
          ],
          "name": "stdout"
        }
      ]
    },
    {
      "cell_type": "code",
      "metadata": {
        "id": "SELCVU_0taih",
        "colab_type": "code",
        "colab": {}
      },
      "source": [
        "# Calculate the denominator"
      ],
      "execution_count": null,
      "outputs": []
    },
    {
      "cell_type": "code",
      "metadata": {
        "colab_type": "code",
        "id": "vFJms2YRrKhY",
        "colab": {},
        "outputId": "706e815a-7530-4d69-e3ec-bb00df83c379"
      },
      "source": [
        "# Calculate correlation"
      ],
      "execution_count": null,
      "outputs": [
        {
          "output_type": "stream",
          "text": [
            "-0.215576\n"
          ],
          "name": "stdout"
        }
      ]
    },
    {
      "cell_type": "code",
      "metadata": {
        "id": "sDeouCvktail",
        "colab_type": "code",
        "colab": {},
        "outputId": "71f2d47c-a0e9-4475-c978-d25ff51aa848"
      },
      "source": [
        "## Check work using pandas"
      ],
      "execution_count": null,
      "outputs": [
        {
          "output_type": "stream",
          "text": [
            "-0.215576\n"
          ],
          "name": "stdout"
        }
      ]
    },
    {
      "cell_type": "code",
      "metadata": {
        "id": "f-cdczPStain",
        "colab_type": "code",
        "colab": {},
        "outputId": "a9afd0f7-3b18-40d9-cda6-1f9a3a9db51d"
      },
      "source": [
        "# A shorter way to do this"
      ],
      "execution_count": null,
      "outputs": [
        {
          "output_type": "execute_result",
          "data": {
            "text/html": [
              "<div>\n",
              "<style scoped>\n",
              "    .dataframe tbody tr th:only-of-type {\n",
              "        vertical-align: middle;\n",
              "    }\n",
              "\n",
              "    .dataframe tbody tr th {\n",
              "        vertical-align: top;\n",
              "    }\n",
              "\n",
              "    .dataframe thead th {\n",
              "        text-align: right;\n",
              "    }\n",
              "</style>\n",
              "<table border=\"1\" class=\"dataframe\">\n",
              "  <thead>\n",
              "    <tr style=\"text-align: right;\">\n",
              "      <th></th>\n",
              "      <th>widgets</th>\n",
              "      <th>gadgets</th>\n",
              "    </tr>\n",
              "  </thead>\n",
              "  <tbody>\n",
              "    <tr>\n",
              "      <th>widgets</th>\n",
              "      <td>1.000000</td>\n",
              "      <td>-0.215576</td>\n",
              "    </tr>\n",
              "    <tr>\n",
              "      <th>gadgets</th>\n",
              "      <td>-0.215576</td>\n",
              "      <td>1.000000</td>\n",
              "    </tr>\n",
              "  </tbody>\n",
              "</table>\n",
              "</div>"
            ],
            "text/plain": [
              "          widgets   gadgets\n",
              "widgets  1.000000 -0.215576\n",
              "gadgets -0.215576  1.000000"
            ]
          },
          "metadata": {
            "tags": []
          },
          "execution_count": 22
        }
      ]
    },
    {
      "cell_type": "markdown",
      "metadata": {
        "colab_type": "text",
        "id": "IbZVf7nmujPJ"
      },
      "source": [
        "### 1.4 The Variance-Covariance Matrix\n",
        "Import a dataset of residential properties in Washington DC. Calculate the variance-covariance matrix and correlation matrix for the dataset's numeric columns."
      ]
    },
    {
      "cell_type": "code",
      "metadata": {
        "colab_type": "code",
        "id": "0TWgUIiaCFzq",
        "colab": {},
        "outputId": "30ed3e14-c4e6-4e74-ac99-363034e76d30"
      },
      "source": [
        "# source: https://www.kaggle.com/christophercorrea/dc-residential-properties/\n",
        "url = 'https://raw.githubusercontent.com/austinlasseter/dash-scatterplot-housing/master/dchouses.csv'\n"
      ],
      "execution_count": null,
      "outputs": [
        {
          "output_type": "execute_result",
          "data": {
            "text/html": [
              "<div>\n",
              "<style scoped>\n",
              "    .dataframe tbody tr th:only-of-type {\n",
              "        vertical-align: middle;\n",
              "    }\n",
              "\n",
              "    .dataframe tbody tr th {\n",
              "        vertical-align: top;\n",
              "    }\n",
              "\n",
              "    .dataframe thead th {\n",
              "        text-align: right;\n",
              "    }\n",
              "</style>\n",
              "<table border=\"1\" class=\"dataframe\">\n",
              "  <thead>\n",
              "    <tr style=\"text-align: right;\">\n",
              "      <th></th>\n",
              "      <th>BATHRM</th>\n",
              "      <th>HF_BATHRM</th>\n",
              "      <th>KITCHENS</th>\n",
              "      <th>HEAT</th>\n",
              "      <th>AC</th>\n",
              "      <th>ROOMS</th>\n",
              "      <th>PRICE</th>\n",
              "    </tr>\n",
              "  </thead>\n",
              "  <tbody>\n",
              "    <tr>\n",
              "      <th>0</th>\n",
              "      <td>1</td>\n",
              "      <td>1</td>\n",
              "      <td>1.0</td>\n",
              "      <td>Forced Air</td>\n",
              "      <td>Y</td>\n",
              "      <td>6</td>\n",
              "      <td>NaN</td>\n",
              "    </tr>\n",
              "    <tr>\n",
              "      <th>1</th>\n",
              "      <td>2</td>\n",
              "      <td>1</td>\n",
              "      <td>1.0</td>\n",
              "      <td>Hot Water Rad</td>\n",
              "      <td>Y</td>\n",
              "      <td>8</td>\n",
              "      <td>460000.0</td>\n",
              "    </tr>\n",
              "  </tbody>\n",
              "</table>\n",
              "</div>"
            ],
            "text/plain": [
              "   BATHRM  HF_BATHRM  KITCHENS           HEAT AC  ROOMS     PRICE\n",
              "0       1          1       1.0     Forced Air  Y      6       NaN\n",
              "1       2          1       1.0  Hot Water Rad  Y      8  460000.0"
            ]
          },
          "metadata": {
            "tags": []
          },
          "execution_count": 23
        }
      ]
    },
    {
      "cell_type": "code",
      "metadata": {
        "id": "TlEozw4Ttais",
        "colab_type": "code",
        "colab": {},
        "outputId": "1818d940-d271-4186-b8df-3c0d299c03c8"
      },
      "source": [
        "# calculate the covariance for the entire dataset"
      ],
      "execution_count": null,
      "outputs": [
        {
          "output_type": "execute_result",
          "data": {
            "text/html": [
              "<div>\n",
              "<style scoped>\n",
              "    .dataframe tbody tr th:only-of-type {\n",
              "        vertical-align: middle;\n",
              "    }\n",
              "\n",
              "    .dataframe tbody tr th {\n",
              "        vertical-align: top;\n",
              "    }\n",
              "\n",
              "    .dataframe thead th {\n",
              "        text-align: right;\n",
              "    }\n",
              "</style>\n",
              "<table border=\"1\" class=\"dataframe\">\n",
              "  <thead>\n",
              "    <tr style=\"text-align: right;\">\n",
              "      <th></th>\n",
              "      <th>BATHRM</th>\n",
              "      <th>HF_BATHRM</th>\n",
              "      <th>KITCHENS</th>\n",
              "      <th>ROOMS</th>\n",
              "      <th>PRICE</th>\n",
              "    </tr>\n",
              "  </thead>\n",
              "  <tbody>\n",
              "    <tr>\n",
              "      <th>BATHRM</th>\n",
              "      <td>1.007166</td>\n",
              "      <td>0.125448</td>\n",
              "      <td>0.329582</td>\n",
              "      <td>1.866127e+00</td>\n",
              "      <td>-5.164766e+05</td>\n",
              "    </tr>\n",
              "    <tr>\n",
              "      <th>HF_BATHRM</th>\n",
              "      <td>0.125448</td>\n",
              "      <td>0.340972</td>\n",
              "      <td>-0.067744</td>\n",
              "      <td>4.989159e-01</td>\n",
              "      <td>4.109166e+05</td>\n",
              "    </tr>\n",
              "    <tr>\n",
              "      <th>KITCHENS</th>\n",
              "      <td>0.329582</td>\n",
              "      <td>-0.067744</td>\n",
              "      <td>0.420696</td>\n",
              "      <td>9.291807e-01</td>\n",
              "      <td>-6.497264e+03</td>\n",
              "    </tr>\n",
              "    <tr>\n",
              "      <th>ROOMS</th>\n",
              "      <td>1.866127</td>\n",
              "      <td>0.498916</td>\n",
              "      <td>0.929181</td>\n",
              "      <td>7.218137e+00</td>\n",
              "      <td>-3.030853e+06</td>\n",
              "    </tr>\n",
              "    <tr>\n",
              "      <th>PRICE</th>\n",
              "      <td>-516476.554036</td>\n",
              "      <td>410916.625989</td>\n",
              "      <td>-6497.264022</td>\n",
              "      <td>-3.030853e+06</td>\n",
              "      <td>1.551202e+14</td>\n",
              "    </tr>\n",
              "  </tbody>\n",
              "</table>\n",
              "</div>"
            ],
            "text/plain": [
              "                  BATHRM      HF_BATHRM     KITCHENS         ROOMS  \\\n",
              "BATHRM          1.007166       0.125448     0.329582  1.866127e+00   \n",
              "HF_BATHRM       0.125448       0.340972    -0.067744  4.989159e-01   \n",
              "KITCHENS        0.329582      -0.067744     0.420696  9.291807e-01   \n",
              "ROOMS           1.866127       0.498916     0.929181  7.218137e+00   \n",
              "PRICE     -516476.554036  410916.625989 -6497.264022 -3.030853e+06   \n",
              "\n",
              "                  PRICE  \n",
              "BATHRM    -5.164766e+05  \n",
              "HF_BATHRM  4.109166e+05  \n",
              "KITCHENS  -6.497264e+03  \n",
              "ROOMS     -3.030853e+06  \n",
              "PRICE      1.551202e+14  "
            ]
          },
          "metadata": {
            "tags": []
          },
          "execution_count": 24
        }
      ]
    },
    {
      "cell_type": "code",
      "metadata": {
        "id": "KWdcrc6ttaiw",
        "colab_type": "code",
        "colab": {},
        "outputId": "bd68cc2a-a8fb-4137-cbad-7699e8bb8657"
      },
      "source": [
        "# calculate the correlation for the entire dataset"
      ],
      "execution_count": null,
      "outputs": [
        {
          "output_type": "execute_result",
          "data": {
            "text/html": [
              "<div>\n",
              "<style scoped>\n",
              "    .dataframe tbody tr th:only-of-type {\n",
              "        vertical-align: middle;\n",
              "    }\n",
              "\n",
              "    .dataframe tbody tr th {\n",
              "        vertical-align: top;\n",
              "    }\n",
              "\n",
              "    .dataframe thead th {\n",
              "        text-align: right;\n",
              "    }\n",
              "</style>\n",
              "<table border=\"1\" class=\"dataframe\">\n",
              "  <thead>\n",
              "    <tr style=\"text-align: right;\">\n",
              "      <th></th>\n",
              "      <th>BATHRM</th>\n",
              "      <th>HF_BATHRM</th>\n",
              "      <th>KITCHENS</th>\n",
              "      <th>ROOMS</th>\n",
              "      <th>PRICE</th>\n",
              "    </tr>\n",
              "  </thead>\n",
              "  <tbody>\n",
              "    <tr>\n",
              "      <th>BATHRM</th>\n",
              "      <td>1.000000</td>\n",
              "      <td>0.214070</td>\n",
              "      <td>0.461896</td>\n",
              "      <td>0.692115</td>\n",
              "      <td>-0.042109</td>\n",
              "    </tr>\n",
              "    <tr>\n",
              "      <th>HF_BATHRM</th>\n",
              "      <td>0.214070</td>\n",
              "      <td>1.000000</td>\n",
              "      <td>-0.173102</td>\n",
              "      <td>0.318021</td>\n",
              "      <td>0.058728</td>\n",
              "    </tr>\n",
              "    <tr>\n",
              "      <th>KITCHENS</th>\n",
              "      <td>0.461896</td>\n",
              "      <td>-0.173102</td>\n",
              "      <td>1.000000</td>\n",
              "      <td>0.592760</td>\n",
              "      <td>-0.021364</td>\n",
              "    </tr>\n",
              "    <tr>\n",
              "      <th>ROOMS</th>\n",
              "      <td>0.692115</td>\n",
              "      <td>0.318021</td>\n",
              "      <td>0.592760</td>\n",
              "      <td>1.000000</td>\n",
              "      <td>-0.088273</td>\n",
              "    </tr>\n",
              "    <tr>\n",
              "      <th>PRICE</th>\n",
              "      <td>-0.042109</td>\n",
              "      <td>0.058728</td>\n",
              "      <td>-0.021364</td>\n",
              "      <td>-0.088273</td>\n",
              "      <td>1.000000</td>\n",
              "    </tr>\n",
              "  </tbody>\n",
              "</table>\n",
              "</div>"
            ],
            "text/plain": [
              "             BATHRM  HF_BATHRM  KITCHENS     ROOMS     PRICE\n",
              "BATHRM     1.000000   0.214070  0.461896  0.692115 -0.042109\n",
              "HF_BATHRM  0.214070   1.000000 -0.173102  0.318021  0.058728\n",
              "KITCHENS   0.461896  -0.173102  1.000000  0.592760 -0.021364\n",
              "ROOMS      0.692115   0.318021  0.592760  1.000000 -0.088273\n",
              "PRICE     -0.042109   0.058728 -0.021364 -0.088273  1.000000"
            ]
          },
          "metadata": {
            "tags": []
          },
          "execution_count": 25
        }
      ]
    },
    {
      "cell_type": "markdown",
      "metadata": {
        "colab_type": "text",
        "id": "7K0Xfh8MvYkl"
      },
      "source": [
        "## 2. Orthogonality"
      ]
    },
    {
      "cell_type": "markdown",
      "metadata": {
        "colab_type": "text",
        "id": "MiNjyqiEz5SG"
      },
      "source": [
        "### 2.1 Quick review of norm and dot product."
      ]
    },
    {
      "cell_type": "code",
      "metadata": {
        "id": "tMB5nGTStaiz",
        "colab_type": "code",
        "colab": {},
        "outputId": "2b2e3262-b832-4f60-dc52-28c6d40eee35"
      },
      "source": [
        "# let's make a couple of vectors."
      ],
      "execution_count": null,
      "outputs": [
        {
          "output_type": "stream",
          "text": [
            "[75 25 76] \n",
            " [50 58 22]\n"
          ],
          "name": "stdout"
        }
      ]
    },
    {
      "cell_type": "code",
      "metadata": {
        "id": "KSqSF1CEtai1",
        "colab_type": "code",
        "colab": {},
        "outputId": "5c907b59-38dc-459b-992b-72b01a4cf0ca"
      },
      "source": [
        "# quick: which one is longer? "
      ],
      "execution_count": null,
      "outputs": [
        {
          "output_type": "stream",
          "text": [
            "12026.00\n",
            "6348.00\n"
          ],
          "name": "stdout"
        }
      ]
    },
    {
      "cell_type": "code",
      "metadata": {
        "id": "zzCuXI7Dtai5",
        "colab_type": "code",
        "colab": {},
        "outputId": "ad20395b-b8c3-47eb-fd2f-50a62d02ee14"
      },
      "source": [
        "# what's the dot product of x and v? using array broadcasting\n",
        "(v[0]*x[0]) + (v[1]*x[1]) + (v[2]*x[2])"
      ],
      "execution_count": null,
      "outputs": [
        {
          "output_type": "execute_result",
          "data": {
            "text/plain": [
              "6872"
            ]
          },
          "metadata": {
            "tags": []
          },
          "execution_count": 114
        }
      ]
    },
    {
      "cell_type": "code",
      "metadata": {
        "colab_type": "code",
        "id": "IlV_uaYK1EQB",
        "colab": {},
        "outputId": "dbfe5b92-2720-4c10-d0d3-7b036acabb4b"
      },
      "source": [
        "# what's the dot product of x and v? using numpy"
      ],
      "execution_count": null,
      "outputs": [
        {
          "output_type": "execute_result",
          "data": {
            "text/plain": [
              "6872"
            ]
          },
          "metadata": {
            "tags": []
          },
          "execution_count": 115
        }
      ]
    },
    {
      "cell_type": "code",
      "metadata": {
        "id": "PzXzRTsUtai-",
        "colab_type": "code",
        "colab": {},
        "outputId": "1e89a8eb-46a5-4dc5-c69a-abe4e6e87a29"
      },
      "source": [
        "# there's another way to write this."
      ],
      "execution_count": null,
      "outputs": [
        {
          "output_type": "execute_result",
          "data": {
            "text/plain": [
              "6872"
            ]
          },
          "metadata": {
            "tags": []
          },
          "execution_count": 116
        }
      ]
    },
    {
      "cell_type": "markdown",
      "metadata": {
        "colab_type": "text",
        "id": "Pe3eOZ2fvdZ-"
      },
      "source": [
        "### 2.2 Orthogonality"
      ]
    },
    {
      "cell_type": "code",
      "metadata": {
        "colab_type": "code",
        "id": "YLSBk7hJvvCx",
        "colab": {}
      },
      "source": [
        "# import"
      ],
      "execution_count": null,
      "outputs": []
    },
    {
      "cell_type": "code",
      "metadata": {
        "id": "HE443onOtajC",
        "colab_type": "code",
        "colab": {}
      },
      "source": [
        "# choose some vectors"
      ],
      "execution_count": null,
      "outputs": []
    },
    {
      "cell_type": "code",
      "metadata": {
        "id": "5WoGD-IDtajE",
        "colab_type": "code",
        "colab": {},
        "outputId": "53dd1ab7-3e96-400c-930f-48df2e3247bf"
      },
      "source": [
        "# Set up the figure so that x and y axes are symmetrical.\n",
        "\n",
        "fig, ax = plt.subplots(figsize=(4,4))\n",
        "ax.grid()\n",
        "plt.xlim(-2,3)          \n",
        "plt.ylim(-2,3)\n",
        "\n",
        "# Plot the vectors"
      ],
      "execution_count": null,
      "outputs": [
        {
          "output_type": "display_data",
          "data": {
            "image/png": "[encoded data removed]",
            "text/plain": [
              "<Figure size 288x288 with 1 Axes>"
            ]
          },
          "metadata": {
            "tags": [],
            "needs_background": "light"
          }
        }
      ]
    },
    {
      "cell_type": "markdown",
      "metadata": {
        "colab_type": "text",
        "id": "7AS4V1Nhvvxz"
      },
      "source": [
        "Are the following vectors orthogonal?"
      ]
    },
    {
      "cell_type": "code",
      "metadata": {
        "colab_type": "code",
        "id": "F_-y54YSz47k",
        "colab": {},
        "outputId": "c021c2e9-b654-4189-d46c-1258bb314876"
      },
      "source": [
        "# If dot product != 0, then vectors are not orthogonal."
      ],
      "execution_count": null,
      "outputs": [
        {
          "output_type": "execute_result",
          "data": {
            "text/plain": [
              "47"
            ]
          },
          "metadata": {
            "tags": []
          },
          "execution_count": 30
        }
      ]
    },
    {
      "cell_type": "code",
      "metadata": {
        "id": "fAMfitQntajI",
        "colab_type": "code",
        "colab": {},
        "outputId": "69e73e3e-03a7-454f-bced-66b1e438b6fe"
      },
      "source": [
        "# If dot product = 0, then vectors are orthogonal."
      ],
      "execution_count": null,
      "outputs": [
        {
          "output_type": "execute_result",
          "data": {
            "text/plain": [
              "0"
            ]
          },
          "metadata": {
            "tags": []
          },
          "execution_count": 132
        }
      ]
    },
    {
      "cell_type": "code",
      "metadata": {
        "id": "jJSlrA2GtajK",
        "colab_type": "code",
        "colab": {},
        "outputId": "af6dd4f8-0a83-4fb9-ae50-106fbd58a98a"
      },
      "source": [
        "# If dot product = 0, then vectors are orthogonal."
      ],
      "execution_count": null,
      "outputs": [
        {
          "output_type": "execute_result",
          "data": {
            "text/plain": [
              "0"
            ]
          },
          "metadata": {
            "tags": []
          },
          "execution_count": 136
        }
      ]
    },
    {
      "cell_type": "code",
      "metadata": {
        "id": "7UeW7XPntajM",
        "colab_type": "code",
        "colab": {},
        "outputId": "e81c23a9-8f3e-48f4-c9b5-5fa1ecc08226"
      },
      "source": [
        "# For any vector, generate another vector that is orthogonal to it."
      ],
      "execution_count": null,
      "outputs": [
        {
          "output_type": "stream",
          "text": [
            "[-0.72669511  0.76308679 -1.15841465]\n",
            "[ 0.02951438 -0.58997391 -0.40715063]\n",
            "-0.00000000\n"
          ],
          "name": "stdout"
        }
      ]
    },
    {
      "cell_type": "markdown",
      "metadata": {
        "colab_type": "text",
        "id": "MK_TpWqk1Evk"
      },
      "source": [
        "## 3. Unit Vectors"
      ]
    },
    {
      "cell_type": "code",
      "metadata": {
        "colab_type": "code",
        "id": "I3W8ZiHR1_Fa",
        "colab": {},
        "outputId": "097a0c64-38d6-4ddc-9324-ff3dc19b04f9"
      },
      "source": [
        "# Suppose we have a vector f."
      ],
      "execution_count": null,
      "outputs": [
        {
          "output_type": "execute_result",
          "data": {
            "text/plain": [
              "array([32, 83, 32, 86, 61])"
            ]
          },
          "metadata": {
            "tags": []
          },
          "execution_count": 140
        }
      ]
    },
    {
      "cell_type": "code",
      "metadata": {
        "id": "g-b-5wOmtajT",
        "colab_type": "code",
        "colab": {},
        "outputId": "f7615e36-8a33-426c-e9f7-61f2b260b1b4"
      },
      "source": [
        "# how long is it?"
      ],
      "execution_count": null,
      "outputs": [
        {
          "output_type": "stream",
          "text": [
            "141.6121\n"
          ],
          "name": "stdout"
        }
      ]
    },
    {
      "cell_type": "code",
      "metadata": {
        "id": "MMR8s6rOtajV",
        "colab_type": "code",
        "colab": {},
        "outputId": "0eab3b82-0ffa-4279-fae5-4e8d23642400"
      },
      "source": [
        "# find its unit vector. the hat symbol (f^) indicates it's a unit vector."
      ],
      "execution_count": null,
      "outputs": [
        {
          "output_type": "stream",
          "text": [
            "[0.20908335 0.62725005 0.57497921 0.47043754 0.10454167]\n"
          ],
          "name": "stdout"
        }
      ]
    },
    {
      "cell_type": "code",
      "metadata": {
        "id": "ONAXN9lYtajX",
        "colab_type": "code",
        "colab": {},
        "outputId": "b09febff-3a9d-4033-bd9b-c96a2ec63841"
      },
      "source": [
        "# how long is this?"
      ],
      "execution_count": null,
      "outputs": [
        {
          "output_type": "stream",
          "text": [
            "1.0000\n"
          ],
          "name": "stdout"
        }
      ]
    },
    {
      "cell_type": "markdown",
      "metadata": {
        "colab_type": "text",
        "id": "o39UyP-I5lpP"
      },
      "source": [
        "## 4. Linear Independence / Dependence "
      ]
    },
    {
      "cell_type": "markdown",
      "metadata": {
        "colab_type": "text",
        "id": "ajfBqYe45sT5"
      },
      "source": [
        "Plot two vectors that are linearly dependent and two vectors that are linearly independent (bonus points if done in $\\mathbb{R}^3$)."
      ]
    },
    {
      "cell_type": "code",
      "metadata": {
        "id": "qjAy1v6ttaja",
        "colab_type": "code",
        "colab": {},
        "outputId": "cbb028e7-ca73-44af-8464-b4f94bcf774f"
      },
      "source": [
        "# Linearly dependent vectors"
      ],
      "execution_count": null,
      "outputs": [
        {
          "output_type": "stream",
          "text": [
            "[-0.8, 1.3] \n",
            " [-1.6  2.6]\n"
          ],
          "name": "stdout"
        }
      ]
    },
    {
      "cell_type": "code",
      "metadata": {
        "id": "F72b1z8Stajd",
        "colab_type": "code",
        "colab": {},
        "outputId": "1c399aeb-ad2a-478a-a41f-af2601cea311"
      },
      "source": [
        "# Plot the vectors\n",
        "\n",
        "fig, ax = plt.subplots(figsize=(4,4))\n",
        "ax.grid()\n",
        "plt.xlim(-3,3)          \n",
        "plt.ylim(-3,3)\n"
      ],
      "execution_count": null,
      "outputs": [
        {
          "output_type": "display_data",
          "data": {
            "image/png": "[encoded data removed]",
            "text/plain": [
              "<Figure size 288x288 with 1 Axes>"
            ]
          },
          "metadata": {
            "tags": [],
            "needs_background": "light"
          }
        }
      ]
    },
    {
      "cell_type": "code",
      "metadata": {
        "id": "CQP_K-81tajf",
        "colab_type": "code",
        "colab": {},
        "outputId": "9928fa06-98a3-4387-adf0-cb4f45c8d3a5"
      },
      "source": [
        "# Linearly independent vectors, not orthogonal"
      ],
      "execution_count": null,
      "outputs": [
        {
          "output_type": "stream",
          "text": [
            "[-3  1] \n",
            " [0 1]\n"
          ],
          "name": "stdout"
        }
      ]
    },
    {
      "cell_type": "code",
      "metadata": {
        "id": "8tPTZxXatajh",
        "colab_type": "code",
        "colab": {},
        "outputId": "a9eef1af-483c-4f66-cc7a-c138cb14a1da"
      },
      "source": [
        "# Set up the grid\n",
        "fig, ax = plt.subplots(figsize=(4,4))\n",
        "ax.grid()\n",
        "plt.xlim(-3,3)          \n",
        "plt.ylim(-3,3)\n",
        "\n",
        "# Plot the vectors"
      ],
      "execution_count": null,
      "outputs": [
        {
          "output_type": "display_data",
          "data": {
            "image/png": "[encoded data removed]",
            "text/plain": [
              "<Figure size 288x288 with 1 Axes>"
            ]
          },
          "metadata": {
            "tags": [],
            "needs_background": "light"
          }
        }
      ]
    },
    {
      "cell_type": "markdown",
      "metadata": {
        "colab_type": "text",
        "id": "TrJ0MT_n3SvO"
      },
      "source": [
        "## 5. Span"
      ]
    },
    {
      "cell_type": "code",
      "metadata": {
        "colab_type": "code",
        "id": "p1i_ueD25ZcP",
        "colab": {}
      },
      "source": [
        "Suppose we have two vectors. The linear combination is as follows, where a and b are any scalars.\n",
        "\n",
        "\\begin{align}\n",
        "a\\begin{bmatrix} 1 & 3 \\end{bmatrix} +\n",
        "b\\begin{bmatrix} 2 & 1 \\end{bmatrix}\n",
        "\\end{align}\n",
        "\n",
        "Note that:\n",
        "* The set of all possible linear combinations (i.e., all possible values of a and b) is the span of these vectors. \n",
        "* A set of vectors _spans_ a space if their linear combinations fill the space.\n",
        "* The span of most pairs of 2D vectors is the entire infinite sheet of infinite space (unless they are colinear). "
      ],
      "execution_count": null,
      "outputs": []
    },
    {
      "cell_type": "code",
      "metadata": {
        "id": "90sxwnE5tajk",
        "colab_type": "code",
        "colab": {}
      },
      "source": [
        "# Let's take two vectors."
      ],
      "execution_count": null,
      "outputs": []
    },
    {
      "cell_type": "code",
      "metadata": {
        "id": "womwdy4Otajm",
        "colab_type": "code",
        "colab": {},
        "outputId": "d1a52fd4-0ad0-4740-a272-80d46d746c83"
      },
      "source": [
        "# Plot them on a grid\n",
        "fig, ax = plt.subplots(figsize=(4,4))\n",
        "ax.grid()\n",
        "plt.xlim(-5,5)          \n",
        "plt.ylim(-5,5)\n",
        "\n",
        "# Display"
      ],
      "execution_count": null,
      "outputs": [
        {
          "output_type": "display_data",
          "data": {
            "image/png": "[encoded data removed]",
            "text/plain": [
              "<Figure size 288x288 with 1 Axes>"
            ]
          },
          "metadata": {
            "tags": [],
            "needs_background": "light"
          }
        }
      ]
    },
    {
      "cell_type": "code",
      "metadata": {
        "id": "8UiMiayGtajo",
        "colab_type": "code",
        "colab": {},
        "outputId": "fba9a6b0-1f1d-464e-a557-0fb5c8c90e0b"
      },
      "source": [
        "# This is one possible linear combination:"
      ],
      "execution_count": null,
      "outputs": [
        {
          "output_type": "stream",
          "text": [
            "[8 9]\n"
          ],
          "name": "stdout"
        }
      ]
    },
    {
      "cell_type": "code",
      "metadata": {
        "id": "OQpfKAmotajs",
        "colab_type": "code",
        "colab": {},
        "outputId": "3e8d7390-dcb4-452b-9780-9baedbe129b9"
      },
      "source": [
        "# This is a set of several linear combinations:"
      ],
      "execution_count": null,
      "outputs": [
        {
          "output_type": "stream",
          "text": [
            "[array([8, 9]), array([14, 17]), array([20, 25]), array([26, 33])]\n"
          ],
          "name": "stdout"
        }
      ]
    },
    {
      "cell_type": "markdown",
      "metadata": {
        "colab_type": "text",
        "id": "IBqe7X1732kX"
      },
      "source": [
        "## 6. Basis"
      ]
    },
    {
      "cell_type": "markdown",
      "metadata": {
        "id": "Nl_FMTgJtajy",
        "colab_type": "text"
      },
      "source": [
        "In 2-dimensional space $\\mathbb{R}^2$, ANY vector (a,b) can be decomposed as the linear combination of the basis vectors (1,0) and (0,1). Since these are unit vectors, they are called \"orthonormal basis\".\n",
        "\n",
        "(a,b) = a(1,0) + b(0,1)"
      ]
    },
    {
      "cell_type": "code",
      "metadata": {
        "colab_type": "code",
        "id": "utvF3Pkt8NP6",
        "colab": {},
        "outputId": "7f96afec-3082-41b8-fbf0-56c59c92dd76"
      },
      "source": [
        "# find basis vectors in 2-d\n",
        "vector_1 = [-2, 2]\n",
        "vector_2 = [2, 2]\n",
        "\n",
        "# Plot the Scaled Vectors"
      ],
      "execution_count": null,
      "outputs": [
        {
          "output_type": "display_data",
          "data": {
            "image/png": "[encoded data removed]",
            "text/plain": [
              "<Figure size 432x288 with 1 Axes>"
            ]
          },
          "metadata": {
            "tags": [],
            "needs_background": "light"
          }
        }
      ]
    },
    {
      "cell_type": "markdown",
      "metadata": {
        "colab_type": "text",
        "id": "EHmUxbcY6vD3"
      },
      "source": [
        "## 7. Rank"
      ]
    },
    {
      "cell_type": "markdown",
      "metadata": {
        "id": "jz9jMuUftyBD",
        "colab_type": "text"
      },
      "source": [
        "Rank means the number of dimensions in the output of a matrix that's used for linear transformation. For example, when the output of a transformation is a line, we say the matrix has a rank of 1. If it's a plane, then it's rank 2. Put another way, Rank tells us the number of linearly independent vectors in the row space of a matrix and by extension the space of R^n that is spanned by the vectors of the matrix."
      ]
    },
    {
      "cell_type": "code",
      "metadata": {
        "id": "1phBsRFZtaj2",
        "colab_type": "code",
        "colab": {},
        "outputId": "a3e58b38-5adb-4e76-9580-840397b1308b"
      },
      "source": [
        "# Rank two"
      ],
      "execution_count": null,
      "outputs": [
        {
          "output_type": "execute_result",
          "data": {
            "text/plain": [
              "2"
            ]
          },
          "metadata": {
            "tags": []
          },
          "execution_count": 284
        }
      ]
    },
    {
      "cell_type": "code",
      "metadata": {
        "id": "pI-8Ivlitaj5",
        "colab_type": "code",
        "colab": {},
        "outputId": "fe772781-6c73-4947-b922-ab0f4c490ca6"
      },
      "source": [
        "# Return a 2-D array with ones on the diagonal and zeros elsewhere."
      ],
      "execution_count": null,
      "outputs": [
        {
          "output_type": "execute_result",
          "data": {
            "text/plain": [
              "array([[1., 0.],\n",
              "       [0., 1.]])"
            ]
          },
          "metadata": {
            "tags": []
          },
          "execution_count": 290
        }
      ]
    },
    {
      "cell_type": "code",
      "metadata": {
        "id": "WOC0FhKHtaj7",
        "colab_type": "code",
        "colab": {}
      },
      "source": [
        "# rank three"
      ],
      "execution_count": null,
      "outputs": []
    },
    {
      "cell_type": "code",
      "metadata": {
        "id": "Xqk94KuEtaj9",
        "colab_type": "code",
        "colab": {},
        "outputId": "7eba4ddc-516b-4c35-8ac5-5440311fbea7"
      },
      "source": [
        "# rank four"
      ],
      "execution_count": null,
      "outputs": [
        {
          "output_type": "execute_result",
          "data": {
            "text/plain": [
              "array([[1., 0., 0., 0.],\n",
              "       [0., 1., 0., 0.],\n",
              "       [0., 0., 1., 0.],\n",
              "       [0., 0., 0., 1.]])"
            ]
          },
          "metadata": {
            "tags": []
          },
          "execution_count": 288
        }
      ]
    },
    {
      "cell_type": "code",
      "metadata": {
        "id": "wbKwRgBptaj_",
        "colab_type": "code",
        "colab": {},
        "outputId": "6b725530-61d7-4ee1-aee5-028dd1f1a3b6"
      },
      "source": [
        "# rank four"
      ],
      "execution_count": null,
      "outputs": [
        {
          "output_type": "execute_result",
          "data": {
            "text/plain": [
              "4"
            ]
          },
          "metadata": {
            "tags": []
          },
          "execution_count": 287
        }
      ]
    },
    {
      "cell_type": "code",
      "metadata": {
        "id": "Q7RmniWNtakC",
        "colab_type": "code",
        "colab": {},
        "outputId": "92cc40cd-28c9-4fff-a23c-73d5c72c52b7"
      },
      "source": [
        "# Rank zero"
      ],
      "execution_count": null,
      "outputs": [
        {
          "output_type": "stream",
          "text": [
            "0\n"
          ],
          "name": "stdout"
        },
        {
          "output_type": "execute_result",
          "data": {
            "text/plain": [
              "array([], shape=(0, 0), dtype=float64)"
            ]
          },
          "metadata": {
            "tags": []
          },
          "execution_count": 292
        }
      ]
    },
    {
      "cell_type": "code",
      "metadata": {
        "id": "ihr8UpRvtakE",
        "colab_type": "code",
        "colab": {},
        "outputId": "0d771e42-c518-4dc2-fafa-3588b279addc"
      },
      "source": [
        "# Rank one"
      ],
      "execution_count": null,
      "outputs": [
        {
          "output_type": "execute_result",
          "data": {
            "text/plain": [
              "array([[1.]])"
            ]
          },
          "metadata": {
            "tags": []
          },
          "execution_count": 293
        }
      ]
    },
    {
      "cell_type": "code",
      "metadata": {
        "id": "f-m6eIi9takG",
        "colab_type": "code",
        "colab": {},
        "outputId": "a7881397-6ed4-4e5c-ac4d-d06f2cc357d2"
      },
      "source": [
        "# Rank one"
      ],
      "execution_count": null,
      "outputs": [
        {
          "output_type": "execute_result",
          "data": {
            "text/plain": [
              "array([[1.]])"
            ]
          },
          "metadata": {
            "tags": []
          },
          "execution_count": 289
        }
      ]
    },
    {
      "cell_type": "code",
      "metadata": {
        "id": "PzW6TyWXt2Ko",
        "colab_type": "code",
        "colab": {}
      },
      "source": [
        "# try this one.\n",
        "P = np.array([[11,12,31],\n",
        "              [-12,20,17],\n",
        "              [41,18,22]])\n"
      ],
      "execution_count": null,
      "outputs": []
    },
    {
      "cell_type": "markdown",
      "metadata": {
        "colab_type": "text",
        "id": "0Db2sc_V8QD6"
      },
      "source": [
        "## 8. Linear Projections\n",
        "\n",
        "Line $L$ is formed by all of the vectors that can be created by scaling vector $v$ "
      ]
    },
    {
      "cell_type": "code",
      "metadata": {
        "id": "KnzG8N30takI",
        "colab_type": "code",
        "colab": {}
      },
      "source": [
        "# Original Vector"
      ],
      "execution_count": null,
      "outputs": []
    },
    {
      "cell_type": "code",
      "metadata": {
        "id": "oalZMvsgtakJ",
        "colab_type": "code",
        "colab": {}
      },
      "source": [
        "# dot product"
      ],
      "execution_count": null,
      "outputs": []
    },
    {
      "cell_type": "code",
      "metadata": {
        "id": "vLTMKE9BtakL",
        "colab_type": "code",
        "colab": {},
        "outputId": "f1bf43fd-c00e-48be-a257-e9898a64a2af"
      },
      "source": [
        "# projection"
      ],
      "execution_count": null,
      "outputs": [
        {
          "output_type": "stream",
          "text": [
            "[1.  0.5]\n"
          ],
          "name": "stdout"
        }
      ]
    },
    {
      "cell_type": "code",
      "metadata": {
        "id": "F70QN5zbuGkm",
        "colab_type": "code",
        "colab": {}
      },
      "source": [
        "# Plot a line\n"
      ],
      "execution_count": null,
      "outputs": []
    },
    {
      "cell_type": "code",
      "metadata": {
        "id": "rjl0n4RytakM",
        "colab_type": "code",
        "colab": {}
      },
      "source": [
        "# Get Vals for L"
      ],
      "execution_count": null,
      "outputs": []
    },
    {
      "cell_type": "code",
      "metadata": {
        "colab_type": "code",
        "id": "hp5z2WTBCNKx",
        "colab": {},
        "outputId": "dbe17f8a-739a-449d-969d-bd5a182cbb70"
      },
      "source": [
        "# Axis Bounds\n",
        "plt.xlim(-2,4)          \n",
        "plt.ylim(-2,4)\n",
        "\n",
        "# Set axes\n",
        "axes = plt.gca()\n",
        "plt.axes().set_aspect('equal')\n",
        "\n",
        "# Plot Vectors and L"
      ],
      "execution_count": null,
      "outputs": [
        {
          "output_type": "stream",
          "text": [
            "//anaconda3/lib/python3.7/site-packages/ipykernel_launcher.py:7: MatplotlibDeprecationWarning: Adding an axes using the same arguments as a previous axes currently reuses the earlier instance.  In a future version, a new instance will always be created and returned.  Meanwhile, this warning can be suppressed, and the future behavior ensured, by passing a unique label to each axes instance.\n",
            "  import sys\n"
          ],
          "name": "stderr"
        },
        {
          "output_type": "display_data",
          "data": {
            "image/png": "[encoded data removed]",
            "text/plain": [
              "<Figure size 432x288 with 1 Axes>"
            ]
          },
          "metadata": {
            "tags": [],
            "needs_background": "light"
          }
        }
      ]
    },
    {
      "cell_type": "code",
      "metadata": {
        "id": "ipR3ZFG9takP",
        "colab_type": "code",
        "colab": {}
      },
      "source": [
        ""
      ],
      "execution_count": null,
      "outputs": []
    }
  ]
}