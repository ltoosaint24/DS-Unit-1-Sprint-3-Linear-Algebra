{
  "nbformat": 4,
  "nbformat_minor": 0,
  "metadata": {
    "colab": {
      "name": "Loveline_Toussaint_LS_DS_134_Clustering_Assignment.ipynb",
      "provenance": [],
      "collapsed_sections": [],
      "include_colab_link": true
    },
    "kernelspec": {
      "name": "python3",
      "display_name": "Python 3"
    }
  },
  "cells": [
    {
      "cell_type": "markdown",
      "metadata": {
        "id": "view-in-github",
        "colab_type": "text"
      },
      "source": [
        "<a href=\"https://colab.research.google.com/github/ltoosaint24/DS-Unit-1-Sprint-3-Linear-Algebra/blob/master/Loveline_Toussaint_LS_DS_134_Clustering_Assignment.ipynb\" target=\"_parent\"><img src=\"https://colab.research.google.com/assets/colab-badge.svg\" alt=\"Open In Colab\"/></a>"
      ]
    },
    {
      "cell_type": "markdown",
      "metadata": {
        "id": "y-3rVFtGLMJM",
        "colab_type": "text"
      },
      "source": [
        "# K-Means Clustering"
      ]
    },
    {
      "cell_type": "markdown",
      "metadata": {
        "id": "_VS3FFSFLR3a",
        "colab_type": "text"
      },
      "source": [
        "# 1) Use the \"Breast Cancer Wisconsin (Diagnostic) Data Set\" from Kaggle to try and cluster types of cancer cells. \n",
        "\n",
        "Here's the original dataset for your reference:\n",
        "\n",
        "<https://www.kaggle.com/uciml/breast-cancer-wisconsin-data>"
      ]
    },
    {
      "cell_type": "markdown",
      "metadata": {
        "id": "899RK3bBn4OE",
        "colab_type": "text"
      },
      "source": [
        "## This is a supervised learning dataset\n",
        "\n",
        "(Because it has **labels** - The \"diagnosis\" column.)"
      ]
    },
    {
      "cell_type": "code",
      "metadata": {
        "id": "ws5R9X6hLJQ2",
        "colab_type": "code",
        "colab": {
          "base_uri": "https://localhost:8080/",
          "height": 252
        },
        "outputId": "abf0cb0c-04e4-42eb-9b69-a357e16766a4"
      },
      "source": [
        "import pandas as pd\n",
        "import numpy as np\n",
        "import matplotlib.pyplot as plt\n",
        "from sklearn.decomposition import PCA # You don't necessarily have to use this\n",
        "from sklearn.cluster import KMeans # You don't necessarily have to use this\n",
        "from sklearn.preprocessing import StandardScaler # You don't necessarily have to use this\n",
        "\n",
        "dfz = pd.read_csv(\"https://raw.githubusercontent.com/ryanleeallred/datasets/master/Cancer_Cells.csv\")\n",
        "print(dfz.shape)\n",
        "dfz.head()"
      ],
      "execution_count": 12,
      "outputs": [
        {
          "output_type": "stream",
          "text": [
            "(569, 33)\n"
          ],
          "name": "stdout"
        },
        {
          "output_type": "execute_result",
          "data": {
            "text/html": [
              "<div>\n",
              "<style scoped>\n",
              "    .dataframe tbody tr th:only-of-type {\n",
              "        vertical-align: middle;\n",
              "    }\n",
              "\n",
              "    .dataframe tbody tr th {\n",
              "        vertical-align: top;\n",
              "    }\n",
              "\n",
              "    .dataframe thead th {\n",
              "        text-align: right;\n",
              "    }\n",
              "</style>\n",
              "<table border=\"1\" class=\"dataframe\">\n",
              "  <thead>\n",
              "    <tr style=\"text-align: right;\">\n",
              "      <th></th>\n",
              "      <th>id</th>\n",
              "      <th>diagnosis</th>\n",
              "      <th>radius_mean</th>\n",
              "      <th>texture_mean</th>\n",
              "      <th>perimeter_mean</th>\n",
              "      <th>area_mean</th>\n",
              "      <th>smoothness_mean</th>\n",
              "      <th>compactness_mean</th>\n",
              "      <th>concavity_mean</th>\n",
              "      <th>concave points_mean</th>\n",
              "      <th>symmetry_mean</th>\n",
              "      <th>fractal_dimension_mean</th>\n",
              "      <th>radius_se</th>\n",
              "      <th>texture_se</th>\n",
              "      <th>perimeter_se</th>\n",
              "      <th>area_se</th>\n",
              "      <th>smoothness_se</th>\n",
              "      <th>compactness_se</th>\n",
              "      <th>concavity_se</th>\n",
              "      <th>concave points_se</th>\n",
              "      <th>symmetry_se</th>\n",
              "      <th>fractal_dimension_se</th>\n",
              "      <th>radius_worst</th>\n",
              "      <th>texture_worst</th>\n",
              "      <th>perimeter_worst</th>\n",
              "      <th>area_worst</th>\n",
              "      <th>smoothness_worst</th>\n",
              "      <th>compactness_worst</th>\n",
              "      <th>concavity_worst</th>\n",
              "      <th>concave points_worst</th>\n",
              "      <th>symmetry_worst</th>\n",
              "      <th>fractal_dimension_worst</th>\n",
              "      <th>Unnamed: 32</th>\n",
              "    </tr>\n",
              "  </thead>\n",
              "  <tbody>\n",
              "    <tr>\n",
              "      <th>0</th>\n",
              "      <td>842302</td>\n",
              "      <td>M</td>\n",
              "      <td>17.99</td>\n",
              "      <td>10.38</td>\n",
              "      <td>122.80</td>\n",
              "      <td>1001.0</td>\n",
              "      <td>0.11840</td>\n",
              "      <td>0.27760</td>\n",
              "      <td>0.3001</td>\n",
              "      <td>0.14710</td>\n",
              "      <td>0.2419</td>\n",
              "      <td>0.07871</td>\n",
              "      <td>1.0950</td>\n",
              "      <td>0.9053</td>\n",
              "      <td>8.589</td>\n",
              "      <td>153.40</td>\n",
              "      <td>0.006399</td>\n",
              "      <td>0.04904</td>\n",
              "      <td>0.05373</td>\n",
              "      <td>0.01587</td>\n",
              "      <td>0.03003</td>\n",
              "      <td>0.006193</td>\n",
              "      <td>25.38</td>\n",
              "      <td>17.33</td>\n",
              "      <td>184.60</td>\n",
              "      <td>2019.0</td>\n",
              "      <td>0.1622</td>\n",
              "      <td>0.6656</td>\n",
              "      <td>0.7119</td>\n",
              "      <td>0.2654</td>\n",
              "      <td>0.4601</td>\n",
              "      <td>0.11890</td>\n",
              "      <td>NaN</td>\n",
              "    </tr>\n",
              "    <tr>\n",
              "      <th>1</th>\n",
              "      <td>842517</td>\n",
              "      <td>M</td>\n",
              "      <td>20.57</td>\n",
              "      <td>17.77</td>\n",
              "      <td>132.90</td>\n",
              "      <td>1326.0</td>\n",
              "      <td>0.08474</td>\n",
              "      <td>0.07864</td>\n",
              "      <td>0.0869</td>\n",
              "      <td>0.07017</td>\n",
              "      <td>0.1812</td>\n",
              "      <td>0.05667</td>\n",
              "      <td>0.5435</td>\n",
              "      <td>0.7339</td>\n",
              "      <td>3.398</td>\n",
              "      <td>74.08</td>\n",
              "      <td>0.005225</td>\n",
              "      <td>0.01308</td>\n",
              "      <td>0.01860</td>\n",
              "      <td>0.01340</td>\n",
              "      <td>0.01389</td>\n",
              "      <td>0.003532</td>\n",
              "      <td>24.99</td>\n",
              "      <td>23.41</td>\n",
              "      <td>158.80</td>\n",
              "      <td>1956.0</td>\n",
              "      <td>0.1238</td>\n",
              "      <td>0.1866</td>\n",
              "      <td>0.2416</td>\n",
              "      <td>0.1860</td>\n",
              "      <td>0.2750</td>\n",
              "      <td>0.08902</td>\n",
              "      <td>NaN</td>\n",
              "    </tr>\n",
              "    <tr>\n",
              "      <th>2</th>\n",
              "      <td>84300903</td>\n",
              "      <td>M</td>\n",
              "      <td>19.69</td>\n",
              "      <td>21.25</td>\n",
              "      <td>130.00</td>\n",
              "      <td>1203.0</td>\n",
              "      <td>0.10960</td>\n",
              "      <td>0.15990</td>\n",
              "      <td>0.1974</td>\n",
              "      <td>0.12790</td>\n",
              "      <td>0.2069</td>\n",
              "      <td>0.05999</td>\n",
              "      <td>0.7456</td>\n",
              "      <td>0.7869</td>\n",
              "      <td>4.585</td>\n",
              "      <td>94.03</td>\n",
              "      <td>0.006150</td>\n",
              "      <td>0.04006</td>\n",
              "      <td>0.03832</td>\n",
              "      <td>0.02058</td>\n",
              "      <td>0.02250</td>\n",
              "      <td>0.004571</td>\n",
              "      <td>23.57</td>\n",
              "      <td>25.53</td>\n",
              "      <td>152.50</td>\n",
              "      <td>1709.0</td>\n",
              "      <td>0.1444</td>\n",
              "      <td>0.4245</td>\n",
              "      <td>0.4504</td>\n",
              "      <td>0.2430</td>\n",
              "      <td>0.3613</td>\n",
              "      <td>0.08758</td>\n",
              "      <td>NaN</td>\n",
              "    </tr>\n",
              "    <tr>\n",
              "      <th>3</th>\n",
              "      <td>84348301</td>\n",
              "      <td>M</td>\n",
              "      <td>11.42</td>\n",
              "      <td>20.38</td>\n",
              "      <td>77.58</td>\n",
              "      <td>386.1</td>\n",
              "      <td>0.14250</td>\n",
              "      <td>0.28390</td>\n",
              "      <td>0.2414</td>\n",
              "      <td>0.10520</td>\n",
              "      <td>0.2597</td>\n",
              "      <td>0.09744</td>\n",
              "      <td>0.4956</td>\n",
              "      <td>1.1560</td>\n",
              "      <td>3.445</td>\n",
              "      <td>27.23</td>\n",
              "      <td>0.009110</td>\n",
              "      <td>0.07458</td>\n",
              "      <td>0.05661</td>\n",
              "      <td>0.01867</td>\n",
              "      <td>0.05963</td>\n",
              "      <td>0.009208</td>\n",
              "      <td>14.91</td>\n",
              "      <td>26.50</td>\n",
              "      <td>98.87</td>\n",
              "      <td>567.7</td>\n",
              "      <td>0.2098</td>\n",
              "      <td>0.8663</td>\n",
              "      <td>0.6869</td>\n",
              "      <td>0.2575</td>\n",
              "      <td>0.6638</td>\n",
              "      <td>0.17300</td>\n",
              "      <td>NaN</td>\n",
              "    </tr>\n",
              "    <tr>\n",
              "      <th>4</th>\n",
              "      <td>84358402</td>\n",
              "      <td>M</td>\n",
              "      <td>20.29</td>\n",
              "      <td>14.34</td>\n",
              "      <td>135.10</td>\n",
              "      <td>1297.0</td>\n",
              "      <td>0.10030</td>\n",
              "      <td>0.13280</td>\n",
              "      <td>0.1980</td>\n",
              "      <td>0.10430</td>\n",
              "      <td>0.1809</td>\n",
              "      <td>0.05883</td>\n",
              "      <td>0.7572</td>\n",
              "      <td>0.7813</td>\n",
              "      <td>5.438</td>\n",
              "      <td>94.44</td>\n",
              "      <td>0.011490</td>\n",
              "      <td>0.02461</td>\n",
              "      <td>0.05688</td>\n",
              "      <td>0.01885</td>\n",
              "      <td>0.01756</td>\n",
              "      <td>0.005115</td>\n",
              "      <td>22.54</td>\n",
              "      <td>16.67</td>\n",
              "      <td>152.20</td>\n",
              "      <td>1575.0</td>\n",
              "      <td>0.1374</td>\n",
              "      <td>0.2050</td>\n",
              "      <td>0.4000</td>\n",
              "      <td>0.1625</td>\n",
              "      <td>0.2364</td>\n",
              "      <td>0.07678</td>\n",
              "      <td>NaN</td>\n",
              "    </tr>\n",
              "  </tbody>\n",
              "</table>\n",
              "</div>"
            ],
            "text/plain": [
              "         id diagnosis  ...  fractal_dimension_worst  Unnamed: 32\n",
              "0    842302         M  ...                  0.11890          NaN\n",
              "1    842517         M  ...                  0.08902          NaN\n",
              "2  84300903         M  ...                  0.08758          NaN\n",
              "3  84348301         M  ...                  0.17300          NaN\n",
              "4  84358402         M  ...                  0.07678          NaN\n",
              "\n",
              "[5 rows x 33 columns]"
            ]
          },
          "metadata": {
            "tags": []
          },
          "execution_count": 12
        }
      ]
    },
    {
      "cell_type": "markdown",
      "metadata": {
        "id": "IHDDqaU-ove4",
        "colab_type": "text"
      },
      "source": [
        "## Now it's an unsupervised learning dataset\n",
        "\n",
        "(Because we've removed the diagnosis label) - Use this version."
      ]
    },
    {
      "cell_type": "code",
      "metadata": {
        "id": "86MHoPJon_aC",
        "colab_type": "code",
        "colab": {
          "base_uri": "https://localhost:8080/",
          "height": 234
        },
        "outputId": "656c3152-3c5a-4199-c48f-e2195d9649d4"
      },
      "source": [
        "df = dfz.drop('diagnosis', axis=1)\n",
        "df.head()"
      ],
      "execution_count": 13,
      "outputs": [
        {
          "output_type": "execute_result",
          "data": {
            "text/html": [
              "<div>\n",
              "<style scoped>\n",
              "    .dataframe tbody tr th:only-of-type {\n",
              "        vertical-align: middle;\n",
              "    }\n",
              "\n",
              "    .dataframe tbody tr th {\n",
              "        vertical-align: top;\n",
              "    }\n",
              "\n",
              "    .dataframe thead th {\n",
              "        text-align: right;\n",
              "    }\n",
              "</style>\n",
              "<table border=\"1\" class=\"dataframe\">\n",
              "  <thead>\n",
              "    <tr style=\"text-align: right;\">\n",
              "      <th></th>\n",
              "      <th>id</th>\n",
              "      <th>radius_mean</th>\n",
              "      <th>texture_mean</th>\n",
              "      <th>perimeter_mean</th>\n",
              "      <th>area_mean</th>\n",
              "      <th>smoothness_mean</th>\n",
              "      <th>compactness_mean</th>\n",
              "      <th>concavity_mean</th>\n",
              "      <th>concave points_mean</th>\n",
              "      <th>symmetry_mean</th>\n",
              "      <th>fractal_dimension_mean</th>\n",
              "      <th>radius_se</th>\n",
              "      <th>texture_se</th>\n",
              "      <th>perimeter_se</th>\n",
              "      <th>area_se</th>\n",
              "      <th>smoothness_se</th>\n",
              "      <th>compactness_se</th>\n",
              "      <th>concavity_se</th>\n",
              "      <th>concave points_se</th>\n",
              "      <th>symmetry_se</th>\n",
              "      <th>fractal_dimension_se</th>\n",
              "      <th>radius_worst</th>\n",
              "      <th>texture_worst</th>\n",
              "      <th>perimeter_worst</th>\n",
              "      <th>area_worst</th>\n",
              "      <th>smoothness_worst</th>\n",
              "      <th>compactness_worst</th>\n",
              "      <th>concavity_worst</th>\n",
              "      <th>concave points_worst</th>\n",
              "      <th>symmetry_worst</th>\n",
              "      <th>fractal_dimension_worst</th>\n",
              "      <th>Unnamed: 32</th>\n",
              "    </tr>\n",
              "  </thead>\n",
              "  <tbody>\n",
              "    <tr>\n",
              "      <th>0</th>\n",
              "      <td>842302</td>\n",
              "      <td>17.99</td>\n",
              "      <td>10.38</td>\n",
              "      <td>122.80</td>\n",
              "      <td>1001.0</td>\n",
              "      <td>0.11840</td>\n",
              "      <td>0.27760</td>\n",
              "      <td>0.3001</td>\n",
              "      <td>0.14710</td>\n",
              "      <td>0.2419</td>\n",
              "      <td>0.07871</td>\n",
              "      <td>1.0950</td>\n",
              "      <td>0.9053</td>\n",
              "      <td>8.589</td>\n",
              "      <td>153.40</td>\n",
              "      <td>0.006399</td>\n",
              "      <td>0.04904</td>\n",
              "      <td>0.05373</td>\n",
              "      <td>0.01587</td>\n",
              "      <td>0.03003</td>\n",
              "      <td>0.006193</td>\n",
              "      <td>25.38</td>\n",
              "      <td>17.33</td>\n",
              "      <td>184.60</td>\n",
              "      <td>2019.0</td>\n",
              "      <td>0.1622</td>\n",
              "      <td>0.6656</td>\n",
              "      <td>0.7119</td>\n",
              "      <td>0.2654</td>\n",
              "      <td>0.4601</td>\n",
              "      <td>0.11890</td>\n",
              "      <td>NaN</td>\n",
              "    </tr>\n",
              "    <tr>\n",
              "      <th>1</th>\n",
              "      <td>842517</td>\n",
              "      <td>20.57</td>\n",
              "      <td>17.77</td>\n",
              "      <td>132.90</td>\n",
              "      <td>1326.0</td>\n",
              "      <td>0.08474</td>\n",
              "      <td>0.07864</td>\n",
              "      <td>0.0869</td>\n",
              "      <td>0.07017</td>\n",
              "      <td>0.1812</td>\n",
              "      <td>0.05667</td>\n",
              "      <td>0.5435</td>\n",
              "      <td>0.7339</td>\n",
              "      <td>3.398</td>\n",
              "      <td>74.08</td>\n",
              "      <td>0.005225</td>\n",
              "      <td>0.01308</td>\n",
              "      <td>0.01860</td>\n",
              "      <td>0.01340</td>\n",
              "      <td>0.01389</td>\n",
              "      <td>0.003532</td>\n",
              "      <td>24.99</td>\n",
              "      <td>23.41</td>\n",
              "      <td>158.80</td>\n",
              "      <td>1956.0</td>\n",
              "      <td>0.1238</td>\n",
              "      <td>0.1866</td>\n",
              "      <td>0.2416</td>\n",
              "      <td>0.1860</td>\n",
              "      <td>0.2750</td>\n",
              "      <td>0.08902</td>\n",
              "      <td>NaN</td>\n",
              "    </tr>\n",
              "    <tr>\n",
              "      <th>2</th>\n",
              "      <td>84300903</td>\n",
              "      <td>19.69</td>\n",
              "      <td>21.25</td>\n",
              "      <td>130.00</td>\n",
              "      <td>1203.0</td>\n",
              "      <td>0.10960</td>\n",
              "      <td>0.15990</td>\n",
              "      <td>0.1974</td>\n",
              "      <td>0.12790</td>\n",
              "      <td>0.2069</td>\n",
              "      <td>0.05999</td>\n",
              "      <td>0.7456</td>\n",
              "      <td>0.7869</td>\n",
              "      <td>4.585</td>\n",
              "      <td>94.03</td>\n",
              "      <td>0.006150</td>\n",
              "      <td>0.04006</td>\n",
              "      <td>0.03832</td>\n",
              "      <td>0.02058</td>\n",
              "      <td>0.02250</td>\n",
              "      <td>0.004571</td>\n",
              "      <td>23.57</td>\n",
              "      <td>25.53</td>\n",
              "      <td>152.50</td>\n",
              "      <td>1709.0</td>\n",
              "      <td>0.1444</td>\n",
              "      <td>0.4245</td>\n",
              "      <td>0.4504</td>\n",
              "      <td>0.2430</td>\n",
              "      <td>0.3613</td>\n",
              "      <td>0.08758</td>\n",
              "      <td>NaN</td>\n",
              "    </tr>\n",
              "    <tr>\n",
              "      <th>3</th>\n",
              "      <td>84348301</td>\n",
              "      <td>11.42</td>\n",
              "      <td>20.38</td>\n",
              "      <td>77.58</td>\n",
              "      <td>386.1</td>\n",
              "      <td>0.14250</td>\n",
              "      <td>0.28390</td>\n",
              "      <td>0.2414</td>\n",
              "      <td>0.10520</td>\n",
              "      <td>0.2597</td>\n",
              "      <td>0.09744</td>\n",
              "      <td>0.4956</td>\n",
              "      <td>1.1560</td>\n",
              "      <td>3.445</td>\n",
              "      <td>27.23</td>\n",
              "      <td>0.009110</td>\n",
              "      <td>0.07458</td>\n",
              "      <td>0.05661</td>\n",
              "      <td>0.01867</td>\n",
              "      <td>0.05963</td>\n",
              "      <td>0.009208</td>\n",
              "      <td>14.91</td>\n",
              "      <td>26.50</td>\n",
              "      <td>98.87</td>\n",
              "      <td>567.7</td>\n",
              "      <td>0.2098</td>\n",
              "      <td>0.8663</td>\n",
              "      <td>0.6869</td>\n",
              "      <td>0.2575</td>\n",
              "      <td>0.6638</td>\n",
              "      <td>0.17300</td>\n",
              "      <td>NaN</td>\n",
              "    </tr>\n",
              "    <tr>\n",
              "      <th>4</th>\n",
              "      <td>84358402</td>\n",
              "      <td>20.29</td>\n",
              "      <td>14.34</td>\n",
              "      <td>135.10</td>\n",
              "      <td>1297.0</td>\n",
              "      <td>0.10030</td>\n",
              "      <td>0.13280</td>\n",
              "      <td>0.1980</td>\n",
              "      <td>0.10430</td>\n",
              "      <td>0.1809</td>\n",
              "      <td>0.05883</td>\n",
              "      <td>0.7572</td>\n",
              "      <td>0.7813</td>\n",
              "      <td>5.438</td>\n",
              "      <td>94.44</td>\n",
              "      <td>0.011490</td>\n",
              "      <td>0.02461</td>\n",
              "      <td>0.05688</td>\n",
              "      <td>0.01885</td>\n",
              "      <td>0.01756</td>\n",
              "      <td>0.005115</td>\n",
              "      <td>22.54</td>\n",
              "      <td>16.67</td>\n",
              "      <td>152.20</td>\n",
              "      <td>1575.0</td>\n",
              "      <td>0.1374</td>\n",
              "      <td>0.2050</td>\n",
              "      <td>0.4000</td>\n",
              "      <td>0.1625</td>\n",
              "      <td>0.2364</td>\n",
              "      <td>0.07678</td>\n",
              "      <td>NaN</td>\n",
              "    </tr>\n",
              "  </tbody>\n",
              "</table>\n",
              "</div>"
            ],
            "text/plain": [
              "         id  radius_mean  ...  fractal_dimension_worst  Unnamed: 32\n",
              "0    842302        17.99  ...                  0.11890          NaN\n",
              "1    842517        20.57  ...                  0.08902          NaN\n",
              "2  84300903        19.69  ...                  0.08758          NaN\n",
              "3  84348301        11.42  ...                  0.17300          NaN\n",
              "4  84358402        20.29  ...                  0.07678          NaN\n",
              "\n",
              "[5 rows x 32 columns]"
            ]
          },
          "metadata": {
            "tags": []
          },
          "execution_count": 13
        }
      ]
    },
    {
      "cell_type": "markdown",
      "metadata": {
        "id": "rskC80k3OKMA",
        "colab_type": "text"
      },
      "source": [
        "## Let's do it!\n",
        "\n",
        "- You might want to do some data exploration to see if you can find specific columns that will help you find distinct clusters of cells\n",
        "- You might want to use the elbow method to decide on the number of clusters to use.\n"
      ]
    },
    {
      "cell_type": "code",
      "metadata": {
        "id": "U92Y3jNKPpjJ",
        "colab_type": "code",
        "colab": {
          "base_uri": "https://localhost:8080/",
          "height": 234
        },
        "outputId": "0da7aeb9-8654-4e65-a640-77fff0b0e6b0"
      },
      "source": [
        "# Perform K-Means Clustering on the Dataset\n",
        "dataset = pd.DataFrame(df.sample(50))\n",
        "dataset.head()"
      ],
      "execution_count": 14,
      "outputs": [
        {
          "output_type": "execute_result",
          "data": {
            "text/html": [
              "<div>\n",
              "<style scoped>\n",
              "    .dataframe tbody tr th:only-of-type {\n",
              "        vertical-align: middle;\n",
              "    }\n",
              "\n",
              "    .dataframe tbody tr th {\n",
              "        vertical-align: top;\n",
              "    }\n",
              "\n",
              "    .dataframe thead th {\n",
              "        text-align: right;\n",
              "    }\n",
              "</style>\n",
              "<table border=\"1\" class=\"dataframe\">\n",
              "  <thead>\n",
              "    <tr style=\"text-align: right;\">\n",
              "      <th></th>\n",
              "      <th>id</th>\n",
              "      <th>radius_mean</th>\n",
              "      <th>texture_mean</th>\n",
              "      <th>perimeter_mean</th>\n",
              "      <th>area_mean</th>\n",
              "      <th>smoothness_mean</th>\n",
              "      <th>compactness_mean</th>\n",
              "      <th>concavity_mean</th>\n",
              "      <th>concave points_mean</th>\n",
              "      <th>symmetry_mean</th>\n",
              "      <th>fractal_dimension_mean</th>\n",
              "      <th>radius_se</th>\n",
              "      <th>texture_se</th>\n",
              "      <th>perimeter_se</th>\n",
              "      <th>area_se</th>\n",
              "      <th>smoothness_se</th>\n",
              "      <th>compactness_se</th>\n",
              "      <th>concavity_se</th>\n",
              "      <th>concave points_se</th>\n",
              "      <th>symmetry_se</th>\n",
              "      <th>fractal_dimension_se</th>\n",
              "      <th>radius_worst</th>\n",
              "      <th>texture_worst</th>\n",
              "      <th>perimeter_worst</th>\n",
              "      <th>area_worst</th>\n",
              "      <th>smoothness_worst</th>\n",
              "      <th>compactness_worst</th>\n",
              "      <th>concavity_worst</th>\n",
              "      <th>concave points_worst</th>\n",
              "      <th>symmetry_worst</th>\n",
              "      <th>fractal_dimension_worst</th>\n",
              "      <th>Unnamed: 32</th>\n",
              "    </tr>\n",
              "  </thead>\n",
              "  <tbody>\n",
              "    <tr>\n",
              "      <th>204</th>\n",
              "      <td>87930</td>\n",
              "      <td>12.470</td>\n",
              "      <td>18.60</td>\n",
              "      <td>81.09</td>\n",
              "      <td>481.9</td>\n",
              "      <td>0.09965</td>\n",
              "      <td>0.10580</td>\n",
              "      <td>0.08005</td>\n",
              "      <td>0.03821</td>\n",
              "      <td>0.1925</td>\n",
              "      <td>0.06373</td>\n",
              "      <td>0.3961</td>\n",
              "      <td>1.044</td>\n",
              "      <td>2.497</td>\n",
              "      <td>30.29</td>\n",
              "      <td>0.006953</td>\n",
              "      <td>0.01911</td>\n",
              "      <td>0.027010</td>\n",
              "      <td>0.010370</td>\n",
              "      <td>0.01782</td>\n",
              "      <td>0.003586</td>\n",
              "      <td>14.97</td>\n",
              "      <td>24.64</td>\n",
              "      <td>96.05</td>\n",
              "      <td>677.9</td>\n",
              "      <td>0.14260</td>\n",
              "      <td>0.23780</td>\n",
              "      <td>0.26710</td>\n",
              "      <td>0.10150</td>\n",
              "      <td>0.3014</td>\n",
              "      <td>0.08750</td>\n",
              "      <td>NaN</td>\n",
              "    </tr>\n",
              "    <tr>\n",
              "      <th>96</th>\n",
              "      <td>86211</td>\n",
              "      <td>12.180</td>\n",
              "      <td>17.84</td>\n",
              "      <td>77.79</td>\n",
              "      <td>451.1</td>\n",
              "      <td>0.10450</td>\n",
              "      <td>0.07057</td>\n",
              "      <td>0.02490</td>\n",
              "      <td>0.02941</td>\n",
              "      <td>0.1900</td>\n",
              "      <td>0.06635</td>\n",
              "      <td>0.3661</td>\n",
              "      <td>1.511</td>\n",
              "      <td>2.410</td>\n",
              "      <td>24.44</td>\n",
              "      <td>0.005433</td>\n",
              "      <td>0.01179</td>\n",
              "      <td>0.011310</td>\n",
              "      <td>0.015190</td>\n",
              "      <td>0.02220</td>\n",
              "      <td>0.003408</td>\n",
              "      <td>12.83</td>\n",
              "      <td>20.92</td>\n",
              "      <td>82.14</td>\n",
              "      <td>495.2</td>\n",
              "      <td>0.11400</td>\n",
              "      <td>0.09358</td>\n",
              "      <td>0.04980</td>\n",
              "      <td>0.05882</td>\n",
              "      <td>0.2227</td>\n",
              "      <td>0.07376</td>\n",
              "      <td>NaN</td>\n",
              "    </tr>\n",
              "    <tr>\n",
              "      <th>441</th>\n",
              "      <td>909445</td>\n",
              "      <td>17.270</td>\n",
              "      <td>25.42</td>\n",
              "      <td>112.40</td>\n",
              "      <td>928.8</td>\n",
              "      <td>0.08331</td>\n",
              "      <td>0.11090</td>\n",
              "      <td>0.12040</td>\n",
              "      <td>0.05736</td>\n",
              "      <td>0.1467</td>\n",
              "      <td>0.05407</td>\n",
              "      <td>0.5100</td>\n",
              "      <td>1.679</td>\n",
              "      <td>3.283</td>\n",
              "      <td>58.38</td>\n",
              "      <td>0.008109</td>\n",
              "      <td>0.04308</td>\n",
              "      <td>0.049420</td>\n",
              "      <td>0.017420</td>\n",
              "      <td>0.01594</td>\n",
              "      <td>0.003739</td>\n",
              "      <td>20.38</td>\n",
              "      <td>35.46</td>\n",
              "      <td>132.80</td>\n",
              "      <td>1284.0</td>\n",
              "      <td>0.14360</td>\n",
              "      <td>0.41220</td>\n",
              "      <td>0.50360</td>\n",
              "      <td>0.17390</td>\n",
              "      <td>0.2500</td>\n",
              "      <td>0.07944</td>\n",
              "      <td>NaN</td>\n",
              "    </tr>\n",
              "    <tr>\n",
              "      <th>273</th>\n",
              "      <td>8910996</td>\n",
              "      <td>9.742</td>\n",
              "      <td>15.67</td>\n",
              "      <td>61.50</td>\n",
              "      <td>289.9</td>\n",
              "      <td>0.09037</td>\n",
              "      <td>0.04689</td>\n",
              "      <td>0.01103</td>\n",
              "      <td>0.01407</td>\n",
              "      <td>0.2081</td>\n",
              "      <td>0.06312</td>\n",
              "      <td>0.2684</td>\n",
              "      <td>1.409</td>\n",
              "      <td>1.750</td>\n",
              "      <td>16.39</td>\n",
              "      <td>0.013800</td>\n",
              "      <td>0.01067</td>\n",
              "      <td>0.008347</td>\n",
              "      <td>0.009472</td>\n",
              "      <td>0.01798</td>\n",
              "      <td>0.004261</td>\n",
              "      <td>10.75</td>\n",
              "      <td>20.88</td>\n",
              "      <td>68.09</td>\n",
              "      <td>355.2</td>\n",
              "      <td>0.14670</td>\n",
              "      <td>0.09370</td>\n",
              "      <td>0.04043</td>\n",
              "      <td>0.05159</td>\n",
              "      <td>0.2841</td>\n",
              "      <td>0.08175</td>\n",
              "      <td>NaN</td>\n",
              "    </tr>\n",
              "    <tr>\n",
              "      <th>298</th>\n",
              "      <td>892214</td>\n",
              "      <td>14.260</td>\n",
              "      <td>18.17</td>\n",
              "      <td>91.22</td>\n",
              "      <td>633.1</td>\n",
              "      <td>0.06576</td>\n",
              "      <td>0.05220</td>\n",
              "      <td>0.02475</td>\n",
              "      <td>0.01374</td>\n",
              "      <td>0.1635</td>\n",
              "      <td>0.05586</td>\n",
              "      <td>0.2300</td>\n",
              "      <td>0.669</td>\n",
              "      <td>1.661</td>\n",
              "      <td>20.56</td>\n",
              "      <td>0.003169</td>\n",
              "      <td>0.01377</td>\n",
              "      <td>0.010790</td>\n",
              "      <td>0.005243</td>\n",
              "      <td>0.01103</td>\n",
              "      <td>0.001957</td>\n",
              "      <td>16.22</td>\n",
              "      <td>25.26</td>\n",
              "      <td>105.80</td>\n",
              "      <td>819.7</td>\n",
              "      <td>0.09445</td>\n",
              "      <td>0.21670</td>\n",
              "      <td>0.15650</td>\n",
              "      <td>0.07530</td>\n",
              "      <td>0.2636</td>\n",
              "      <td>0.07676</td>\n",
              "      <td>NaN</td>\n",
              "    </tr>\n",
              "  </tbody>\n",
              "</table>\n",
              "</div>"
            ],
            "text/plain": [
              "          id  radius_mean  ...  fractal_dimension_worst  Unnamed: 32\n",
              "204    87930       12.470  ...                  0.08750          NaN\n",
              "96     86211       12.180  ...                  0.07376          NaN\n",
              "441   909445       17.270  ...                  0.07944          NaN\n",
              "273  8910996        9.742  ...                  0.08175          NaN\n",
              "298   892214       14.260  ...                  0.07676          NaN\n",
              "\n",
              "[5 rows x 32 columns]"
            ]
          },
          "metadata": {
            "tags": []
          },
          "execution_count": 14
        }
      ]
    },
    {
      "cell_type": "code",
      "metadata": {
        "id": "z33aPyE53Gcv",
        "colab_type": "code",
        "colab": {
          "base_uri": "https://localhost:8080/",
          "height": 282
        },
        "outputId": "12398deb-d78a-4e70-c972-78d1fbd17eca"
      },
      "source": [
        "plt.scatter(dataset['radius_mean'], dataset['area_mean'], c = dataset['id'])"
      ],
      "execution_count": 15,
      "outputs": [
        {
          "output_type": "execute_result",
          "data": {
            "text/plain": [
              "<matplotlib.collections.PathCollection at 0x7f8c507227f0>"
            ]
          },
          "metadata": {
            "tags": []
          },
          "execution_count": 15
        },
        {
          "output_type": "display_data",
          "data": {
            "image/png": "[encoded data removed]",
            "text/plain": [
              "<Figure size 432x288 with 1 Axes>"
            ]
          },
          "metadata": {
            "tags": [],
            "needs_background": "light"
          }
        }
      ]
    },
    {
      "cell_type": "code",
      "metadata": {
        "id": "-O2KB1Pe4hfg",
        "colab_type": "code",
        "colab": {}
      },
      "source": [
        "#K-MEAN clustering\n",
        "\n",
        "dataset_centroid = df.radius_mean.mean()\n",
        "datasent_centroid_y = df.area_mean.mean()"
      ],
      "execution_count": 16,
      "outputs": []
    },
    {
      "cell_type": "code",
      "metadata": {
        "id": "BWGdyqLk5GU4",
        "colab_type": "code",
        "colab": {
          "base_uri": "https://localhost:8080/",
          "height": 34
        },
        "outputId": "32801227-dee8-4a41-a810-0c0123a016c9"
      },
      "source": [
        "dataset_centroid, datasent_centroid_y"
      ],
      "execution_count": 17,
      "outputs": [
        {
          "output_type": "execute_result",
          "data": {
            "text/plain": [
              "(14.127291739894563, 654.8891036906857)"
            ]
          },
          "metadata": {
            "tags": []
          },
          "execution_count": 17
        }
      ]
    },
    {
      "cell_type": "code",
      "metadata": {
        "id": "k8X1bza25L5Z",
        "colab_type": "code",
        "colab": {
          "base_uri": "https://localhost:8080/",
          "height": 282
        },
        "outputId": "1d44afd5-41ac-4ab7-e7e5-55e5a5c5c844"
      },
      "source": [
        "plt.scatter(df.radius_mean, df.area_mean)\n",
        "plt.plot(dataset_centroid, dataset_centroid, \"or\")"
      ],
      "execution_count": 18,
      "outputs": [
        {
          "output_type": "execute_result",
          "data": {
            "text/plain": [
              "[<matplotlib.lines.Line2D at 0x7f8c50c597b8>]"
            ]
          },
          "metadata": {
            "tags": []
          },
          "execution_count": 18
        },
        {
          "output_type": "display_data",
          "data": {
            "image/png": "[encoded data removed]",
            "text/plain": [
              "<Figure size 432x288 with 1 Axes>"
            ]
          },
          "metadata": {
            "tags": [],
            "needs_background": "light"
          }
        }
      ]
    },
    {
      "cell_type": "code",
      "metadata": {
        "id": "AiOhE0bR8opr",
        "colab_type": "code",
        "colab": {
          "base_uri": "https://localhost:8080/",
          "height": 234
        },
        "outputId": "12ce2c73-7b82-4e41-9a00-7a4f5112b944"
      },
      "source": [
        "#sample data for standardization\n",
        "centeroid = df.sample(5)\n",
        "centeroid =centeroid.reset_index(drop = True)\n",
        "centeroid"
      ],
      "execution_count": 19,
      "outputs": [
        {
          "output_type": "execute_result",
          "data": {
            "text/html": [
              "<div>\n",
              "<style scoped>\n",
              "    .dataframe tbody tr th:only-of-type {\n",
              "        vertical-align: middle;\n",
              "    }\n",
              "\n",
              "    .dataframe tbody tr th {\n",
              "        vertical-align: top;\n",
              "    }\n",
              "\n",
              "    .dataframe thead th {\n",
              "        text-align: right;\n",
              "    }\n",
              "</style>\n",
              "<table border=\"1\" class=\"dataframe\">\n",
              "  <thead>\n",
              "    <tr style=\"text-align: right;\">\n",
              "      <th></th>\n",
              "      <th>id</th>\n",
              "      <th>radius_mean</th>\n",
              "      <th>texture_mean</th>\n",
              "      <th>perimeter_mean</th>\n",
              "      <th>area_mean</th>\n",
              "      <th>smoothness_mean</th>\n",
              "      <th>compactness_mean</th>\n",
              "      <th>concavity_mean</th>\n",
              "      <th>concave points_mean</th>\n",
              "      <th>symmetry_mean</th>\n",
              "      <th>fractal_dimension_mean</th>\n",
              "      <th>radius_se</th>\n",
              "      <th>texture_se</th>\n",
              "      <th>perimeter_se</th>\n",
              "      <th>area_se</th>\n",
              "      <th>smoothness_se</th>\n",
              "      <th>compactness_se</th>\n",
              "      <th>concavity_se</th>\n",
              "      <th>concave points_se</th>\n",
              "      <th>symmetry_se</th>\n",
              "      <th>fractal_dimension_se</th>\n",
              "      <th>radius_worst</th>\n",
              "      <th>texture_worst</th>\n",
              "      <th>perimeter_worst</th>\n",
              "      <th>area_worst</th>\n",
              "      <th>smoothness_worst</th>\n",
              "      <th>compactness_worst</th>\n",
              "      <th>concavity_worst</th>\n",
              "      <th>concave points_worst</th>\n",
              "      <th>symmetry_worst</th>\n",
              "      <th>fractal_dimension_worst</th>\n",
              "      <th>Unnamed: 32</th>\n",
              "    </tr>\n",
              "  </thead>\n",
              "  <tbody>\n",
              "    <tr>\n",
              "      <th>0</th>\n",
              "      <td>921644</td>\n",
              "      <td>14.740</td>\n",
              "      <td>25.42</td>\n",
              "      <td>94.70</td>\n",
              "      <td>668.6</td>\n",
              "      <td>0.08275</td>\n",
              "      <td>0.07214</td>\n",
              "      <td>0.04105</td>\n",
              "      <td>0.03027</td>\n",
              "      <td>0.1840</td>\n",
              "      <td>0.05680</td>\n",
              "      <td>0.3031</td>\n",
              "      <td>1.3850</td>\n",
              "      <td>2.177</td>\n",
              "      <td>27.41</td>\n",
              "      <td>0.004775</td>\n",
              "      <td>0.011720</td>\n",
              "      <td>0.019470</td>\n",
              "      <td>0.012690</td>\n",
              "      <td>0.01870</td>\n",
              "      <td>0.002626</td>\n",
              "      <td>16.51</td>\n",
              "      <td>32.29</td>\n",
              "      <td>107.40</td>\n",
              "      <td>826.4</td>\n",
              "      <td>0.10600</td>\n",
              "      <td>0.1376</td>\n",
              "      <td>0.16110</td>\n",
              "      <td>0.10950</td>\n",
              "      <td>0.2722</td>\n",
              "      <td>0.06956</td>\n",
              "      <td>NaN</td>\n",
              "    </tr>\n",
              "    <tr>\n",
              "      <th>1</th>\n",
              "      <td>915186</td>\n",
              "      <td>9.268</td>\n",
              "      <td>12.87</td>\n",
              "      <td>61.49</td>\n",
              "      <td>248.7</td>\n",
              "      <td>0.16340</td>\n",
              "      <td>0.22390</td>\n",
              "      <td>0.09730</td>\n",
              "      <td>0.05252</td>\n",
              "      <td>0.2378</td>\n",
              "      <td>0.09502</td>\n",
              "      <td>0.4076</td>\n",
              "      <td>1.0930</td>\n",
              "      <td>3.014</td>\n",
              "      <td>20.04</td>\n",
              "      <td>0.009783</td>\n",
              "      <td>0.045420</td>\n",
              "      <td>0.034830</td>\n",
              "      <td>0.021880</td>\n",
              "      <td>0.02542</td>\n",
              "      <td>0.010450</td>\n",
              "      <td>10.28</td>\n",
              "      <td>16.38</td>\n",
              "      <td>69.05</td>\n",
              "      <td>300.2</td>\n",
              "      <td>0.19020</td>\n",
              "      <td>0.3441</td>\n",
              "      <td>0.20990</td>\n",
              "      <td>0.10250</td>\n",
              "      <td>0.3038</td>\n",
              "      <td>0.12520</td>\n",
              "      <td>NaN</td>\n",
              "    </tr>\n",
              "    <tr>\n",
              "      <th>2</th>\n",
              "      <td>88411702</td>\n",
              "      <td>13.750</td>\n",
              "      <td>23.77</td>\n",
              "      <td>88.54</td>\n",
              "      <td>590.0</td>\n",
              "      <td>0.08043</td>\n",
              "      <td>0.06807</td>\n",
              "      <td>0.04697</td>\n",
              "      <td>0.02344</td>\n",
              "      <td>0.1773</td>\n",
              "      <td>0.05429</td>\n",
              "      <td>0.4347</td>\n",
              "      <td>1.0570</td>\n",
              "      <td>2.829</td>\n",
              "      <td>39.93</td>\n",
              "      <td>0.004351</td>\n",
              "      <td>0.026670</td>\n",
              "      <td>0.033710</td>\n",
              "      <td>0.010070</td>\n",
              "      <td>0.02598</td>\n",
              "      <td>0.003087</td>\n",
              "      <td>15.01</td>\n",
              "      <td>26.34</td>\n",
              "      <td>98.00</td>\n",
              "      <td>706.0</td>\n",
              "      <td>0.09368</td>\n",
              "      <td>0.1442</td>\n",
              "      <td>0.13590</td>\n",
              "      <td>0.06106</td>\n",
              "      <td>0.2663</td>\n",
              "      <td>0.06321</td>\n",
              "      <td>NaN</td>\n",
              "    </tr>\n",
              "    <tr>\n",
              "      <th>3</th>\n",
              "      <td>891923</td>\n",
              "      <td>13.770</td>\n",
              "      <td>13.27</td>\n",
              "      <td>88.06</td>\n",
              "      <td>582.7</td>\n",
              "      <td>0.09198</td>\n",
              "      <td>0.06221</td>\n",
              "      <td>0.01063</td>\n",
              "      <td>0.01917</td>\n",
              "      <td>0.1592</td>\n",
              "      <td>0.05912</td>\n",
              "      <td>0.2191</td>\n",
              "      <td>0.6946</td>\n",
              "      <td>1.479</td>\n",
              "      <td>17.74</td>\n",
              "      <td>0.004348</td>\n",
              "      <td>0.008153</td>\n",
              "      <td>0.004272</td>\n",
              "      <td>0.006829</td>\n",
              "      <td>0.02154</td>\n",
              "      <td>0.001802</td>\n",
              "      <td>14.67</td>\n",
              "      <td>16.93</td>\n",
              "      <td>94.17</td>\n",
              "      <td>661.1</td>\n",
              "      <td>0.11700</td>\n",
              "      <td>0.1072</td>\n",
              "      <td>0.03732</td>\n",
              "      <td>0.05802</td>\n",
              "      <td>0.2823</td>\n",
              "      <td>0.06794</td>\n",
              "      <td>NaN</td>\n",
              "    </tr>\n",
              "    <tr>\n",
              "      <th>4</th>\n",
              "      <td>846381</td>\n",
              "      <td>15.850</td>\n",
              "      <td>23.95</td>\n",
              "      <td>103.70</td>\n",
              "      <td>782.7</td>\n",
              "      <td>0.08401</td>\n",
              "      <td>0.10020</td>\n",
              "      <td>0.09938</td>\n",
              "      <td>0.05364</td>\n",
              "      <td>0.1847</td>\n",
              "      <td>0.05338</td>\n",
              "      <td>0.4033</td>\n",
              "      <td>1.0780</td>\n",
              "      <td>2.903</td>\n",
              "      <td>36.58</td>\n",
              "      <td>0.009769</td>\n",
              "      <td>0.031260</td>\n",
              "      <td>0.050510</td>\n",
              "      <td>0.019920</td>\n",
              "      <td>0.02981</td>\n",
              "      <td>0.003002</td>\n",
              "      <td>16.84</td>\n",
              "      <td>27.66</td>\n",
              "      <td>112.00</td>\n",
              "      <td>876.5</td>\n",
              "      <td>0.11310</td>\n",
              "      <td>0.1924</td>\n",
              "      <td>0.23220</td>\n",
              "      <td>0.11190</td>\n",
              "      <td>0.2809</td>\n",
              "      <td>0.06287</td>\n",
              "      <td>NaN</td>\n",
              "    </tr>\n",
              "  </tbody>\n",
              "</table>\n",
              "</div>"
            ],
            "text/plain": [
              "         id  radius_mean  ...  fractal_dimension_worst  Unnamed: 32\n",
              "0    921644       14.740  ...                  0.06956          NaN\n",
              "1    915186        9.268  ...                  0.12520          NaN\n",
              "2  88411702       13.750  ...                  0.06321          NaN\n",
              "3    891923       13.770  ...                  0.06794          NaN\n",
              "4    846381       15.850  ...                  0.06287          NaN\n",
              "\n",
              "[5 rows x 32 columns]"
            ]
          },
          "metadata": {
            "tags": []
          },
          "execution_count": 19
        }
      ]
    },
    {
      "cell_type": "code",
      "metadata": {
        "id": "_M63UDtk9VeP",
        "colab_type": "code",
        "colab": {
          "base_uri": "https://localhost:8080/",
          "height": 282
        },
        "outputId": "f8268102-592e-4bb3-9c3b-0aebb3ed575c"
      },
      "source": [
        "plt.scatter(df.radius_mean, df.area_mean)\n",
        "plt.plot(centeroid.iloc[0].radius_mean, centeroid.iloc[0].area_mean, \"or\")\n",
        "plt.plot(centeroid.iloc[1].radius_mean, centeroid.iloc[1].area_mean, \"or\")\n",
        "plt.plot(centeroid.iloc[2].radius_mean, centeroid.iloc[2].area_mean, \"or\")"
      ],
      "execution_count": 20,
      "outputs": [
        {
          "output_type": "execute_result",
          "data": {
            "text/plain": [
              "[<matplotlib.lines.Line2D at 0x7f8c5064d6d8>]"
            ]
          },
          "metadata": {
            "tags": []
          },
          "execution_count": 20
        },
        {
          "output_type": "display_data",
          "data": {
            "image/png": "[encoded data removed]",
            "text/plain": [
              "<Figure size 432x288 with 1 Axes>"
            ]
          },
          "metadata": {
            "tags": [],
            "needs_background": "light"
          }
        }
      ]
    },
    {
      "cell_type": "code",
      "metadata": {
        "id": "cQLgDZbWC1Xm",
        "colab_type": "code",
        "colab": {}
      },
      "source": [
        "#KMEAN cluster\n",
        "feat =['radius_mean', 'area_mean']\n"
      ],
      "execution_count": 21,
      "outputs": []
    },
    {
      "cell_type": "code",
      "metadata": {
        "id": "ajVlHKm0DA6M",
        "colab_type": "code",
        "colab": {
          "base_uri": "https://localhost:8080/",
          "height": 297
        },
        "outputId": "ff417b2f-1c4b-486e-dfc6-b6e67fe3a940"
      },
      "source": [
        "df[feat].plot(kind ='scatter', x= feat[0], y= feat[1])"
      ],
      "execution_count": 22,
      "outputs": [
        {
          "output_type": "execute_result",
          "data": {
            "text/plain": [
              "<matplotlib.axes._subplots.AxesSubplot at 0x7f8c5060fcc0>"
            ]
          },
          "metadata": {
            "tags": []
          },
          "execution_count": 22
        },
        {
          "output_type": "display_data",
          "data": {
            "image/png": "[encoded data removed]",
            "text/plain": [
              "<Figure size 432x288 with 1 Axes>"
            ]
          },
          "metadata": {
            "tags": [],
            "needs_background": "light"
          }
        }
      ]
    },
    {
      "cell_type": "code",
      "metadata": {
        "id": "B0CS62FCDN4M",
        "colab_type": "code",
        "colab": {}
      },
      "source": [
        " k=3\n",
        " monel =KMeans(n_clusters= k, max_iter= 1)"
      ],
      "execution_count": 23,
      "outputs": []
    },
    {
      "cell_type": "code",
      "metadata": {
        "id": "SGmmJ0lBDiK7",
        "colab_type": "code",
        "colab": {
          "base_uri": "https://localhost:8080/",
          "height": 70
        },
        "outputId": "7c1891ab-6211-4085-c8d0-de637bf4f0b9"
      },
      "source": [
        "monel.fit(df[feat].values)"
      ],
      "execution_count": 25,
      "outputs": [
        {
          "output_type": "execute_result",
          "data": {
            "text/plain": [
              "KMeans(algorithm='auto', copy_x=True, init='k-means++', max_iter=1,\n",
              "       n_clusters=3, n_init=10, n_jobs=None, precompute_distances='auto',\n",
              "       random_state=None, tol=0.0001, verbose=0)"
            ]
          },
          "metadata": {
            "tags": []
          },
          "execution_count": 25
        }
      ]
    },
    {
      "cell_type": "code",
      "metadata": {
        "id": "uspm7sc9DorN",
        "colab_type": "code",
        "colab": {}
      },
      "source": [
        "df['clusters'] = monel.labels_"
      ],
      "execution_count": 26,
      "outputs": []
    },
    {
      "cell_type": "code",
      "metadata": {
        "id": "P-iS1OPzDz90",
        "colab_type": "code",
        "colab": {}
      },
      "source": [
        "centeoid = monel.labels_"
      ],
      "execution_count": 27,
      "outputs": []
    },
    {
      "cell_type": "code",
      "metadata": {
        "id": "i1CPiqJrE7NE",
        "colab_type": "code",
        "colab": {
          "base_uri": "https://localhost:8080/",
          "height": 197
        },
        "outputId": "c2b7f8f6-5e4a-4d3c-d8f7-fb780736086a"
      },
      "source": [
        "frame = pd.DataFrame(centeoid)\n",
        "frame.head()"
      ],
      "execution_count": 28,
      "outputs": [
        {
          "output_type": "execute_result",
          "data": {
            "text/html": [
              "<div>\n",
              "<style scoped>\n",
              "    .dataframe tbody tr th:only-of-type {\n",
              "        vertical-align: middle;\n",
              "    }\n",
              "\n",
              "    .dataframe tbody tr th {\n",
              "        vertical-align: top;\n",
              "    }\n",
              "\n",
              "    .dataframe thead th {\n",
              "        text-align: right;\n",
              "    }\n",
              "</style>\n",
              "<table border=\"1\" class=\"dataframe\">\n",
              "  <thead>\n",
              "    <tr style=\"text-align: right;\">\n",
              "      <th></th>\n",
              "      <th>0</th>\n",
              "    </tr>\n",
              "  </thead>\n",
              "  <tbody>\n",
              "    <tr>\n",
              "      <th>0</th>\n",
              "      <td>2</td>\n",
              "    </tr>\n",
              "    <tr>\n",
              "      <th>1</th>\n",
              "      <td>1</td>\n",
              "    </tr>\n",
              "    <tr>\n",
              "      <th>2</th>\n",
              "      <td>1</td>\n",
              "    </tr>\n",
              "    <tr>\n",
              "      <th>3</th>\n",
              "      <td>0</td>\n",
              "    </tr>\n",
              "    <tr>\n",
              "      <th>4</th>\n",
              "      <td>1</td>\n",
              "    </tr>\n",
              "  </tbody>\n",
              "</table>\n",
              "</div>"
            ],
            "text/plain": [
              "   0\n",
              "0  2\n",
              "1  1\n",
              "2  1\n",
              "3  0\n",
              "4  1"
            ]
          },
          "metadata": {
            "tags": []
          },
          "execution_count": 28
        }
      ]
    },
    {
      "cell_type": "code",
      "metadata": {
        "id": "YHvHRFwMFIkD",
        "colab_type": "code",
        "colab": {}
      },
      "source": [
        "base_c =['purple', 'indigo','orange']\n",
        "colorss = [base_c[centeoid] for centeoid in monel.labels_]"
      ],
      "execution_count": 29,
      "outputs": []
    },
    {
      "cell_type": "code",
      "metadata": {
        "id": "OIjF9fieFnja",
        "colab_type": "code",
        "colab": {
          "base_uri": "https://localhost:8080/",
          "height": 688
        },
        "outputId": "7bdf2cb7-bb42-4342-bada-01a1435384f5"
      },
      "source": [
        "fig, ax = plt.subplots()\n",
        "ax.scatter(df[feat[0]], df[feat[1]], c = colorss)\n",
        "ax.scatter(frame[0],frame[1],  c = base_c, s=100) #there was error brought by the centeroid data frame, there was on an x -index provided"
      ],
      "execution_count": 30,
      "outputs": [
        {
          "output_type": "error",
          "ename": "KeyError",
          "evalue": "ignored",
          "traceback": [
            "\u001b[0;31m---------------------------------------------------------------------------\u001b[0m",
            "\u001b[0;31mValueError\u001b[0m                                Traceback (most recent call last)",
            "\u001b[0;32m/usr/local/lib/python3.6/dist-packages/pandas/core/indexes/range.py\u001b[0m in \u001b[0;36mget_loc\u001b[0;34m(self, key, method, tolerance)\u001b[0m\n\u001b[1;32m    349\u001b[0m             \u001b[0;32mtry\u001b[0m\u001b[0;34m:\u001b[0m\u001b[0;34m\u001b[0m\u001b[0;34m\u001b[0m\u001b[0m\n\u001b[0;32m--> 350\u001b[0;31m                 \u001b[0;32mreturn\u001b[0m \u001b[0mself\u001b[0m\u001b[0;34m.\u001b[0m\u001b[0m_range\u001b[0m\u001b[0;34m.\u001b[0m\u001b[0mindex\u001b[0m\u001b[0;34m(\u001b[0m\u001b[0mnew_key\u001b[0m\u001b[0;34m)\u001b[0m\u001b[0;34m\u001b[0m\u001b[0;34m\u001b[0m\u001b[0m\n\u001b[0m\u001b[1;32m    351\u001b[0m             \u001b[0;32mexcept\u001b[0m \u001b[0mValueError\u001b[0m\u001b[0;34m:\u001b[0m\u001b[0;34m\u001b[0m\u001b[0;34m\u001b[0m\u001b[0m\n",
            "\u001b[0;31mValueError\u001b[0m: 1 is not in range",
            "\nDuring handling of the above exception, another exception occurred:\n",
            "\u001b[0;31mKeyError\u001b[0m                                  Traceback (most recent call last)",
            "\u001b[0;32m<ipython-input-30-2176d4860eb5>\u001b[0m in \u001b[0;36m<module>\u001b[0;34m()\u001b[0m\n\u001b[1;32m      1\u001b[0m \u001b[0mfig\u001b[0m\u001b[0;34m,\u001b[0m \u001b[0max\u001b[0m \u001b[0;34m=\u001b[0m \u001b[0mplt\u001b[0m\u001b[0;34m.\u001b[0m\u001b[0msubplots\u001b[0m\u001b[0;34m(\u001b[0m\u001b[0;34m)\u001b[0m\u001b[0;34m\u001b[0m\u001b[0;34m\u001b[0m\u001b[0m\n\u001b[1;32m      2\u001b[0m \u001b[0max\u001b[0m\u001b[0;34m.\u001b[0m\u001b[0mscatter\u001b[0m\u001b[0;34m(\u001b[0m\u001b[0mdf\u001b[0m\u001b[0;34m[\u001b[0m\u001b[0mfeat\u001b[0m\u001b[0;34m[\u001b[0m\u001b[0;36m0\u001b[0m\u001b[0;34m]\u001b[0m\u001b[0;34m]\u001b[0m\u001b[0;34m,\u001b[0m \u001b[0mdf\u001b[0m\u001b[0;34m[\u001b[0m\u001b[0mfeat\u001b[0m\u001b[0;34m[\u001b[0m\u001b[0;36m1\u001b[0m\u001b[0;34m]\u001b[0m\u001b[0;34m]\u001b[0m\u001b[0;34m,\u001b[0m \u001b[0mc\u001b[0m \u001b[0;34m=\u001b[0m \u001b[0mcolorss\u001b[0m\u001b[0;34m)\u001b[0m\u001b[0;34m\u001b[0m\u001b[0;34m\u001b[0m\u001b[0m\n\u001b[0;32m----> 3\u001b[0;31m \u001b[0max\u001b[0m\u001b[0;34m.\u001b[0m\u001b[0mscatter\u001b[0m\u001b[0;34m(\u001b[0m\u001b[0mframe\u001b[0m\u001b[0;34m[\u001b[0m\u001b[0;36m0\u001b[0m\u001b[0;34m]\u001b[0m\u001b[0;34m,\u001b[0m\u001b[0mframe\u001b[0m\u001b[0;34m[\u001b[0m\u001b[0;36m1\u001b[0m\u001b[0;34m]\u001b[0m\u001b[0;34m,\u001b[0m  \u001b[0mc\u001b[0m \u001b[0;34m=\u001b[0m \u001b[0mbase_c\u001b[0m\u001b[0;34m,\u001b[0m \u001b[0ms\u001b[0m\u001b[0;34m=\u001b[0m\u001b[0;36m100\u001b[0m\u001b[0;34m)\u001b[0m \u001b[0;31m#there was error brought by the centeroid data frame, there was on an x -index provided\u001b[0m\u001b[0;34m\u001b[0m\u001b[0;34m\u001b[0m\u001b[0m\n\u001b[0m",
            "\u001b[0;32m/usr/local/lib/python3.6/dist-packages/pandas/core/frame.py\u001b[0m in \u001b[0;36m__getitem__\u001b[0;34m(self, key)\u001b[0m\n\u001b[1;32m   2798\u001b[0m             \u001b[0;32mif\u001b[0m \u001b[0mself\u001b[0m\u001b[0;34m.\u001b[0m\u001b[0mcolumns\u001b[0m\u001b[0;34m.\u001b[0m\u001b[0mnlevels\u001b[0m \u001b[0;34m>\u001b[0m \u001b[0;36m1\u001b[0m\u001b[0;34m:\u001b[0m\u001b[0;34m\u001b[0m\u001b[0;34m\u001b[0m\u001b[0m\n\u001b[1;32m   2799\u001b[0m                 \u001b[0;32mreturn\u001b[0m \u001b[0mself\u001b[0m\u001b[0;34m.\u001b[0m\u001b[0m_getitem_multilevel\u001b[0m\u001b[0;34m(\u001b[0m\u001b[0mkey\u001b[0m\u001b[0;34m)\u001b[0m\u001b[0;34m\u001b[0m\u001b[0;34m\u001b[0m\u001b[0m\n\u001b[0;32m-> 2800\u001b[0;31m             \u001b[0mindexer\u001b[0m \u001b[0;34m=\u001b[0m \u001b[0mself\u001b[0m\u001b[0;34m.\u001b[0m\u001b[0mcolumns\u001b[0m\u001b[0;34m.\u001b[0m\u001b[0mget_loc\u001b[0m\u001b[0;34m(\u001b[0m\u001b[0mkey\u001b[0m\u001b[0;34m)\u001b[0m\u001b[0;34m\u001b[0m\u001b[0;34m\u001b[0m\u001b[0m\n\u001b[0m\u001b[1;32m   2801\u001b[0m             \u001b[0;32mif\u001b[0m \u001b[0mis_integer\u001b[0m\u001b[0;34m(\u001b[0m\u001b[0mindexer\u001b[0m\u001b[0;34m)\u001b[0m\u001b[0;34m:\u001b[0m\u001b[0;34m\u001b[0m\u001b[0;34m\u001b[0m\u001b[0m\n\u001b[1;32m   2802\u001b[0m                 \u001b[0mindexer\u001b[0m \u001b[0;34m=\u001b[0m \u001b[0;34m[\u001b[0m\u001b[0mindexer\u001b[0m\u001b[0;34m]\u001b[0m\u001b[0;34m\u001b[0m\u001b[0;34m\u001b[0m\u001b[0m\n",
            "\u001b[0;32m/usr/local/lib/python3.6/dist-packages/pandas/core/indexes/range.py\u001b[0m in \u001b[0;36mget_loc\u001b[0;34m(self, key, method, tolerance)\u001b[0m\n\u001b[1;32m    350\u001b[0m                 \u001b[0;32mreturn\u001b[0m \u001b[0mself\u001b[0m\u001b[0;34m.\u001b[0m\u001b[0m_range\u001b[0m\u001b[0;34m.\u001b[0m\u001b[0mindex\u001b[0m\u001b[0;34m(\u001b[0m\u001b[0mnew_key\u001b[0m\u001b[0;34m)\u001b[0m\u001b[0;34m\u001b[0m\u001b[0;34m\u001b[0m\u001b[0m\n\u001b[1;32m    351\u001b[0m             \u001b[0;32mexcept\u001b[0m \u001b[0mValueError\u001b[0m\u001b[0;34m:\u001b[0m\u001b[0;34m\u001b[0m\u001b[0;34m\u001b[0m\u001b[0m\n\u001b[0;32m--> 352\u001b[0;31m                 \u001b[0;32mraise\u001b[0m \u001b[0mKeyError\u001b[0m\u001b[0;34m(\u001b[0m\u001b[0mkey\u001b[0m\u001b[0;34m)\u001b[0m\u001b[0;34m\u001b[0m\u001b[0;34m\u001b[0m\u001b[0m\n\u001b[0m\u001b[1;32m    353\u001b[0m         \u001b[0;32mreturn\u001b[0m \u001b[0msuper\u001b[0m\u001b[0;34m(\u001b[0m\u001b[0;34m)\u001b[0m\u001b[0;34m.\u001b[0m\u001b[0mget_loc\u001b[0m\u001b[0;34m(\u001b[0m\u001b[0mkey\u001b[0m\u001b[0;34m,\u001b[0m \u001b[0mmethod\u001b[0m\u001b[0;34m=\u001b[0m\u001b[0mmethod\u001b[0m\u001b[0;34m,\u001b[0m \u001b[0mtolerance\u001b[0m\u001b[0;34m=\u001b[0m\u001b[0mtolerance\u001b[0m\u001b[0;34m)\u001b[0m\u001b[0;34m\u001b[0m\u001b[0;34m\u001b[0m\u001b[0m\n\u001b[1;32m    354\u001b[0m \u001b[0;34m\u001b[0m\u001b[0m\n",
            "\u001b[0;31mKeyError\u001b[0m: 1"
          ]
        },
        {
          "output_type": "display_data",
          "data": {
            "image/png": "[encoded data removed]",
            "text/plain": [
              "<Figure size 432x288 with 1 Axes>"
            ]
          },
          "metadata": {
            "tags": [],
            "needs_background": "light"
          }
        }
      ]
    },
    {
      "cell_type": "code",
      "metadata": {
        "id": "cGJ6m7Ko_ExS",
        "colab_type": "code",
        "colab": {}
      },
      "source": [
        "#K mean cluster withbdata set\n",
        "features = ['texture_mean', 'perimeter_mean']"
      ],
      "execution_count": 31,
      "outputs": []
    },
    {
      "cell_type": "code",
      "metadata": {
        "id": "NXR7EpR0_TpU",
        "colab_type": "code",
        "colab": {
          "base_uri": "https://localhost:8080/",
          "height": 297
        },
        "outputId": "5d227a8e-e722-40de-8f5f-f3654b95d816"
      },
      "source": [
        "df[features].plot(kind =\"scatter\", x =features[0], y= features[1])"
      ],
      "execution_count": 32,
      "outputs": [
        {
          "output_type": "execute_result",
          "data": {
            "text/plain": [
              "<matplotlib.axes._subplots.AxesSubplot at 0x7f8c5045fcc0>"
            ]
          },
          "metadata": {
            "tags": []
          },
          "execution_count": 32
        },
        {
          "output_type": "display_data",
          "data": {
            "image/png": "[encoded data removed]",
            "text/plain": [
              "<Figure size 432x288 with 1 Axes>"
            ]
          },
          "metadata": {
            "tags": [],
            "needs_background": "light"
          }
        }
      ]
    },
    {
      "cell_type": "code",
      "metadata": {
        "id": "Neudctmp_vaH",
        "colab_type": "code",
        "colab": {}
      },
      "source": [
        "k = 3\n",
        "mode = KMeans(n_clusters= k , max_iter= 1)"
      ],
      "execution_count": 33,
      "outputs": []
    },
    {
      "cell_type": "code",
      "metadata": {
        "id": "5ff8w4Bk_6pz",
        "colab_type": "code",
        "colab": {
          "base_uri": "https://localhost:8080/",
          "height": 70
        },
        "outputId": "946e7dc0-e331-4de4-dc0d-74b6d79b1680"
      },
      "source": [
        "mode.fit(df[features].values)"
      ],
      "execution_count": 34,
      "outputs": [
        {
          "output_type": "execute_result",
          "data": {
            "text/plain": [
              "KMeans(algorithm='auto', copy_x=True, init='k-means++', max_iter=1,\n",
              "       n_clusters=3, n_init=10, n_jobs=None, precompute_distances='auto',\n",
              "       random_state=None, tol=0.0001, verbose=0)"
            ]
          },
          "metadata": {
            "tags": []
          },
          "execution_count": 34
        }
      ]
    },
    {
      "cell_type": "code",
      "metadata": {
        "id": "yueo-FiiADdh",
        "colab_type": "code",
        "colab": {}
      },
      "source": [
        "df['cluster']=mode.labels_"
      ],
      "execution_count": 35,
      "outputs": []
    },
    {
      "cell_type": "code",
      "metadata": {
        "id": "6SRDk7KAAKoH",
        "colab_type": "code",
        "colab": {}
      },
      "source": [
        "centeroids = mode.labels_"
      ],
      "execution_count": 36,
      "outputs": []
    },
    {
      "cell_type": "code",
      "metadata": {
        "id": "kz2KdXNxAQTP",
        "colab_type": "code",
        "colab": {
          "base_uri": "https://localhost:8080/",
          "height": 197
        },
        "outputId": "644c357d-d18f-4bda-de43-9b23fb4ada8f"
      },
      "source": [
        "centerframe =pd.DataFrame(centeroids)\n",
        "centerframe.head()"
      ],
      "execution_count": 37,
      "outputs": [
        {
          "output_type": "execute_result",
          "data": {
            "text/html": [
              "<div>\n",
              "<style scoped>\n",
              "    .dataframe tbody tr th:only-of-type {\n",
              "        vertical-align: middle;\n",
              "    }\n",
              "\n",
              "    .dataframe tbody tr th {\n",
              "        vertical-align: top;\n",
              "    }\n",
              "\n",
              "    .dataframe thead th {\n",
              "        text-align: right;\n",
              "    }\n",
              "</style>\n",
              "<table border=\"1\" class=\"dataframe\">\n",
              "  <thead>\n",
              "    <tr style=\"text-align: right;\">\n",
              "      <th></th>\n",
              "      <th>0</th>\n",
              "    </tr>\n",
              "  </thead>\n",
              "  <tbody>\n",
              "    <tr>\n",
              "      <th>0</th>\n",
              "      <td>1</td>\n",
              "    </tr>\n",
              "    <tr>\n",
              "      <th>1</th>\n",
              "      <td>1</td>\n",
              "    </tr>\n",
              "    <tr>\n",
              "      <th>2</th>\n",
              "      <td>1</td>\n",
              "    </tr>\n",
              "    <tr>\n",
              "      <th>3</th>\n",
              "      <td>2</td>\n",
              "    </tr>\n",
              "    <tr>\n",
              "      <th>4</th>\n",
              "      <td>1</td>\n",
              "    </tr>\n",
              "  </tbody>\n",
              "</table>\n",
              "</div>"
            ],
            "text/plain": [
              "   0\n",
              "0  1\n",
              "1  1\n",
              "2  1\n",
              "3  2\n",
              "4  1"
            ]
          },
          "metadata": {
            "tags": []
          },
          "execution_count": 37
        }
      ]
    },
    {
      "cell_type": "code",
      "metadata": {
        "id": "n93B4DQQA3tb",
        "colab_type": "code",
        "colab": {}
      },
      "source": [
        "base_colors = ['r','b','y']\n",
        "colors = [base_colors[centeroids] for centeroids in mode.labels_]"
      ],
      "execution_count": 38,
      "outputs": []
    },
    {
      "cell_type": "code",
      "metadata": {
        "id": "IdU__tiIBOOm",
        "colab_type": "code",
        "colab": {
          "base_uri": "https://localhost:8080/",
          "height": 797
        },
        "outputId": "7f859868-cb0b-45ed-f1f2-61482ab528bc"
      },
      "source": [
        "fig, ax = plt.subplots(figsize =(7,6))\n",
        "ax.scatter(df[features[0]], df[features[1]], c = colors)\n",
        "ax.scatter(centerframe[0],centerframe[1], c = base_colors, s=100);"
      ],
      "execution_count": 39,
      "outputs": [
        {
          "output_type": "error",
          "ename": "KeyError",
          "evalue": "ignored",
          "traceback": [
            "\u001b[0;31m---------------------------------------------------------------------------\u001b[0m",
            "\u001b[0;31mValueError\u001b[0m                                Traceback (most recent call last)",
            "\u001b[0;32m/usr/local/lib/python3.6/dist-packages/pandas/core/indexes/range.py\u001b[0m in \u001b[0;36mget_loc\u001b[0;34m(self, key, method, tolerance)\u001b[0m\n\u001b[1;32m    349\u001b[0m             \u001b[0;32mtry\u001b[0m\u001b[0;34m:\u001b[0m\u001b[0;34m\u001b[0m\u001b[0;34m\u001b[0m\u001b[0m\n\u001b[0;32m--> 350\u001b[0;31m                 \u001b[0;32mreturn\u001b[0m \u001b[0mself\u001b[0m\u001b[0;34m.\u001b[0m\u001b[0m_range\u001b[0m\u001b[0;34m.\u001b[0m\u001b[0mindex\u001b[0m\u001b[0;34m(\u001b[0m\u001b[0mnew_key\u001b[0m\u001b[0;34m)\u001b[0m\u001b[0;34m\u001b[0m\u001b[0;34m\u001b[0m\u001b[0m\n\u001b[0m\u001b[1;32m    351\u001b[0m             \u001b[0;32mexcept\u001b[0m \u001b[0mValueError\u001b[0m\u001b[0;34m:\u001b[0m\u001b[0;34m\u001b[0m\u001b[0;34m\u001b[0m\u001b[0m\n",
            "\u001b[0;31mValueError\u001b[0m: 1 is not in range",
            "\nDuring handling of the above exception, another exception occurred:\n",
            "\u001b[0;31mKeyError\u001b[0m                                  Traceback (most recent call last)",
            "\u001b[0;32m<ipython-input-39-287bd807eb7e>\u001b[0m in \u001b[0;36m<module>\u001b[0;34m()\u001b[0m\n\u001b[1;32m      1\u001b[0m \u001b[0mfig\u001b[0m\u001b[0;34m,\u001b[0m \u001b[0max\u001b[0m \u001b[0;34m=\u001b[0m \u001b[0mplt\u001b[0m\u001b[0;34m.\u001b[0m\u001b[0msubplots\u001b[0m\u001b[0;34m(\u001b[0m\u001b[0mfigsize\u001b[0m \u001b[0;34m=\u001b[0m\u001b[0;34m(\u001b[0m\u001b[0;36m7\u001b[0m\u001b[0;34m,\u001b[0m\u001b[0;36m6\u001b[0m\u001b[0;34m)\u001b[0m\u001b[0;34m)\u001b[0m\u001b[0;34m\u001b[0m\u001b[0;34m\u001b[0m\u001b[0m\n\u001b[1;32m      2\u001b[0m \u001b[0max\u001b[0m\u001b[0;34m.\u001b[0m\u001b[0mscatter\u001b[0m\u001b[0;34m(\u001b[0m\u001b[0mdf\u001b[0m\u001b[0;34m[\u001b[0m\u001b[0mfeatures\u001b[0m\u001b[0;34m[\u001b[0m\u001b[0;36m0\u001b[0m\u001b[0;34m]\u001b[0m\u001b[0;34m]\u001b[0m\u001b[0;34m,\u001b[0m \u001b[0mdf\u001b[0m\u001b[0;34m[\u001b[0m\u001b[0mfeatures\u001b[0m\u001b[0;34m[\u001b[0m\u001b[0;36m1\u001b[0m\u001b[0;34m]\u001b[0m\u001b[0;34m]\u001b[0m\u001b[0;34m,\u001b[0m \u001b[0mc\u001b[0m \u001b[0;34m=\u001b[0m \u001b[0mcolors\u001b[0m\u001b[0;34m)\u001b[0m\u001b[0;34m\u001b[0m\u001b[0;34m\u001b[0m\u001b[0m\n\u001b[0;32m----> 3\u001b[0;31m \u001b[0max\u001b[0m\u001b[0;34m.\u001b[0m\u001b[0mscatter\u001b[0m\u001b[0;34m(\u001b[0m\u001b[0mcenterframe\u001b[0m\u001b[0;34m[\u001b[0m\u001b[0;36m0\u001b[0m\u001b[0;34m]\u001b[0m\u001b[0;34m,\u001b[0m\u001b[0mcenterframe\u001b[0m\u001b[0;34m[\u001b[0m\u001b[0;36m1\u001b[0m\u001b[0;34m]\u001b[0m\u001b[0;34m,\u001b[0m \u001b[0mc\u001b[0m \u001b[0;34m=\u001b[0m \u001b[0mbase_colors\u001b[0m\u001b[0;34m,\u001b[0m \u001b[0ms\u001b[0m\u001b[0;34m=\u001b[0m\u001b[0;36m100\u001b[0m\u001b[0;34m)\u001b[0m\u001b[0;34m;\u001b[0m\u001b[0;34m\u001b[0m\u001b[0;34m\u001b[0m\u001b[0m\n\u001b[0m",
            "\u001b[0;32m/usr/local/lib/python3.6/dist-packages/pandas/core/frame.py\u001b[0m in \u001b[0;36m__getitem__\u001b[0;34m(self, key)\u001b[0m\n\u001b[1;32m   2798\u001b[0m             \u001b[0;32mif\u001b[0m \u001b[0mself\u001b[0m\u001b[0;34m.\u001b[0m\u001b[0mcolumns\u001b[0m\u001b[0;34m.\u001b[0m\u001b[0mnlevels\u001b[0m \u001b[0;34m>\u001b[0m \u001b[0;36m1\u001b[0m\u001b[0;34m:\u001b[0m\u001b[0;34m\u001b[0m\u001b[0;34m\u001b[0m\u001b[0m\n\u001b[1;32m   2799\u001b[0m                 \u001b[0;32mreturn\u001b[0m \u001b[0mself\u001b[0m\u001b[0;34m.\u001b[0m\u001b[0m_getitem_multilevel\u001b[0m\u001b[0;34m(\u001b[0m\u001b[0mkey\u001b[0m\u001b[0;34m)\u001b[0m\u001b[0;34m\u001b[0m\u001b[0;34m\u001b[0m\u001b[0m\n\u001b[0;32m-> 2800\u001b[0;31m             \u001b[0mindexer\u001b[0m \u001b[0;34m=\u001b[0m \u001b[0mself\u001b[0m\u001b[0;34m.\u001b[0m\u001b[0mcolumns\u001b[0m\u001b[0;34m.\u001b[0m\u001b[0mget_loc\u001b[0m\u001b[0;34m(\u001b[0m\u001b[0mkey\u001b[0m\u001b[0;34m)\u001b[0m\u001b[0;34m\u001b[0m\u001b[0;34m\u001b[0m\u001b[0m\n\u001b[0m\u001b[1;32m   2801\u001b[0m             \u001b[0;32mif\u001b[0m \u001b[0mis_integer\u001b[0m\u001b[0;34m(\u001b[0m\u001b[0mindexer\u001b[0m\u001b[0;34m)\u001b[0m\u001b[0;34m:\u001b[0m\u001b[0;34m\u001b[0m\u001b[0;34m\u001b[0m\u001b[0m\n\u001b[1;32m   2802\u001b[0m                 \u001b[0mindexer\u001b[0m \u001b[0;34m=\u001b[0m \u001b[0;34m[\u001b[0m\u001b[0mindexer\u001b[0m\u001b[0;34m]\u001b[0m\u001b[0;34m\u001b[0m\u001b[0;34m\u001b[0m\u001b[0m\n",
            "\u001b[0;32m/usr/local/lib/python3.6/dist-packages/pandas/core/indexes/range.py\u001b[0m in \u001b[0;36mget_loc\u001b[0;34m(self, key, method, tolerance)\u001b[0m\n\u001b[1;32m    350\u001b[0m                 \u001b[0;32mreturn\u001b[0m \u001b[0mself\u001b[0m\u001b[0;34m.\u001b[0m\u001b[0m_range\u001b[0m\u001b[0;34m.\u001b[0m\u001b[0mindex\u001b[0m\u001b[0;34m(\u001b[0m\u001b[0mnew_key\u001b[0m\u001b[0;34m)\u001b[0m\u001b[0;34m\u001b[0m\u001b[0;34m\u001b[0m\u001b[0m\n\u001b[1;32m    351\u001b[0m             \u001b[0;32mexcept\u001b[0m \u001b[0mValueError\u001b[0m\u001b[0;34m:\u001b[0m\u001b[0;34m\u001b[0m\u001b[0;34m\u001b[0m\u001b[0m\n\u001b[0;32m--> 352\u001b[0;31m                 \u001b[0;32mraise\u001b[0m \u001b[0mKeyError\u001b[0m\u001b[0;34m(\u001b[0m\u001b[0mkey\u001b[0m\u001b[0;34m)\u001b[0m\u001b[0;34m\u001b[0m\u001b[0;34m\u001b[0m\u001b[0m\n\u001b[0m\u001b[1;32m    353\u001b[0m         \u001b[0;32mreturn\u001b[0m \u001b[0msuper\u001b[0m\u001b[0;34m(\u001b[0m\u001b[0;34m)\u001b[0m\u001b[0;34m.\u001b[0m\u001b[0mget_loc\u001b[0m\u001b[0;34m(\u001b[0m\u001b[0mkey\u001b[0m\u001b[0;34m,\u001b[0m \u001b[0mmethod\u001b[0m\u001b[0;34m=\u001b[0m\u001b[0mmethod\u001b[0m\u001b[0;34m,\u001b[0m \u001b[0mtolerance\u001b[0m\u001b[0;34m=\u001b[0m\u001b[0mtolerance\u001b[0m\u001b[0;34m)\u001b[0m\u001b[0;34m\u001b[0m\u001b[0;34m\u001b[0m\u001b[0m\n\u001b[1;32m    354\u001b[0m \u001b[0;34m\u001b[0m\u001b[0m\n",
            "\u001b[0;31mKeyError\u001b[0m: 1"
          ]
        },
        {
          "output_type": "display_data",
          "data": {
            "image/png": "[encoded data removed]",
            "text/plain": [
              "<Figure size 504x432 with 1 Axes>"
            ]
          },
          "metadata": {
            "tags": [],
            "needs_background": "light"
          }
        }
      ]
    },
    {
      "cell_type": "markdown",
      "metadata": {
        "id": "7ghqYSxrP_FE",
        "colab_type": "text"
      },
      "source": [
        "## Check you work: \n",
        "\n",
        "This is something that in a truly unsupervised learning situation **WOULD NOT BE POSSIBLE**. But for educational purposes go back and grab the true diagnosis column (label) from the original dataset. Take your cluster labels and compare them to the original diagnosis column. You can make scatterplots for each to see how they compare or you can calculate a percent accuracy score like: \n",
        "\\begin{align}\n",
        "\\frac{\\text{Num Correct Labels}}{\\text{Num Total Observations}}\n",
        "\\end{align}"
      ]
    },
    {
      "cell_type": "code",
      "metadata": {
        "id": "OIG7-yGLP-eA",
        "colab_type": "code",
        "colab": {
          "base_uri": "https://localhost:8080/",
          "height": 1000
        },
        "outputId": "85c1f0c3-a275-40fd-bc66-92b9b2efa19d"
      },
      "source": [
        "# Your Code Here\n",
        "datas = dfz.sample(50)\n",
        "datas"
      ],
      "execution_count": 40,
      "outputs": [
        {
          "output_type": "execute_result",
          "data": {
            "text/html": [
              "<div>\n",
              "<style scoped>\n",
              "    .dataframe tbody tr th:only-of-type {\n",
              "        vertical-align: middle;\n",
              "    }\n",
              "\n",
              "    .dataframe tbody tr th {\n",
              "        vertical-align: top;\n",
              "    }\n",
              "\n",
              "    .dataframe thead th {\n",
              "        text-align: right;\n",
              "    }\n",
              "</style>\n",
              "<table border=\"1\" class=\"dataframe\">\n",
              "  <thead>\n",
              "    <tr style=\"text-align: right;\">\n",
              "      <th></th>\n",
              "      <th>id</th>\n",
              "      <th>diagnosis</th>\n",
              "      <th>radius_mean</th>\n",
              "      <th>texture_mean</th>\n",
              "      <th>perimeter_mean</th>\n",
              "      <th>area_mean</th>\n",
              "      <th>smoothness_mean</th>\n",
              "      <th>compactness_mean</th>\n",
              "      <th>concavity_mean</th>\n",
              "      <th>concave points_mean</th>\n",
              "      <th>symmetry_mean</th>\n",
              "      <th>fractal_dimension_mean</th>\n",
              "      <th>radius_se</th>\n",
              "      <th>texture_se</th>\n",
              "      <th>perimeter_se</th>\n",
              "      <th>area_se</th>\n",
              "      <th>smoothness_se</th>\n",
              "      <th>compactness_se</th>\n",
              "      <th>concavity_se</th>\n",
              "      <th>concave points_se</th>\n",
              "      <th>symmetry_se</th>\n",
              "      <th>fractal_dimension_se</th>\n",
              "      <th>radius_worst</th>\n",
              "      <th>texture_worst</th>\n",
              "      <th>perimeter_worst</th>\n",
              "      <th>area_worst</th>\n",
              "      <th>smoothness_worst</th>\n",
              "      <th>compactness_worst</th>\n",
              "      <th>concavity_worst</th>\n",
              "      <th>concave points_worst</th>\n",
              "      <th>symmetry_worst</th>\n",
              "      <th>fractal_dimension_worst</th>\n",
              "      <th>Unnamed: 32</th>\n",
              "    </tr>\n",
              "  </thead>\n",
              "  <tbody>\n",
              "    <tr>\n",
              "      <th>43</th>\n",
              "      <td>856106</td>\n",
              "      <td>M</td>\n",
              "      <td>13.280</td>\n",
              "      <td>20.28</td>\n",
              "      <td>87.32</td>\n",
              "      <td>545.2</td>\n",
              "      <td>0.10410</td>\n",
              "      <td>0.14360</td>\n",
              "      <td>0.098470</td>\n",
              "      <td>0.061580</td>\n",
              "      <td>0.1974</td>\n",
              "      <td>0.06782</td>\n",
              "      <td>0.3704</td>\n",
              "      <td>0.8249</td>\n",
              "      <td>2.4270</td>\n",
              "      <td>31.330</td>\n",
              "      <td>0.005072</td>\n",
              "      <td>0.021470</td>\n",
              "      <td>0.021850</td>\n",
              "      <td>0.009560</td>\n",
              "      <td>0.017190</td>\n",
              "      <td>0.003317</td>\n",
              "      <td>17.380</td>\n",
              "      <td>28.00</td>\n",
              "      <td>113.10</td>\n",
              "      <td>907.2</td>\n",
              "      <td>0.15300</td>\n",
              "      <td>0.37240</td>\n",
              "      <td>0.366400</td>\n",
              "      <td>0.14920</td>\n",
              "      <td>0.3739</td>\n",
              "      <td>0.10270</td>\n",
              "      <td>NaN</td>\n",
              "    </tr>\n",
              "    <tr>\n",
              "      <th>469</th>\n",
              "      <td>911366</td>\n",
              "      <td>B</td>\n",
              "      <td>11.620</td>\n",
              "      <td>18.18</td>\n",
              "      <td>76.38</td>\n",
              "      <td>408.8</td>\n",
              "      <td>0.11750</td>\n",
              "      <td>0.14830</td>\n",
              "      <td>0.102000</td>\n",
              "      <td>0.055640</td>\n",
              "      <td>0.1957</td>\n",
              "      <td>0.07255</td>\n",
              "      <td>0.4101</td>\n",
              "      <td>1.7400</td>\n",
              "      <td>3.0270</td>\n",
              "      <td>27.850</td>\n",
              "      <td>0.014590</td>\n",
              "      <td>0.032060</td>\n",
              "      <td>0.049610</td>\n",
              "      <td>0.018410</td>\n",
              "      <td>0.018070</td>\n",
              "      <td>0.005217</td>\n",
              "      <td>13.360</td>\n",
              "      <td>25.40</td>\n",
              "      <td>88.14</td>\n",
              "      <td>528.1</td>\n",
              "      <td>0.17800</td>\n",
              "      <td>0.28780</td>\n",
              "      <td>0.318600</td>\n",
              "      <td>0.14160</td>\n",
              "      <td>0.2660</td>\n",
              "      <td>0.09270</td>\n",
              "      <td>NaN</td>\n",
              "    </tr>\n",
              "    <tr>\n",
              "      <th>341</th>\n",
              "      <td>898143</td>\n",
              "      <td>B</td>\n",
              "      <td>9.606</td>\n",
              "      <td>16.84</td>\n",
              "      <td>61.64</td>\n",
              "      <td>280.5</td>\n",
              "      <td>0.08481</td>\n",
              "      <td>0.09228</td>\n",
              "      <td>0.084220</td>\n",
              "      <td>0.022920</td>\n",
              "      <td>0.2036</td>\n",
              "      <td>0.07125</td>\n",
              "      <td>0.1844</td>\n",
              "      <td>0.9429</td>\n",
              "      <td>1.4290</td>\n",
              "      <td>12.070</td>\n",
              "      <td>0.005954</td>\n",
              "      <td>0.034710</td>\n",
              "      <td>0.050280</td>\n",
              "      <td>0.008510</td>\n",
              "      <td>0.017500</td>\n",
              "      <td>0.004031</td>\n",
              "      <td>10.750</td>\n",
              "      <td>23.07</td>\n",
              "      <td>71.25</td>\n",
              "      <td>353.6</td>\n",
              "      <td>0.12330</td>\n",
              "      <td>0.34160</td>\n",
              "      <td>0.434100</td>\n",
              "      <td>0.08120</td>\n",
              "      <td>0.2982</td>\n",
              "      <td>0.09825</td>\n",
              "      <td>NaN</td>\n",
              "    </tr>\n",
              "    <tr>\n",
              "      <th>372</th>\n",
              "      <td>9012795</td>\n",
              "      <td>M</td>\n",
              "      <td>21.370</td>\n",
              "      <td>15.10</td>\n",
              "      <td>141.30</td>\n",
              "      <td>1386.0</td>\n",
              "      <td>0.10010</td>\n",
              "      <td>0.15150</td>\n",
              "      <td>0.193200</td>\n",
              "      <td>0.125500</td>\n",
              "      <td>0.1973</td>\n",
              "      <td>0.06183</td>\n",
              "      <td>0.3414</td>\n",
              "      <td>1.3090</td>\n",
              "      <td>2.4070</td>\n",
              "      <td>39.060</td>\n",
              "      <td>0.004426</td>\n",
              "      <td>0.026750</td>\n",
              "      <td>0.034370</td>\n",
              "      <td>0.013430</td>\n",
              "      <td>0.016750</td>\n",
              "      <td>0.004367</td>\n",
              "      <td>22.690</td>\n",
              "      <td>21.84</td>\n",
              "      <td>152.10</td>\n",
              "      <td>1535.0</td>\n",
              "      <td>0.11920</td>\n",
              "      <td>0.28400</td>\n",
              "      <td>0.402400</td>\n",
              "      <td>0.19660</td>\n",
              "      <td>0.2730</td>\n",
              "      <td>0.08666</td>\n",
              "      <td>NaN</td>\n",
              "    </tr>\n",
              "    <tr>\n",
              "      <th>110</th>\n",
              "      <td>864033</td>\n",
              "      <td>B</td>\n",
              "      <td>9.777</td>\n",
              "      <td>16.99</td>\n",
              "      <td>62.50</td>\n",
              "      <td>290.2</td>\n",
              "      <td>0.10370</td>\n",
              "      <td>0.08404</td>\n",
              "      <td>0.043340</td>\n",
              "      <td>0.017780</td>\n",
              "      <td>0.1584</td>\n",
              "      <td>0.07065</td>\n",
              "      <td>0.4030</td>\n",
              "      <td>1.4240</td>\n",
              "      <td>2.7470</td>\n",
              "      <td>22.870</td>\n",
              "      <td>0.013850</td>\n",
              "      <td>0.029320</td>\n",
              "      <td>0.027220</td>\n",
              "      <td>0.010230</td>\n",
              "      <td>0.032810</td>\n",
              "      <td>0.004638</td>\n",
              "      <td>11.050</td>\n",
              "      <td>21.47</td>\n",
              "      <td>71.68</td>\n",
              "      <td>367.0</td>\n",
              "      <td>0.14670</td>\n",
              "      <td>0.17650</td>\n",
              "      <td>0.130000</td>\n",
              "      <td>0.05334</td>\n",
              "      <td>0.2533</td>\n",
              "      <td>0.08468</td>\n",
              "      <td>NaN</td>\n",
              "    </tr>\n",
              "    <tr>\n",
              "      <th>9</th>\n",
              "      <td>84501001</td>\n",
              "      <td>M</td>\n",
              "      <td>12.460</td>\n",
              "      <td>24.04</td>\n",
              "      <td>83.97</td>\n",
              "      <td>475.9</td>\n",
              "      <td>0.11860</td>\n",
              "      <td>0.23960</td>\n",
              "      <td>0.227300</td>\n",
              "      <td>0.085430</td>\n",
              "      <td>0.2030</td>\n",
              "      <td>0.08243</td>\n",
              "      <td>0.2976</td>\n",
              "      <td>1.5990</td>\n",
              "      <td>2.0390</td>\n",
              "      <td>23.940</td>\n",
              "      <td>0.007149</td>\n",
              "      <td>0.072170</td>\n",
              "      <td>0.077430</td>\n",
              "      <td>0.014320</td>\n",
              "      <td>0.017890</td>\n",
              "      <td>0.010080</td>\n",
              "      <td>15.090</td>\n",
              "      <td>40.68</td>\n",
              "      <td>97.65</td>\n",
              "      <td>711.4</td>\n",
              "      <td>0.18530</td>\n",
              "      <td>1.05800</td>\n",
              "      <td>1.105000</td>\n",
              "      <td>0.22100</td>\n",
              "      <td>0.4366</td>\n",
              "      <td>0.20750</td>\n",
              "      <td>NaN</td>\n",
              "    </tr>\n",
              "    <tr>\n",
              "      <th>118</th>\n",
              "      <td>864877</td>\n",
              "      <td>M</td>\n",
              "      <td>15.780</td>\n",
              "      <td>22.91</td>\n",
              "      <td>105.70</td>\n",
              "      <td>782.6</td>\n",
              "      <td>0.11550</td>\n",
              "      <td>0.17520</td>\n",
              "      <td>0.213300</td>\n",
              "      <td>0.094790</td>\n",
              "      <td>0.2096</td>\n",
              "      <td>0.07331</td>\n",
              "      <td>0.5520</td>\n",
              "      <td>1.0720</td>\n",
              "      <td>3.5980</td>\n",
              "      <td>58.630</td>\n",
              "      <td>0.008699</td>\n",
              "      <td>0.039760</td>\n",
              "      <td>0.059500</td>\n",
              "      <td>0.013900</td>\n",
              "      <td>0.014950</td>\n",
              "      <td>0.005984</td>\n",
              "      <td>20.190</td>\n",
              "      <td>30.50</td>\n",
              "      <td>130.30</td>\n",
              "      <td>1272.0</td>\n",
              "      <td>0.18550</td>\n",
              "      <td>0.49250</td>\n",
              "      <td>0.735600</td>\n",
              "      <td>0.20340</td>\n",
              "      <td>0.3274</td>\n",
              "      <td>0.12520</td>\n",
              "      <td>NaN</td>\n",
              "    </tr>\n",
              "    <tr>\n",
              "      <th>525</th>\n",
              "      <td>91805</td>\n",
              "      <td>B</td>\n",
              "      <td>8.571</td>\n",
              "      <td>13.10</td>\n",
              "      <td>54.53</td>\n",
              "      <td>221.3</td>\n",
              "      <td>0.10360</td>\n",
              "      <td>0.07632</td>\n",
              "      <td>0.025650</td>\n",
              "      <td>0.015100</td>\n",
              "      <td>0.1678</td>\n",
              "      <td>0.07126</td>\n",
              "      <td>0.1267</td>\n",
              "      <td>0.6793</td>\n",
              "      <td>1.0690</td>\n",
              "      <td>7.254</td>\n",
              "      <td>0.007897</td>\n",
              "      <td>0.017620</td>\n",
              "      <td>0.018010</td>\n",
              "      <td>0.007320</td>\n",
              "      <td>0.015920</td>\n",
              "      <td>0.003925</td>\n",
              "      <td>9.473</td>\n",
              "      <td>18.45</td>\n",
              "      <td>63.30</td>\n",
              "      <td>275.6</td>\n",
              "      <td>0.16410</td>\n",
              "      <td>0.22350</td>\n",
              "      <td>0.175400</td>\n",
              "      <td>0.08512</td>\n",
              "      <td>0.2983</td>\n",
              "      <td>0.10490</td>\n",
              "      <td>NaN</td>\n",
              "    </tr>\n",
              "    <tr>\n",
              "      <th>167</th>\n",
              "      <td>8712729</td>\n",
              "      <td>M</td>\n",
              "      <td>16.780</td>\n",
              "      <td>18.80</td>\n",
              "      <td>109.30</td>\n",
              "      <td>886.3</td>\n",
              "      <td>0.08865</td>\n",
              "      <td>0.09182</td>\n",
              "      <td>0.084220</td>\n",
              "      <td>0.065760</td>\n",
              "      <td>0.1893</td>\n",
              "      <td>0.05534</td>\n",
              "      <td>0.5990</td>\n",
              "      <td>1.3910</td>\n",
              "      <td>4.1290</td>\n",
              "      <td>67.340</td>\n",
              "      <td>0.006123</td>\n",
              "      <td>0.024700</td>\n",
              "      <td>0.026260</td>\n",
              "      <td>0.016040</td>\n",
              "      <td>0.020910</td>\n",
              "      <td>0.003493</td>\n",
              "      <td>20.050</td>\n",
              "      <td>26.30</td>\n",
              "      <td>130.70</td>\n",
              "      <td>1260.0</td>\n",
              "      <td>0.11680</td>\n",
              "      <td>0.21190</td>\n",
              "      <td>0.231800</td>\n",
              "      <td>0.14740</td>\n",
              "      <td>0.2810</td>\n",
              "      <td>0.07228</td>\n",
              "      <td>NaN</td>\n",
              "    </tr>\n",
              "    <tr>\n",
              "      <th>542</th>\n",
              "      <td>921644</td>\n",
              "      <td>B</td>\n",
              "      <td>14.740</td>\n",
              "      <td>25.42</td>\n",
              "      <td>94.70</td>\n",
              "      <td>668.6</td>\n",
              "      <td>0.08275</td>\n",
              "      <td>0.07214</td>\n",
              "      <td>0.041050</td>\n",
              "      <td>0.030270</td>\n",
              "      <td>0.1840</td>\n",
              "      <td>0.05680</td>\n",
              "      <td>0.3031</td>\n",
              "      <td>1.3850</td>\n",
              "      <td>2.1770</td>\n",
              "      <td>27.410</td>\n",
              "      <td>0.004775</td>\n",
              "      <td>0.011720</td>\n",
              "      <td>0.019470</td>\n",
              "      <td>0.012690</td>\n",
              "      <td>0.018700</td>\n",
              "      <td>0.002626</td>\n",
              "      <td>16.510</td>\n",
              "      <td>32.29</td>\n",
              "      <td>107.40</td>\n",
              "      <td>826.4</td>\n",
              "      <td>0.10600</td>\n",
              "      <td>0.13760</td>\n",
              "      <td>0.161100</td>\n",
              "      <td>0.10950</td>\n",
              "      <td>0.2722</td>\n",
              "      <td>0.06956</td>\n",
              "      <td>NaN</td>\n",
              "    </tr>\n",
              "    <tr>\n",
              "      <th>182</th>\n",
              "      <td>873701</td>\n",
              "      <td>M</td>\n",
              "      <td>15.700</td>\n",
              "      <td>20.31</td>\n",
              "      <td>101.20</td>\n",
              "      <td>766.6</td>\n",
              "      <td>0.09597</td>\n",
              "      <td>0.08799</td>\n",
              "      <td>0.065930</td>\n",
              "      <td>0.051890</td>\n",
              "      <td>0.1618</td>\n",
              "      <td>0.05549</td>\n",
              "      <td>0.3699</td>\n",
              "      <td>1.1500</td>\n",
              "      <td>2.4060</td>\n",
              "      <td>40.980</td>\n",
              "      <td>0.004626</td>\n",
              "      <td>0.022630</td>\n",
              "      <td>0.019540</td>\n",
              "      <td>0.009767</td>\n",
              "      <td>0.015470</td>\n",
              "      <td>0.002430</td>\n",
              "      <td>20.110</td>\n",
              "      <td>32.82</td>\n",
              "      <td>129.30</td>\n",
              "      <td>1269.0</td>\n",
              "      <td>0.14140</td>\n",
              "      <td>0.35470</td>\n",
              "      <td>0.290200</td>\n",
              "      <td>0.15410</td>\n",
              "      <td>0.3437</td>\n",
              "      <td>0.08631</td>\n",
              "      <td>NaN</td>\n",
              "    </tr>\n",
              "    <tr>\n",
              "      <th>100</th>\n",
              "      <td>862717</td>\n",
              "      <td>M</td>\n",
              "      <td>13.610</td>\n",
              "      <td>24.98</td>\n",
              "      <td>88.05</td>\n",
              "      <td>582.7</td>\n",
              "      <td>0.09488</td>\n",
              "      <td>0.08511</td>\n",
              "      <td>0.086250</td>\n",
              "      <td>0.044890</td>\n",
              "      <td>0.1609</td>\n",
              "      <td>0.05871</td>\n",
              "      <td>0.4565</td>\n",
              "      <td>1.2900</td>\n",
              "      <td>2.8610</td>\n",
              "      <td>43.140</td>\n",
              "      <td>0.005872</td>\n",
              "      <td>0.014880</td>\n",
              "      <td>0.026470</td>\n",
              "      <td>0.009921</td>\n",
              "      <td>0.014650</td>\n",
              "      <td>0.002355</td>\n",
              "      <td>16.990</td>\n",
              "      <td>35.27</td>\n",
              "      <td>108.60</td>\n",
              "      <td>906.5</td>\n",
              "      <td>0.12650</td>\n",
              "      <td>0.19430</td>\n",
              "      <td>0.316900</td>\n",
              "      <td>0.11840</td>\n",
              "      <td>0.2651</td>\n",
              "      <td>0.07397</td>\n",
              "      <td>NaN</td>\n",
              "    </tr>\n",
              "    <tr>\n",
              "      <th>427</th>\n",
              "      <td>90745</td>\n",
              "      <td>B</td>\n",
              "      <td>10.800</td>\n",
              "      <td>21.98</td>\n",
              "      <td>68.79</td>\n",
              "      <td>359.9</td>\n",
              "      <td>0.08801</td>\n",
              "      <td>0.05743</td>\n",
              "      <td>0.036140</td>\n",
              "      <td>0.014040</td>\n",
              "      <td>0.2016</td>\n",
              "      <td>0.05977</td>\n",
              "      <td>0.3077</td>\n",
              "      <td>1.6210</td>\n",
              "      <td>2.2400</td>\n",
              "      <td>20.200</td>\n",
              "      <td>0.006543</td>\n",
              "      <td>0.021480</td>\n",
              "      <td>0.029910</td>\n",
              "      <td>0.010450</td>\n",
              "      <td>0.018440</td>\n",
              "      <td>0.002690</td>\n",
              "      <td>12.760</td>\n",
              "      <td>32.04</td>\n",
              "      <td>83.69</td>\n",
              "      <td>489.5</td>\n",
              "      <td>0.13030</td>\n",
              "      <td>0.16960</td>\n",
              "      <td>0.192700</td>\n",
              "      <td>0.07485</td>\n",
              "      <td>0.2965</td>\n",
              "      <td>0.07662</td>\n",
              "      <td>NaN</td>\n",
              "    </tr>\n",
              "    <tr>\n",
              "      <th>403</th>\n",
              "      <td>9047</td>\n",
              "      <td>B</td>\n",
              "      <td>12.940</td>\n",
              "      <td>16.17</td>\n",
              "      <td>83.18</td>\n",
              "      <td>507.6</td>\n",
              "      <td>0.09879</td>\n",
              "      <td>0.08836</td>\n",
              "      <td>0.032960</td>\n",
              "      <td>0.023900</td>\n",
              "      <td>0.1735</td>\n",
              "      <td>0.06200</td>\n",
              "      <td>0.1458</td>\n",
              "      <td>0.9050</td>\n",
              "      <td>0.9975</td>\n",
              "      <td>11.360</td>\n",
              "      <td>0.002887</td>\n",
              "      <td>0.012850</td>\n",
              "      <td>0.016130</td>\n",
              "      <td>0.007308</td>\n",
              "      <td>0.018700</td>\n",
              "      <td>0.001972</td>\n",
              "      <td>13.860</td>\n",
              "      <td>23.02</td>\n",
              "      <td>89.69</td>\n",
              "      <td>580.9</td>\n",
              "      <td>0.11720</td>\n",
              "      <td>0.19580</td>\n",
              "      <td>0.181000</td>\n",
              "      <td>0.08388</td>\n",
              "      <td>0.3297</td>\n",
              "      <td>0.07834</td>\n",
              "      <td>NaN</td>\n",
              "    </tr>\n",
              "    <tr>\n",
              "      <th>227</th>\n",
              "      <td>88147102</td>\n",
              "      <td>B</td>\n",
              "      <td>15.000</td>\n",
              "      <td>15.51</td>\n",
              "      <td>97.45</td>\n",
              "      <td>684.5</td>\n",
              "      <td>0.08371</td>\n",
              "      <td>0.10960</td>\n",
              "      <td>0.065050</td>\n",
              "      <td>0.037800</td>\n",
              "      <td>0.1881</td>\n",
              "      <td>0.05907</td>\n",
              "      <td>0.2318</td>\n",
              "      <td>0.4966</td>\n",
              "      <td>2.2760</td>\n",
              "      <td>19.880</td>\n",
              "      <td>0.004119</td>\n",
              "      <td>0.032070</td>\n",
              "      <td>0.036440</td>\n",
              "      <td>0.011550</td>\n",
              "      <td>0.013910</td>\n",
              "      <td>0.003204</td>\n",
              "      <td>16.410</td>\n",
              "      <td>19.31</td>\n",
              "      <td>114.20</td>\n",
              "      <td>808.2</td>\n",
              "      <td>0.11360</td>\n",
              "      <td>0.36270</td>\n",
              "      <td>0.340200</td>\n",
              "      <td>0.13790</td>\n",
              "      <td>0.2954</td>\n",
              "      <td>0.08362</td>\n",
              "      <td>NaN</td>\n",
              "    </tr>\n",
              "    <tr>\n",
              "      <th>527</th>\n",
              "      <td>91813702</td>\n",
              "      <td>B</td>\n",
              "      <td>12.340</td>\n",
              "      <td>12.27</td>\n",
              "      <td>78.94</td>\n",
              "      <td>468.5</td>\n",
              "      <td>0.09003</td>\n",
              "      <td>0.06307</td>\n",
              "      <td>0.029580</td>\n",
              "      <td>0.026470</td>\n",
              "      <td>0.1689</td>\n",
              "      <td>0.05808</td>\n",
              "      <td>0.1166</td>\n",
              "      <td>0.4957</td>\n",
              "      <td>0.7714</td>\n",
              "      <td>8.955</td>\n",
              "      <td>0.003681</td>\n",
              "      <td>0.009169</td>\n",
              "      <td>0.008732</td>\n",
              "      <td>0.005740</td>\n",
              "      <td>0.011290</td>\n",
              "      <td>0.001366</td>\n",
              "      <td>13.610</td>\n",
              "      <td>19.27</td>\n",
              "      <td>87.22</td>\n",
              "      <td>564.9</td>\n",
              "      <td>0.12920</td>\n",
              "      <td>0.20740</td>\n",
              "      <td>0.179100</td>\n",
              "      <td>0.10700</td>\n",
              "      <td>0.3110</td>\n",
              "      <td>0.07592</td>\n",
              "      <td>NaN</td>\n",
              "    </tr>\n",
              "    <tr>\n",
              "      <th>140</th>\n",
              "      <td>868999</td>\n",
              "      <td>B</td>\n",
              "      <td>9.738</td>\n",
              "      <td>11.97</td>\n",
              "      <td>61.24</td>\n",
              "      <td>288.5</td>\n",
              "      <td>0.09250</td>\n",
              "      <td>0.04102</td>\n",
              "      <td>0.000000</td>\n",
              "      <td>0.000000</td>\n",
              "      <td>0.1903</td>\n",
              "      <td>0.06422</td>\n",
              "      <td>0.1988</td>\n",
              "      <td>0.4960</td>\n",
              "      <td>1.2180</td>\n",
              "      <td>12.260</td>\n",
              "      <td>0.006040</td>\n",
              "      <td>0.005656</td>\n",
              "      <td>0.000000</td>\n",
              "      <td>0.000000</td>\n",
              "      <td>0.022770</td>\n",
              "      <td>0.003220</td>\n",
              "      <td>10.620</td>\n",
              "      <td>14.10</td>\n",
              "      <td>66.53</td>\n",
              "      <td>342.9</td>\n",
              "      <td>0.12340</td>\n",
              "      <td>0.07204</td>\n",
              "      <td>0.000000</td>\n",
              "      <td>0.00000</td>\n",
              "      <td>0.3105</td>\n",
              "      <td>0.08151</td>\n",
              "      <td>NaN</td>\n",
              "    </tr>\n",
              "    <tr>\n",
              "      <th>331</th>\n",
              "      <td>896864</td>\n",
              "      <td>B</td>\n",
              "      <td>12.980</td>\n",
              "      <td>19.35</td>\n",
              "      <td>84.52</td>\n",
              "      <td>514.0</td>\n",
              "      <td>0.09579</td>\n",
              "      <td>0.11250</td>\n",
              "      <td>0.071070</td>\n",
              "      <td>0.029500</td>\n",
              "      <td>0.1761</td>\n",
              "      <td>0.06540</td>\n",
              "      <td>0.2684</td>\n",
              "      <td>0.5664</td>\n",
              "      <td>2.4650</td>\n",
              "      <td>20.650</td>\n",
              "      <td>0.005727</td>\n",
              "      <td>0.032550</td>\n",
              "      <td>0.043930</td>\n",
              "      <td>0.009811</td>\n",
              "      <td>0.027510</td>\n",
              "      <td>0.004572</td>\n",
              "      <td>14.420</td>\n",
              "      <td>21.95</td>\n",
              "      <td>99.21</td>\n",
              "      <td>634.3</td>\n",
              "      <td>0.12880</td>\n",
              "      <td>0.32530</td>\n",
              "      <td>0.343900</td>\n",
              "      <td>0.09858</td>\n",
              "      <td>0.3596</td>\n",
              "      <td>0.09166</td>\n",
              "      <td>NaN</td>\n",
              "    </tr>\n",
              "    <tr>\n",
              "      <th>272</th>\n",
              "      <td>8910988</td>\n",
              "      <td>M</td>\n",
              "      <td>21.750</td>\n",
              "      <td>20.99</td>\n",
              "      <td>147.30</td>\n",
              "      <td>1491.0</td>\n",
              "      <td>0.09401</td>\n",
              "      <td>0.19610</td>\n",
              "      <td>0.219500</td>\n",
              "      <td>0.108800</td>\n",
              "      <td>0.1721</td>\n",
              "      <td>0.06194</td>\n",
              "      <td>1.1670</td>\n",
              "      <td>1.3520</td>\n",
              "      <td>8.8670</td>\n",
              "      <td>156.800</td>\n",
              "      <td>0.005687</td>\n",
              "      <td>0.049600</td>\n",
              "      <td>0.063290</td>\n",
              "      <td>0.015610</td>\n",
              "      <td>0.019240</td>\n",
              "      <td>0.004614</td>\n",
              "      <td>28.190</td>\n",
              "      <td>28.18</td>\n",
              "      <td>195.90</td>\n",
              "      <td>2384.0</td>\n",
              "      <td>0.12720</td>\n",
              "      <td>0.47250</td>\n",
              "      <td>0.580700</td>\n",
              "      <td>0.18410</td>\n",
              "      <td>0.2833</td>\n",
              "      <td>0.08858</td>\n",
              "      <td>NaN</td>\n",
              "    </tr>\n",
              "    <tr>\n",
              "      <th>276</th>\n",
              "      <td>8911230</td>\n",
              "      <td>B</td>\n",
              "      <td>11.330</td>\n",
              "      <td>14.16</td>\n",
              "      <td>71.79</td>\n",
              "      <td>396.6</td>\n",
              "      <td>0.09379</td>\n",
              "      <td>0.03872</td>\n",
              "      <td>0.001487</td>\n",
              "      <td>0.003333</td>\n",
              "      <td>0.1954</td>\n",
              "      <td>0.05821</td>\n",
              "      <td>0.2375</td>\n",
              "      <td>1.2800</td>\n",
              "      <td>1.5650</td>\n",
              "      <td>17.090</td>\n",
              "      <td>0.008426</td>\n",
              "      <td>0.008998</td>\n",
              "      <td>0.001487</td>\n",
              "      <td>0.003333</td>\n",
              "      <td>0.023580</td>\n",
              "      <td>0.001627</td>\n",
              "      <td>12.200</td>\n",
              "      <td>18.99</td>\n",
              "      <td>77.37</td>\n",
              "      <td>458.0</td>\n",
              "      <td>0.12590</td>\n",
              "      <td>0.07348</td>\n",
              "      <td>0.004955</td>\n",
              "      <td>0.01111</td>\n",
              "      <td>0.2758</td>\n",
              "      <td>0.06386</td>\n",
              "      <td>NaN</td>\n",
              "    </tr>\n",
              "    <tr>\n",
              "      <th>133</th>\n",
              "      <td>867387</td>\n",
              "      <td>B</td>\n",
              "      <td>15.710</td>\n",
              "      <td>13.93</td>\n",
              "      <td>102.00</td>\n",
              "      <td>761.7</td>\n",
              "      <td>0.09462</td>\n",
              "      <td>0.09462</td>\n",
              "      <td>0.071350</td>\n",
              "      <td>0.059330</td>\n",
              "      <td>0.1816</td>\n",
              "      <td>0.05723</td>\n",
              "      <td>0.3117</td>\n",
              "      <td>0.8155</td>\n",
              "      <td>1.9720</td>\n",
              "      <td>27.940</td>\n",
              "      <td>0.005217</td>\n",
              "      <td>0.015150</td>\n",
              "      <td>0.016780</td>\n",
              "      <td>0.012680</td>\n",
              "      <td>0.016690</td>\n",
              "      <td>0.002330</td>\n",
              "      <td>17.500</td>\n",
              "      <td>19.25</td>\n",
              "      <td>114.30</td>\n",
              "      <td>922.8</td>\n",
              "      <td>0.12230</td>\n",
              "      <td>0.19490</td>\n",
              "      <td>0.170900</td>\n",
              "      <td>0.13740</td>\n",
              "      <td>0.2723</td>\n",
              "      <td>0.07071</td>\n",
              "      <td>NaN</td>\n",
              "    </tr>\n",
              "    <tr>\n",
              "      <th>194</th>\n",
              "      <td>87556202</td>\n",
              "      <td>M</td>\n",
              "      <td>14.860</td>\n",
              "      <td>23.21</td>\n",
              "      <td>100.40</td>\n",
              "      <td>671.4</td>\n",
              "      <td>0.10440</td>\n",
              "      <td>0.19800</td>\n",
              "      <td>0.169700</td>\n",
              "      <td>0.088780</td>\n",
              "      <td>0.1737</td>\n",
              "      <td>0.06672</td>\n",
              "      <td>0.2796</td>\n",
              "      <td>0.9622</td>\n",
              "      <td>3.5910</td>\n",
              "      <td>25.200</td>\n",
              "      <td>0.008081</td>\n",
              "      <td>0.051220</td>\n",
              "      <td>0.055510</td>\n",
              "      <td>0.018830</td>\n",
              "      <td>0.025450</td>\n",
              "      <td>0.004312</td>\n",
              "      <td>16.080</td>\n",
              "      <td>27.78</td>\n",
              "      <td>118.60</td>\n",
              "      <td>784.7</td>\n",
              "      <td>0.13160</td>\n",
              "      <td>0.46480</td>\n",
              "      <td>0.458900</td>\n",
              "      <td>0.17270</td>\n",
              "      <td>0.3000</td>\n",
              "      <td>0.08701</td>\n",
              "      <td>NaN</td>\n",
              "    </tr>\n",
              "    <tr>\n",
              "      <th>382</th>\n",
              "      <td>90250</td>\n",
              "      <td>B</td>\n",
              "      <td>12.050</td>\n",
              "      <td>22.72</td>\n",
              "      <td>78.75</td>\n",
              "      <td>447.8</td>\n",
              "      <td>0.06935</td>\n",
              "      <td>0.10730</td>\n",
              "      <td>0.079430</td>\n",
              "      <td>0.029780</td>\n",
              "      <td>0.1203</td>\n",
              "      <td>0.06659</td>\n",
              "      <td>0.1194</td>\n",
              "      <td>1.4340</td>\n",
              "      <td>1.7780</td>\n",
              "      <td>9.549</td>\n",
              "      <td>0.005042</td>\n",
              "      <td>0.045600</td>\n",
              "      <td>0.043050</td>\n",
              "      <td>0.016670</td>\n",
              "      <td>0.024700</td>\n",
              "      <td>0.007358</td>\n",
              "      <td>12.570</td>\n",
              "      <td>28.71</td>\n",
              "      <td>87.36</td>\n",
              "      <td>488.4</td>\n",
              "      <td>0.08799</td>\n",
              "      <td>0.32140</td>\n",
              "      <td>0.291200</td>\n",
              "      <td>0.10920</td>\n",
              "      <td>0.2191</td>\n",
              "      <td>0.09349</td>\n",
              "      <td>NaN</td>\n",
              "    </tr>\n",
              "    <tr>\n",
              "      <th>496</th>\n",
              "      <td>914366</td>\n",
              "      <td>B</td>\n",
              "      <td>12.650</td>\n",
              "      <td>18.17</td>\n",
              "      <td>82.69</td>\n",
              "      <td>485.6</td>\n",
              "      <td>0.10760</td>\n",
              "      <td>0.13340</td>\n",
              "      <td>0.080170</td>\n",
              "      <td>0.050740</td>\n",
              "      <td>0.1641</td>\n",
              "      <td>0.06854</td>\n",
              "      <td>0.2324</td>\n",
              "      <td>0.6332</td>\n",
              "      <td>1.6960</td>\n",
              "      <td>18.400</td>\n",
              "      <td>0.005704</td>\n",
              "      <td>0.025020</td>\n",
              "      <td>0.026360</td>\n",
              "      <td>0.010320</td>\n",
              "      <td>0.017590</td>\n",
              "      <td>0.003563</td>\n",
              "      <td>14.380</td>\n",
              "      <td>22.15</td>\n",
              "      <td>95.29</td>\n",
              "      <td>633.7</td>\n",
              "      <td>0.15330</td>\n",
              "      <td>0.38420</td>\n",
              "      <td>0.358200</td>\n",
              "      <td>0.14070</td>\n",
              "      <td>0.3230</td>\n",
              "      <td>0.10330</td>\n",
              "      <td>NaN</td>\n",
              "    </tr>\n",
              "    <tr>\n",
              "      <th>235</th>\n",
              "      <td>88249602</td>\n",
              "      <td>B</td>\n",
              "      <td>14.030</td>\n",
              "      <td>21.25</td>\n",
              "      <td>89.79</td>\n",
              "      <td>603.4</td>\n",
              "      <td>0.09070</td>\n",
              "      <td>0.06945</td>\n",
              "      <td>0.014620</td>\n",
              "      <td>0.018960</td>\n",
              "      <td>0.1517</td>\n",
              "      <td>0.05835</td>\n",
              "      <td>0.2589</td>\n",
              "      <td>1.5030</td>\n",
              "      <td>1.6670</td>\n",
              "      <td>22.070</td>\n",
              "      <td>0.007389</td>\n",
              "      <td>0.013830</td>\n",
              "      <td>0.007302</td>\n",
              "      <td>0.010040</td>\n",
              "      <td>0.012630</td>\n",
              "      <td>0.002925</td>\n",
              "      <td>15.330</td>\n",
              "      <td>30.28</td>\n",
              "      <td>98.27</td>\n",
              "      <td>715.5</td>\n",
              "      <td>0.12870</td>\n",
              "      <td>0.15130</td>\n",
              "      <td>0.062310</td>\n",
              "      <td>0.07963</td>\n",
              "      <td>0.2226</td>\n",
              "      <td>0.07617</td>\n",
              "      <td>NaN</td>\n",
              "    </tr>\n",
              "    <tr>\n",
              "      <th>509</th>\n",
              "      <td>915460</td>\n",
              "      <td>M</td>\n",
              "      <td>15.460</td>\n",
              "      <td>23.95</td>\n",
              "      <td>103.80</td>\n",
              "      <td>731.3</td>\n",
              "      <td>0.11830</td>\n",
              "      <td>0.18700</td>\n",
              "      <td>0.203000</td>\n",
              "      <td>0.085200</td>\n",
              "      <td>0.1807</td>\n",
              "      <td>0.07083</td>\n",
              "      <td>0.3331</td>\n",
              "      <td>1.9610</td>\n",
              "      <td>2.9370</td>\n",
              "      <td>32.520</td>\n",
              "      <td>0.009538</td>\n",
              "      <td>0.049400</td>\n",
              "      <td>0.060190</td>\n",
              "      <td>0.020410</td>\n",
              "      <td>0.021050</td>\n",
              "      <td>0.006000</td>\n",
              "      <td>17.110</td>\n",
              "      <td>36.33</td>\n",
              "      <td>117.70</td>\n",
              "      <td>909.4</td>\n",
              "      <td>0.17320</td>\n",
              "      <td>0.49670</td>\n",
              "      <td>0.591100</td>\n",
              "      <td>0.21630</td>\n",
              "      <td>0.3013</td>\n",
              "      <td>0.10670</td>\n",
              "      <td>NaN</td>\n",
              "    </tr>\n",
              "    <tr>\n",
              "      <th>449</th>\n",
              "      <td>911157302</td>\n",
              "      <td>M</td>\n",
              "      <td>21.100</td>\n",
              "      <td>20.52</td>\n",
              "      <td>138.10</td>\n",
              "      <td>1384.0</td>\n",
              "      <td>0.09684</td>\n",
              "      <td>0.11750</td>\n",
              "      <td>0.157200</td>\n",
              "      <td>0.115500</td>\n",
              "      <td>0.1554</td>\n",
              "      <td>0.05661</td>\n",
              "      <td>0.6643</td>\n",
              "      <td>1.3610</td>\n",
              "      <td>4.5420</td>\n",
              "      <td>81.890</td>\n",
              "      <td>0.005467</td>\n",
              "      <td>0.020750</td>\n",
              "      <td>0.031850</td>\n",
              "      <td>0.014660</td>\n",
              "      <td>0.010290</td>\n",
              "      <td>0.002205</td>\n",
              "      <td>25.680</td>\n",
              "      <td>32.07</td>\n",
              "      <td>168.20</td>\n",
              "      <td>2022.0</td>\n",
              "      <td>0.13680</td>\n",
              "      <td>0.31010</td>\n",
              "      <td>0.439900</td>\n",
              "      <td>0.22800</td>\n",
              "      <td>0.2268</td>\n",
              "      <td>0.07425</td>\n",
              "      <td>NaN</td>\n",
              "    </tr>\n",
              "    <tr>\n",
              "      <th>539</th>\n",
              "      <td>921362</td>\n",
              "      <td>B</td>\n",
              "      <td>7.691</td>\n",
              "      <td>25.44</td>\n",
              "      <td>48.34</td>\n",
              "      <td>170.4</td>\n",
              "      <td>0.08668</td>\n",
              "      <td>0.11990</td>\n",
              "      <td>0.092520</td>\n",
              "      <td>0.013640</td>\n",
              "      <td>0.2037</td>\n",
              "      <td>0.07751</td>\n",
              "      <td>0.2196</td>\n",
              "      <td>1.4790</td>\n",
              "      <td>1.4450</td>\n",
              "      <td>11.730</td>\n",
              "      <td>0.015470</td>\n",
              "      <td>0.064570</td>\n",
              "      <td>0.092520</td>\n",
              "      <td>0.013640</td>\n",
              "      <td>0.021050</td>\n",
              "      <td>0.007551</td>\n",
              "      <td>8.678</td>\n",
              "      <td>31.89</td>\n",
              "      <td>54.49</td>\n",
              "      <td>223.6</td>\n",
              "      <td>0.15960</td>\n",
              "      <td>0.30640</td>\n",
              "      <td>0.339300</td>\n",
              "      <td>0.05000</td>\n",
              "      <td>0.2790</td>\n",
              "      <td>0.10660</td>\n",
              "      <td>NaN</td>\n",
              "    </tr>\n",
              "    <tr>\n",
              "      <th>309</th>\n",
              "      <td>893548</td>\n",
              "      <td>B</td>\n",
              "      <td>13.050</td>\n",
              "      <td>13.84</td>\n",
              "      <td>82.71</td>\n",
              "      <td>530.6</td>\n",
              "      <td>0.08352</td>\n",
              "      <td>0.03735</td>\n",
              "      <td>0.004559</td>\n",
              "      <td>0.008829</td>\n",
              "      <td>0.1453</td>\n",
              "      <td>0.05518</td>\n",
              "      <td>0.3975</td>\n",
              "      <td>0.8285</td>\n",
              "      <td>2.5670</td>\n",
              "      <td>33.010</td>\n",
              "      <td>0.004148</td>\n",
              "      <td>0.004711</td>\n",
              "      <td>0.002831</td>\n",
              "      <td>0.004821</td>\n",
              "      <td>0.014220</td>\n",
              "      <td>0.002273</td>\n",
              "      <td>14.730</td>\n",
              "      <td>17.40</td>\n",
              "      <td>93.96</td>\n",
              "      <td>672.4</td>\n",
              "      <td>0.10160</td>\n",
              "      <td>0.05847</td>\n",
              "      <td>0.018240</td>\n",
              "      <td>0.03532</td>\n",
              "      <td>0.2107</td>\n",
              "      <td>0.06580</td>\n",
              "      <td>NaN</td>\n",
              "    </tr>\n",
              "    <tr>\n",
              "      <th>95</th>\n",
              "      <td>86208</td>\n",
              "      <td>M</td>\n",
              "      <td>20.260</td>\n",
              "      <td>23.03</td>\n",
              "      <td>132.40</td>\n",
              "      <td>1264.0</td>\n",
              "      <td>0.09078</td>\n",
              "      <td>0.13130</td>\n",
              "      <td>0.146500</td>\n",
              "      <td>0.086830</td>\n",
              "      <td>0.2095</td>\n",
              "      <td>0.05649</td>\n",
              "      <td>0.7576</td>\n",
              "      <td>1.5090</td>\n",
              "      <td>4.5540</td>\n",
              "      <td>87.870</td>\n",
              "      <td>0.006016</td>\n",
              "      <td>0.034820</td>\n",
              "      <td>0.042320</td>\n",
              "      <td>0.012690</td>\n",
              "      <td>0.026570</td>\n",
              "      <td>0.004411</td>\n",
              "      <td>24.220</td>\n",
              "      <td>31.59</td>\n",
              "      <td>156.10</td>\n",
              "      <td>1750.0</td>\n",
              "      <td>0.11900</td>\n",
              "      <td>0.35390</td>\n",
              "      <td>0.409800</td>\n",
              "      <td>0.15730</td>\n",
              "      <td>0.3689</td>\n",
              "      <td>0.08368</td>\n",
              "      <td>NaN</td>\n",
              "    </tr>\n",
              "    <tr>\n",
              "      <th>547</th>\n",
              "      <td>922840</td>\n",
              "      <td>B</td>\n",
              "      <td>10.260</td>\n",
              "      <td>16.58</td>\n",
              "      <td>65.85</td>\n",
              "      <td>320.8</td>\n",
              "      <td>0.08877</td>\n",
              "      <td>0.08066</td>\n",
              "      <td>0.043580</td>\n",
              "      <td>0.024380</td>\n",
              "      <td>0.1669</td>\n",
              "      <td>0.06714</td>\n",
              "      <td>0.1144</td>\n",
              "      <td>1.0230</td>\n",
              "      <td>0.9887</td>\n",
              "      <td>7.326</td>\n",
              "      <td>0.010270</td>\n",
              "      <td>0.030840</td>\n",
              "      <td>0.026130</td>\n",
              "      <td>0.010970</td>\n",
              "      <td>0.022770</td>\n",
              "      <td>0.005890</td>\n",
              "      <td>10.830</td>\n",
              "      <td>22.04</td>\n",
              "      <td>71.08</td>\n",
              "      <td>357.4</td>\n",
              "      <td>0.14610</td>\n",
              "      <td>0.22460</td>\n",
              "      <td>0.178300</td>\n",
              "      <td>0.08333</td>\n",
              "      <td>0.2691</td>\n",
              "      <td>0.09479</td>\n",
              "      <td>NaN</td>\n",
              "    </tr>\n",
              "    <tr>\n",
              "      <th>19</th>\n",
              "      <td>8510426</td>\n",
              "      <td>B</td>\n",
              "      <td>13.540</td>\n",
              "      <td>14.36</td>\n",
              "      <td>87.46</td>\n",
              "      <td>566.3</td>\n",
              "      <td>0.09779</td>\n",
              "      <td>0.08129</td>\n",
              "      <td>0.066640</td>\n",
              "      <td>0.047810</td>\n",
              "      <td>0.1885</td>\n",
              "      <td>0.05766</td>\n",
              "      <td>0.2699</td>\n",
              "      <td>0.7886</td>\n",
              "      <td>2.0580</td>\n",
              "      <td>23.560</td>\n",
              "      <td>0.008462</td>\n",
              "      <td>0.014600</td>\n",
              "      <td>0.023870</td>\n",
              "      <td>0.013150</td>\n",
              "      <td>0.019800</td>\n",
              "      <td>0.002300</td>\n",
              "      <td>15.110</td>\n",
              "      <td>19.26</td>\n",
              "      <td>99.70</td>\n",
              "      <td>711.2</td>\n",
              "      <td>0.14400</td>\n",
              "      <td>0.17730</td>\n",
              "      <td>0.239000</td>\n",
              "      <td>0.12880</td>\n",
              "      <td>0.2977</td>\n",
              "      <td>0.07259</td>\n",
              "      <td>NaN</td>\n",
              "    </tr>\n",
              "    <tr>\n",
              "      <th>295</th>\n",
              "      <td>891923</td>\n",
              "      <td>B</td>\n",
              "      <td>13.770</td>\n",
              "      <td>13.27</td>\n",
              "      <td>88.06</td>\n",
              "      <td>582.7</td>\n",
              "      <td>0.09198</td>\n",
              "      <td>0.06221</td>\n",
              "      <td>0.010630</td>\n",
              "      <td>0.019170</td>\n",
              "      <td>0.1592</td>\n",
              "      <td>0.05912</td>\n",
              "      <td>0.2191</td>\n",
              "      <td>0.6946</td>\n",
              "      <td>1.4790</td>\n",
              "      <td>17.740</td>\n",
              "      <td>0.004348</td>\n",
              "      <td>0.008153</td>\n",
              "      <td>0.004272</td>\n",
              "      <td>0.006829</td>\n",
              "      <td>0.021540</td>\n",
              "      <td>0.001802</td>\n",
              "      <td>14.670</td>\n",
              "      <td>16.93</td>\n",
              "      <td>94.17</td>\n",
              "      <td>661.1</td>\n",
              "      <td>0.11700</td>\n",
              "      <td>0.10720</td>\n",
              "      <td>0.037320</td>\n",
              "      <td>0.05802</td>\n",
              "      <td>0.2823</td>\n",
              "      <td>0.06794</td>\n",
              "      <td>NaN</td>\n",
              "    </tr>\n",
              "    <tr>\n",
              "      <th>209</th>\n",
              "      <td>8810436</td>\n",
              "      <td>B</td>\n",
              "      <td>15.270</td>\n",
              "      <td>12.91</td>\n",
              "      <td>98.17</td>\n",
              "      <td>725.5</td>\n",
              "      <td>0.08182</td>\n",
              "      <td>0.06230</td>\n",
              "      <td>0.058920</td>\n",
              "      <td>0.031570</td>\n",
              "      <td>0.1359</td>\n",
              "      <td>0.05526</td>\n",
              "      <td>0.2134</td>\n",
              "      <td>0.3628</td>\n",
              "      <td>1.5250</td>\n",
              "      <td>20.000</td>\n",
              "      <td>0.004291</td>\n",
              "      <td>0.012360</td>\n",
              "      <td>0.018410</td>\n",
              "      <td>0.007373</td>\n",
              "      <td>0.009539</td>\n",
              "      <td>0.001656</td>\n",
              "      <td>17.380</td>\n",
              "      <td>15.92</td>\n",
              "      <td>113.70</td>\n",
              "      <td>932.7</td>\n",
              "      <td>0.12220</td>\n",
              "      <td>0.21860</td>\n",
              "      <td>0.296200</td>\n",
              "      <td>0.10350</td>\n",
              "      <td>0.2320</td>\n",
              "      <td>0.07474</td>\n",
              "      <td>NaN</td>\n",
              "    </tr>\n",
              "    <tr>\n",
              "      <th>538</th>\n",
              "      <td>921092</td>\n",
              "      <td>B</td>\n",
              "      <td>7.729</td>\n",
              "      <td>25.49</td>\n",
              "      <td>47.98</td>\n",
              "      <td>178.8</td>\n",
              "      <td>0.08098</td>\n",
              "      <td>0.04878</td>\n",
              "      <td>0.000000</td>\n",
              "      <td>0.000000</td>\n",
              "      <td>0.1870</td>\n",
              "      <td>0.07285</td>\n",
              "      <td>0.3777</td>\n",
              "      <td>1.4620</td>\n",
              "      <td>2.4920</td>\n",
              "      <td>19.140</td>\n",
              "      <td>0.012660</td>\n",
              "      <td>0.009692</td>\n",
              "      <td>0.000000</td>\n",
              "      <td>0.000000</td>\n",
              "      <td>0.028820</td>\n",
              "      <td>0.006872</td>\n",
              "      <td>9.077</td>\n",
              "      <td>30.92</td>\n",
              "      <td>57.17</td>\n",
              "      <td>248.0</td>\n",
              "      <td>0.12560</td>\n",
              "      <td>0.08340</td>\n",
              "      <td>0.000000</td>\n",
              "      <td>0.00000</td>\n",
              "      <td>0.3058</td>\n",
              "      <td>0.09938</td>\n",
              "      <td>NaN</td>\n",
              "    </tr>\n",
              "    <tr>\n",
              "      <th>206</th>\n",
              "      <td>879804</td>\n",
              "      <td>B</td>\n",
              "      <td>9.876</td>\n",
              "      <td>17.27</td>\n",
              "      <td>62.92</td>\n",
              "      <td>295.4</td>\n",
              "      <td>0.10890</td>\n",
              "      <td>0.07232</td>\n",
              "      <td>0.017560</td>\n",
              "      <td>0.019520</td>\n",
              "      <td>0.1934</td>\n",
              "      <td>0.06285</td>\n",
              "      <td>0.2137</td>\n",
              "      <td>1.3420</td>\n",
              "      <td>1.5170</td>\n",
              "      <td>12.330</td>\n",
              "      <td>0.009719</td>\n",
              "      <td>0.012490</td>\n",
              "      <td>0.007975</td>\n",
              "      <td>0.007527</td>\n",
              "      <td>0.022100</td>\n",
              "      <td>0.002472</td>\n",
              "      <td>10.420</td>\n",
              "      <td>23.22</td>\n",
              "      <td>67.08</td>\n",
              "      <td>331.6</td>\n",
              "      <td>0.14150</td>\n",
              "      <td>0.12470</td>\n",
              "      <td>0.062130</td>\n",
              "      <td>0.05588</td>\n",
              "      <td>0.2989</td>\n",
              "      <td>0.07380</td>\n",
              "      <td>NaN</td>\n",
              "    </tr>\n",
              "    <tr>\n",
              "      <th>338</th>\n",
              "      <td>897880</td>\n",
              "      <td>B</td>\n",
              "      <td>10.050</td>\n",
              "      <td>17.53</td>\n",
              "      <td>64.41</td>\n",
              "      <td>310.8</td>\n",
              "      <td>0.10070</td>\n",
              "      <td>0.07326</td>\n",
              "      <td>0.025110</td>\n",
              "      <td>0.017750</td>\n",
              "      <td>0.1890</td>\n",
              "      <td>0.06331</td>\n",
              "      <td>0.2619</td>\n",
              "      <td>2.0150</td>\n",
              "      <td>1.7780</td>\n",
              "      <td>16.850</td>\n",
              "      <td>0.007803</td>\n",
              "      <td>0.014490</td>\n",
              "      <td>0.016900</td>\n",
              "      <td>0.008043</td>\n",
              "      <td>0.021000</td>\n",
              "      <td>0.002778</td>\n",
              "      <td>11.160</td>\n",
              "      <td>26.84</td>\n",
              "      <td>71.98</td>\n",
              "      <td>384.0</td>\n",
              "      <td>0.14020</td>\n",
              "      <td>0.14020</td>\n",
              "      <td>0.105500</td>\n",
              "      <td>0.06499</td>\n",
              "      <td>0.2894</td>\n",
              "      <td>0.07664</td>\n",
              "      <td>NaN</td>\n",
              "    </tr>\n",
              "    <tr>\n",
              "      <th>187</th>\n",
              "      <td>874373</td>\n",
              "      <td>B</td>\n",
              "      <td>11.710</td>\n",
              "      <td>17.19</td>\n",
              "      <td>74.68</td>\n",
              "      <td>420.3</td>\n",
              "      <td>0.09774</td>\n",
              "      <td>0.06141</td>\n",
              "      <td>0.038090</td>\n",
              "      <td>0.032390</td>\n",
              "      <td>0.1516</td>\n",
              "      <td>0.06095</td>\n",
              "      <td>0.2451</td>\n",
              "      <td>0.7655</td>\n",
              "      <td>1.7420</td>\n",
              "      <td>17.860</td>\n",
              "      <td>0.006905</td>\n",
              "      <td>0.008704</td>\n",
              "      <td>0.019780</td>\n",
              "      <td>0.011850</td>\n",
              "      <td>0.018970</td>\n",
              "      <td>0.001671</td>\n",
              "      <td>13.010</td>\n",
              "      <td>21.39</td>\n",
              "      <td>84.42</td>\n",
              "      <td>521.5</td>\n",
              "      <td>0.13230</td>\n",
              "      <td>0.10400</td>\n",
              "      <td>0.152100</td>\n",
              "      <td>0.10990</td>\n",
              "      <td>0.2572</td>\n",
              "      <td>0.07097</td>\n",
              "      <td>NaN</td>\n",
              "    </tr>\n",
              "    <tr>\n",
              "      <th>356</th>\n",
              "      <td>9010259</td>\n",
              "      <td>B</td>\n",
              "      <td>13.050</td>\n",
              "      <td>18.59</td>\n",
              "      <td>85.09</td>\n",
              "      <td>512.0</td>\n",
              "      <td>0.10820</td>\n",
              "      <td>0.13040</td>\n",
              "      <td>0.096030</td>\n",
              "      <td>0.056030</td>\n",
              "      <td>0.2035</td>\n",
              "      <td>0.06501</td>\n",
              "      <td>0.3106</td>\n",
              "      <td>1.5100</td>\n",
              "      <td>2.5900</td>\n",
              "      <td>21.570</td>\n",
              "      <td>0.007807</td>\n",
              "      <td>0.039320</td>\n",
              "      <td>0.051120</td>\n",
              "      <td>0.018760</td>\n",
              "      <td>0.028600</td>\n",
              "      <td>0.005715</td>\n",
              "      <td>14.190</td>\n",
              "      <td>24.85</td>\n",
              "      <td>94.22</td>\n",
              "      <td>591.2</td>\n",
              "      <td>0.13430</td>\n",
              "      <td>0.26580</td>\n",
              "      <td>0.257300</td>\n",
              "      <td>0.12580</td>\n",
              "      <td>0.3113</td>\n",
              "      <td>0.08317</td>\n",
              "      <td>NaN</td>\n",
              "    </tr>\n",
              "    <tr>\n",
              "      <th>150</th>\n",
              "      <td>871001501</td>\n",
              "      <td>B</td>\n",
              "      <td>13.000</td>\n",
              "      <td>20.78</td>\n",
              "      <td>83.51</td>\n",
              "      <td>519.4</td>\n",
              "      <td>0.11350</td>\n",
              "      <td>0.07589</td>\n",
              "      <td>0.031360</td>\n",
              "      <td>0.026450</td>\n",
              "      <td>0.2540</td>\n",
              "      <td>0.06087</td>\n",
              "      <td>0.4202</td>\n",
              "      <td>1.3220</td>\n",
              "      <td>2.8730</td>\n",
              "      <td>34.780</td>\n",
              "      <td>0.007017</td>\n",
              "      <td>0.011420</td>\n",
              "      <td>0.019490</td>\n",
              "      <td>0.011530</td>\n",
              "      <td>0.029510</td>\n",
              "      <td>0.001533</td>\n",
              "      <td>14.160</td>\n",
              "      <td>24.11</td>\n",
              "      <td>90.82</td>\n",
              "      <td>616.7</td>\n",
              "      <td>0.12970</td>\n",
              "      <td>0.11050</td>\n",
              "      <td>0.081120</td>\n",
              "      <td>0.06296</td>\n",
              "      <td>0.3196</td>\n",
              "      <td>0.06435</td>\n",
              "      <td>NaN</td>\n",
              "    </tr>\n",
              "    <tr>\n",
              "      <th>380</th>\n",
              "      <td>901549</td>\n",
              "      <td>B</td>\n",
              "      <td>11.270</td>\n",
              "      <td>12.96</td>\n",
              "      <td>73.16</td>\n",
              "      <td>386.3</td>\n",
              "      <td>0.12370</td>\n",
              "      <td>0.11110</td>\n",
              "      <td>0.079000</td>\n",
              "      <td>0.055500</td>\n",
              "      <td>0.2018</td>\n",
              "      <td>0.06914</td>\n",
              "      <td>0.2562</td>\n",
              "      <td>0.9858</td>\n",
              "      <td>1.8090</td>\n",
              "      <td>16.040</td>\n",
              "      <td>0.006635</td>\n",
              "      <td>0.017770</td>\n",
              "      <td>0.021010</td>\n",
              "      <td>0.011640</td>\n",
              "      <td>0.021080</td>\n",
              "      <td>0.003721</td>\n",
              "      <td>12.840</td>\n",
              "      <td>20.53</td>\n",
              "      <td>84.93</td>\n",
              "      <td>476.1</td>\n",
              "      <td>0.16100</td>\n",
              "      <td>0.24290</td>\n",
              "      <td>0.224700</td>\n",
              "      <td>0.13180</td>\n",
              "      <td>0.3343</td>\n",
              "      <td>0.09215</td>\n",
              "      <td>NaN</td>\n",
              "    </tr>\n",
              "    <tr>\n",
              "      <th>256</th>\n",
              "      <td>88649001</td>\n",
              "      <td>M</td>\n",
              "      <td>19.550</td>\n",
              "      <td>28.77</td>\n",
              "      <td>133.60</td>\n",
              "      <td>1207.0</td>\n",
              "      <td>0.09260</td>\n",
              "      <td>0.20630</td>\n",
              "      <td>0.178400</td>\n",
              "      <td>0.114400</td>\n",
              "      <td>0.1893</td>\n",
              "      <td>0.06232</td>\n",
              "      <td>0.8426</td>\n",
              "      <td>1.1990</td>\n",
              "      <td>7.1580</td>\n",
              "      <td>106.400</td>\n",
              "      <td>0.006356</td>\n",
              "      <td>0.047650</td>\n",
              "      <td>0.038630</td>\n",
              "      <td>0.015190</td>\n",
              "      <td>0.019360</td>\n",
              "      <td>0.005252</td>\n",
              "      <td>25.050</td>\n",
              "      <td>36.27</td>\n",
              "      <td>178.60</td>\n",
              "      <td>1926.0</td>\n",
              "      <td>0.12810</td>\n",
              "      <td>0.53290</td>\n",
              "      <td>0.425100</td>\n",
              "      <td>0.19410</td>\n",
              "      <td>0.2818</td>\n",
              "      <td>0.10050</td>\n",
              "      <td>NaN</td>\n",
              "    </tr>\n",
              "    <tr>\n",
              "      <th>196</th>\n",
              "      <td>875938</td>\n",
              "      <td>M</td>\n",
              "      <td>13.770</td>\n",
              "      <td>22.29</td>\n",
              "      <td>90.63</td>\n",
              "      <td>588.9</td>\n",
              "      <td>0.12000</td>\n",
              "      <td>0.12670</td>\n",
              "      <td>0.138500</td>\n",
              "      <td>0.065260</td>\n",
              "      <td>0.1834</td>\n",
              "      <td>0.06877</td>\n",
              "      <td>0.6191</td>\n",
              "      <td>2.1120</td>\n",
              "      <td>4.9060</td>\n",
              "      <td>49.700</td>\n",
              "      <td>0.013800</td>\n",
              "      <td>0.033480</td>\n",
              "      <td>0.046650</td>\n",
              "      <td>0.020600</td>\n",
              "      <td>0.026890</td>\n",
              "      <td>0.004306</td>\n",
              "      <td>16.390</td>\n",
              "      <td>34.01</td>\n",
              "      <td>111.60</td>\n",
              "      <td>806.9</td>\n",
              "      <td>0.17370</td>\n",
              "      <td>0.31220</td>\n",
              "      <td>0.380900</td>\n",
              "      <td>0.16730</td>\n",
              "      <td>0.3080</td>\n",
              "      <td>0.09333</td>\n",
              "      <td>NaN</td>\n",
              "    </tr>\n",
              "    <tr>\n",
              "      <th>75</th>\n",
              "      <td>8610404</td>\n",
              "      <td>M</td>\n",
              "      <td>16.070</td>\n",
              "      <td>19.65</td>\n",
              "      <td>104.10</td>\n",
              "      <td>817.7</td>\n",
              "      <td>0.09168</td>\n",
              "      <td>0.08424</td>\n",
              "      <td>0.097690</td>\n",
              "      <td>0.066380</td>\n",
              "      <td>0.1798</td>\n",
              "      <td>0.05391</td>\n",
              "      <td>0.7474</td>\n",
              "      <td>1.0160</td>\n",
              "      <td>5.0290</td>\n",
              "      <td>79.250</td>\n",
              "      <td>0.010820</td>\n",
              "      <td>0.022030</td>\n",
              "      <td>0.035000</td>\n",
              "      <td>0.018090</td>\n",
              "      <td>0.015500</td>\n",
              "      <td>0.001948</td>\n",
              "      <td>19.770</td>\n",
              "      <td>24.56</td>\n",
              "      <td>128.80</td>\n",
              "      <td>1223.0</td>\n",
              "      <td>0.15000</td>\n",
              "      <td>0.20450</td>\n",
              "      <td>0.282900</td>\n",
              "      <td>0.15200</td>\n",
              "      <td>0.2650</td>\n",
              "      <td>0.06387</td>\n",
              "      <td>NaN</td>\n",
              "    </tr>\n",
              "    <tr>\n",
              "      <th>395</th>\n",
              "      <td>903811</td>\n",
              "      <td>B</td>\n",
              "      <td>14.060</td>\n",
              "      <td>17.18</td>\n",
              "      <td>89.75</td>\n",
              "      <td>609.1</td>\n",
              "      <td>0.08045</td>\n",
              "      <td>0.05361</td>\n",
              "      <td>0.026810</td>\n",
              "      <td>0.032510</td>\n",
              "      <td>0.1641</td>\n",
              "      <td>0.05764</td>\n",
              "      <td>0.1504</td>\n",
              "      <td>1.6850</td>\n",
              "      <td>1.2370</td>\n",
              "      <td>12.670</td>\n",
              "      <td>0.005371</td>\n",
              "      <td>0.012730</td>\n",
              "      <td>0.011320</td>\n",
              "      <td>0.009155</td>\n",
              "      <td>0.017190</td>\n",
              "      <td>0.001444</td>\n",
              "      <td>14.920</td>\n",
              "      <td>25.34</td>\n",
              "      <td>96.42</td>\n",
              "      <td>684.5</td>\n",
              "      <td>0.10660</td>\n",
              "      <td>0.12310</td>\n",
              "      <td>0.084600</td>\n",
              "      <td>0.07911</td>\n",
              "      <td>0.2523</td>\n",
              "      <td>0.06609</td>\n",
              "      <td>NaN</td>\n",
              "    </tr>\n",
              "    <tr>\n",
              "      <th>176</th>\n",
              "      <td>872608</td>\n",
              "      <td>B</td>\n",
              "      <td>9.904</td>\n",
              "      <td>18.06</td>\n",
              "      <td>64.60</td>\n",
              "      <td>302.4</td>\n",
              "      <td>0.09699</td>\n",
              "      <td>0.12940</td>\n",
              "      <td>0.130700</td>\n",
              "      <td>0.037160</td>\n",
              "      <td>0.1669</td>\n",
              "      <td>0.08116</td>\n",
              "      <td>0.4311</td>\n",
              "      <td>2.2610</td>\n",
              "      <td>3.1320</td>\n",
              "      <td>27.480</td>\n",
              "      <td>0.012860</td>\n",
              "      <td>0.088080</td>\n",
              "      <td>0.119700</td>\n",
              "      <td>0.024600</td>\n",
              "      <td>0.038800</td>\n",
              "      <td>0.017920</td>\n",
              "      <td>11.260</td>\n",
              "      <td>24.39</td>\n",
              "      <td>73.07</td>\n",
              "      <td>390.2</td>\n",
              "      <td>0.13010</td>\n",
              "      <td>0.29500</td>\n",
              "      <td>0.348600</td>\n",
              "      <td>0.09910</td>\n",
              "      <td>0.2614</td>\n",
              "      <td>0.11620</td>\n",
              "      <td>NaN</td>\n",
              "    </tr>\n",
              "    <tr>\n",
              "      <th>337</th>\n",
              "      <td>897630</td>\n",
              "      <td>M</td>\n",
              "      <td>18.770</td>\n",
              "      <td>21.43</td>\n",
              "      <td>122.90</td>\n",
              "      <td>1092.0</td>\n",
              "      <td>0.09116</td>\n",
              "      <td>0.14020</td>\n",
              "      <td>0.106000</td>\n",
              "      <td>0.060900</td>\n",
              "      <td>0.1953</td>\n",
              "      <td>0.06083</td>\n",
              "      <td>0.6422</td>\n",
              "      <td>1.5300</td>\n",
              "      <td>4.3690</td>\n",
              "      <td>88.250</td>\n",
              "      <td>0.007548</td>\n",
              "      <td>0.038970</td>\n",
              "      <td>0.039140</td>\n",
              "      <td>0.018160</td>\n",
              "      <td>0.021680</td>\n",
              "      <td>0.004445</td>\n",
              "      <td>24.540</td>\n",
              "      <td>34.37</td>\n",
              "      <td>161.10</td>\n",
              "      <td>1873.0</td>\n",
              "      <td>0.14980</td>\n",
              "      <td>0.48270</td>\n",
              "      <td>0.463400</td>\n",
              "      <td>0.20480</td>\n",
              "      <td>0.3679</td>\n",
              "      <td>0.09870</td>\n",
              "      <td>NaN</td>\n",
              "    </tr>\n",
              "    <tr>\n",
              "      <th>467</th>\n",
              "      <td>9113514</td>\n",
              "      <td>B</td>\n",
              "      <td>9.668</td>\n",
              "      <td>18.10</td>\n",
              "      <td>61.06</td>\n",
              "      <td>286.3</td>\n",
              "      <td>0.08311</td>\n",
              "      <td>0.05428</td>\n",
              "      <td>0.014790</td>\n",
              "      <td>0.005769</td>\n",
              "      <td>0.1680</td>\n",
              "      <td>0.06412</td>\n",
              "      <td>0.3416</td>\n",
              "      <td>1.3120</td>\n",
              "      <td>2.2750</td>\n",
              "      <td>20.980</td>\n",
              "      <td>0.010980</td>\n",
              "      <td>0.012570</td>\n",
              "      <td>0.010310</td>\n",
              "      <td>0.003934</td>\n",
              "      <td>0.026930</td>\n",
              "      <td>0.002979</td>\n",
              "      <td>11.150</td>\n",
              "      <td>24.62</td>\n",
              "      <td>71.11</td>\n",
              "      <td>380.2</td>\n",
              "      <td>0.13880</td>\n",
              "      <td>0.12550</td>\n",
              "      <td>0.064090</td>\n",
              "      <td>0.02500</td>\n",
              "      <td>0.3057</td>\n",
              "      <td>0.07875</td>\n",
              "      <td>NaN</td>\n",
              "    </tr>\n",
              "    <tr>\n",
              "      <th>474</th>\n",
              "      <td>911391</td>\n",
              "      <td>B</td>\n",
              "      <td>10.880</td>\n",
              "      <td>15.62</td>\n",
              "      <td>70.41</td>\n",
              "      <td>358.9</td>\n",
              "      <td>0.10070</td>\n",
              "      <td>0.10690</td>\n",
              "      <td>0.051150</td>\n",
              "      <td>0.015710</td>\n",
              "      <td>0.1861</td>\n",
              "      <td>0.06837</td>\n",
              "      <td>0.1482</td>\n",
              "      <td>0.5380</td>\n",
              "      <td>1.3010</td>\n",
              "      <td>9.597</td>\n",
              "      <td>0.004474</td>\n",
              "      <td>0.030930</td>\n",
              "      <td>0.027570</td>\n",
              "      <td>0.006691</td>\n",
              "      <td>0.012120</td>\n",
              "      <td>0.004672</td>\n",
              "      <td>11.940</td>\n",
              "      <td>19.35</td>\n",
              "      <td>80.78</td>\n",
              "      <td>433.1</td>\n",
              "      <td>0.13320</td>\n",
              "      <td>0.38980</td>\n",
              "      <td>0.336500</td>\n",
              "      <td>0.07966</td>\n",
              "      <td>0.2581</td>\n",
              "      <td>0.10800</td>\n",
              "      <td>NaN</td>\n",
              "    </tr>\n",
              "    <tr>\n",
              "      <th>402</th>\n",
              "      <td>904689</td>\n",
              "      <td>B</td>\n",
              "      <td>12.960</td>\n",
              "      <td>18.29</td>\n",
              "      <td>84.18</td>\n",
              "      <td>525.2</td>\n",
              "      <td>0.07351</td>\n",
              "      <td>0.07899</td>\n",
              "      <td>0.040570</td>\n",
              "      <td>0.018830</td>\n",
              "      <td>0.1874</td>\n",
              "      <td>0.05899</td>\n",
              "      <td>0.2357</td>\n",
              "      <td>1.2990</td>\n",
              "      <td>2.3970</td>\n",
              "      <td>20.210</td>\n",
              "      <td>0.003629</td>\n",
              "      <td>0.037130</td>\n",
              "      <td>0.034520</td>\n",
              "      <td>0.010650</td>\n",
              "      <td>0.026320</td>\n",
              "      <td>0.003705</td>\n",
              "      <td>14.130</td>\n",
              "      <td>24.61</td>\n",
              "      <td>96.31</td>\n",
              "      <td>621.9</td>\n",
              "      <td>0.09329</td>\n",
              "      <td>0.23180</td>\n",
              "      <td>0.160400</td>\n",
              "      <td>0.06608</td>\n",
              "      <td>0.3207</td>\n",
              "      <td>0.07247</td>\n",
              "      <td>NaN</td>\n",
              "    </tr>\n",
              "  </tbody>\n",
              "</table>\n",
              "</div>"
            ],
            "text/plain": [
              "            id diagnosis  ...  fractal_dimension_worst  Unnamed: 32\n",
              "43      856106         M  ...                  0.10270          NaN\n",
              "469     911366         B  ...                  0.09270          NaN\n",
              "341     898143         B  ...                  0.09825          NaN\n",
              "372    9012795         M  ...                  0.08666          NaN\n",
              "110     864033         B  ...                  0.08468          NaN\n",
              "9     84501001         M  ...                  0.20750          NaN\n",
              "118     864877         M  ...                  0.12520          NaN\n",
              "525      91805         B  ...                  0.10490          NaN\n",
              "167    8712729         M  ...                  0.07228          NaN\n",
              "542     921644         B  ...                  0.06956          NaN\n",
              "182     873701         M  ...                  0.08631          NaN\n",
              "100     862717         M  ...                  0.07397          NaN\n",
              "427      90745         B  ...                  0.07662          NaN\n",
              "403       9047         B  ...                  0.07834          NaN\n",
              "227   88147102         B  ...                  0.08362          NaN\n",
              "527   91813702         B  ...                  0.07592          NaN\n",
              "140     868999         B  ...                  0.08151          NaN\n",
              "331     896864         B  ...                  0.09166          NaN\n",
              "272    8910988         M  ...                  0.08858          NaN\n",
              "276    8911230         B  ...                  0.06386          NaN\n",
              "133     867387         B  ...                  0.07071          NaN\n",
              "194   87556202         M  ...                  0.08701          NaN\n",
              "382      90250         B  ...                  0.09349          NaN\n",
              "496     914366         B  ...                  0.10330          NaN\n",
              "235   88249602         B  ...                  0.07617          NaN\n",
              "509     915460         M  ...                  0.10670          NaN\n",
              "449  911157302         M  ...                  0.07425          NaN\n",
              "539     921362         B  ...                  0.10660          NaN\n",
              "309     893548         B  ...                  0.06580          NaN\n",
              "95       86208         M  ...                  0.08368          NaN\n",
              "547     922840         B  ...                  0.09479          NaN\n",
              "19     8510426         B  ...                  0.07259          NaN\n",
              "295     891923         B  ...                  0.06794          NaN\n",
              "209    8810436         B  ...                  0.07474          NaN\n",
              "538     921092         B  ...                  0.09938          NaN\n",
              "206     879804         B  ...                  0.07380          NaN\n",
              "338     897880         B  ...                  0.07664          NaN\n",
              "187     874373         B  ...                  0.07097          NaN\n",
              "356    9010259         B  ...                  0.08317          NaN\n",
              "150  871001501         B  ...                  0.06435          NaN\n",
              "380     901549         B  ...                  0.09215          NaN\n",
              "256   88649001         M  ...                  0.10050          NaN\n",
              "196     875938         M  ...                  0.09333          NaN\n",
              "75     8610404         M  ...                  0.06387          NaN\n",
              "395     903811         B  ...                  0.06609          NaN\n",
              "176     872608         B  ...                  0.11620          NaN\n",
              "337     897630         M  ...                  0.09870          NaN\n",
              "467    9113514         B  ...                  0.07875          NaN\n",
              "474     911391         B  ...                  0.10800          NaN\n",
              "402     904689         B  ...                  0.07247          NaN\n",
              "\n",
              "[50 rows x 33 columns]"
            ]
          },
          "metadata": {
            "tags": []
          },
          "execution_count": 40
        }
      ]
    },
    {
      "cell_type": "code",
      "metadata": {
        "id": "fd4rsdmfHxRA",
        "colab_type": "code",
        "colab": {}
      },
      "source": [
        ""
      ],
      "execution_count": null,
      "outputs": []
    },
    {
      "cell_type": "code",
      "metadata": {
        "colab_type": "code",
        "id": "izKbqdtdHykF",
        "colab": {
          "base_uri": "https://localhost:8080/",
          "height": 337
        },
        "outputId": "cd441d95-73e0-4293-fc14-90b2b60cb4fe"
      },
      "source": [
        "plt.scatter(datas['radius_mean'], datas['area_mean'], c = datas['diagnosis'])"
      ],
      "execution_count": 41,
      "outputs": [
        {
          "output_type": "stream",
          "text": [
            "/usr/local/lib/python3.6/dist-packages/ipykernel_launcher.py:1: MatplotlibDeprecationWarning: Support for uppercase single-letter colors is deprecated since Matplotlib 3.1 and will be removed in 3.3; please use lowercase instead.\n",
            "  \"\"\"Entry point for launching an IPython kernel.\n"
          ],
          "name": "stderr"
        },
        {
          "output_type": "execute_result",
          "data": {
            "text/plain": [
              "<matplotlib.collections.PathCollection at 0x7f8c50364780>"
            ]
          },
          "metadata": {
            "tags": []
          },
          "execution_count": 41
        },
        {
          "output_type": "display_data",
          "data": {
            "image/png": "[encoded data removed]",
            "text/plain": [
              "<Figure size 432x288 with 1 Axes>"
            ]
          },
          "metadata": {
            "tags": [],
            "needs_background": "light"
          }
        }
      ]
    },
    {
      "cell_type": "code",
      "metadata": {
        "id": "B5uHEuj9IajQ",
        "colab_type": "code",
        "colab": {}
      },
      "source": [
        "k= 3\n",
        "mos= KMeans(n_clusters = k, max_iter= 1) "
      ],
      "execution_count": 42,
      "outputs": []
    },
    {
      "cell_type": "code",
      "metadata": {
        "id": "f84Ci6ZVICiK",
        "colab_type": "code",
        "colab": {
          "base_uri": "https://localhost:8080/",
          "height": 70
        },
        "outputId": "016356ed-11d3-48d1-8860-a7c1658d7d78"
      },
      "source": [
        "mos.fit(datas[feat].values)"
      ],
      "execution_count": 43,
      "outputs": [
        {
          "output_type": "execute_result",
          "data": {
            "text/plain": [
              "KMeans(algorithm='auto', copy_x=True, init='k-means++', max_iter=1,\n",
              "       n_clusters=3, n_init=10, n_jobs=None, precompute_distances='auto',\n",
              "       random_state=None, tol=0.0001, verbose=0)"
            ]
          },
          "metadata": {
            "tags": []
          },
          "execution_count": 43
        }
      ]
    },
    {
      "cell_type": "code",
      "metadata": {
        "id": "ry-r7x1bJIhR",
        "colab_type": "code",
        "colab": {}
      },
      "source": [
        "datas['cluster']= mos.labels_"
      ],
      "execution_count": 44,
      "outputs": []
    },
    {
      "cell_type": "code",
      "metadata": {
        "id": "RBWFA2MqJRHx",
        "colab_type": "code",
        "colab": {}
      },
      "source": [
        "centroid = mos.labels_"
      ],
      "execution_count": 45,
      "outputs": []
    },
    {
      "cell_type": "code",
      "metadata": {
        "id": "uiFE8KG9JXzp",
        "colab_type": "code",
        "colab": {
          "base_uri": "https://localhost:8080/",
          "height": 197
        },
        "outputId": "1da17543-03e4-481c-eae5-035a94e89672"
      },
      "source": [
        "cet = pd.DataFrame(centroid)\n",
        "cet.head()"
      ],
      "execution_count": 46,
      "outputs": [
        {
          "output_type": "execute_result",
          "data": {
            "text/html": [
              "<div>\n",
              "<style scoped>\n",
              "    .dataframe tbody tr th:only-of-type {\n",
              "        vertical-align: middle;\n",
              "    }\n",
              "\n",
              "    .dataframe tbody tr th {\n",
              "        vertical-align: top;\n",
              "    }\n",
              "\n",
              "    .dataframe thead th {\n",
              "        text-align: right;\n",
              "    }\n",
              "</style>\n",
              "<table border=\"1\" class=\"dataframe\">\n",
              "  <thead>\n",
              "    <tr style=\"text-align: right;\">\n",
              "      <th></th>\n",
              "      <th>0</th>\n",
              "    </tr>\n",
              "  </thead>\n",
              "  <tbody>\n",
              "    <tr>\n",
              "      <th>0</th>\n",
              "      <td>2</td>\n",
              "    </tr>\n",
              "    <tr>\n",
              "      <th>1</th>\n",
              "      <td>0</td>\n",
              "    </tr>\n",
              "    <tr>\n",
              "      <th>2</th>\n",
              "      <td>0</td>\n",
              "    </tr>\n",
              "    <tr>\n",
              "      <th>3</th>\n",
              "      <td>1</td>\n",
              "    </tr>\n",
              "    <tr>\n",
              "      <th>4</th>\n",
              "      <td>0</td>\n",
              "    </tr>\n",
              "  </tbody>\n",
              "</table>\n",
              "</div>"
            ],
            "text/plain": [
              "   0\n",
              "0  2\n",
              "1  0\n",
              "2  0\n",
              "3  1\n",
              "4  0"
            ]
          },
          "metadata": {
            "tags": []
          },
          "execution_count": 46
        }
      ]
    },
    {
      "cell_type": "code",
      "metadata": {
        "id": "ia6iAa4xJrtz",
        "colab_type": "code",
        "colab": {}
      },
      "source": [
        "#The data group by diagnosis cause a more wider distribution spread within the data clusters, compared to that based of id"
      ],
      "execution_count": null,
      "outputs": []
    },
    {
      "cell_type": "code",
      "metadata": {
        "id": "SXZB6LKLKbs3",
        "colab_type": "code",
        "colab": {
          "base_uri": "https://localhost:8080/",
          "height": 34
        },
        "outputId": "f0e27a6d-ba86-46d0-e43e-d76bb83e4587"
      },
      "source": [
        "datas['cluster'].isnull().sum()"
      ],
      "execution_count": 47,
      "outputs": [
        {
          "output_type": "execute_result",
          "data": {
            "text/plain": [
              "0"
            ]
          },
          "metadata": {
            "tags": []
          },
          "execution_count": 47
        }
      ]
    },
    {
      "cell_type": "code",
      "metadata": {
        "id": "I5L1Ir1LKm1s",
        "colab_type": "code",
        "colab": {
          "base_uri": "https://localhost:8080/",
          "height": 87
        },
        "outputId": "24df9a71-6b24-46f1-f9d9-0675cf9bd03f"
      },
      "source": [
        "datas['cluster'].value_counts() # This would equate to 100% accuracy, being that it was indicated that tgere non null values in the observed labels"
      ],
      "execution_count": 48,
      "outputs": [
        {
          "output_type": "execute_result",
          "data": {
            "text/plain": [
              "2    25\n",
              "0    19\n",
              "1     6\n",
              "Name: cluster, dtype: int64"
            ]
          },
          "metadata": {
            "tags": []
          },
          "execution_count": 48
        }
      ]
    },
    {
      "cell_type": "code",
      "metadata": {
        "colab_type": "code",
        "id": "v8jQKtmfJs6e",
        "colab": {}
      },
      "source": [
        "base_colors = ['r','b','y']\n",
        "colors = [base_colors[centroids] for centroids in mos.labels_]"
      ],
      "execution_count": 49,
      "outputs": []
    },
    {
      "cell_type": "code",
      "metadata": {
        "colab_type": "code",
        "id": "suCLijaaJ43A",
        "colab": {
          "base_uri": "https://localhost:8080/",
          "height": 797
        },
        "outputId": "2c9e6ffb-1db2-4290-ea88-69077f2af3d3"
      },
      "source": [
        "fig, ax = plt.subplots(figsize =(7,6))\n",
        "ax.scatter(datas[features[0]], datas[features[1]], c = colors)\n",
        "ax.scatter(cet[0],cet[1], c = base_colors, s=100);"
      ],
      "execution_count": 50,
      "outputs": [
        {
          "output_type": "error",
          "ename": "KeyError",
          "evalue": "ignored",
          "traceback": [
            "\u001b[0;31m---------------------------------------------------------------------------\u001b[0m",
            "\u001b[0;31mValueError\u001b[0m                                Traceback (most recent call last)",
            "\u001b[0;32m/usr/local/lib/python3.6/dist-packages/pandas/core/indexes/range.py\u001b[0m in \u001b[0;36mget_loc\u001b[0;34m(self, key, method, tolerance)\u001b[0m\n\u001b[1;32m    349\u001b[0m             \u001b[0;32mtry\u001b[0m\u001b[0;34m:\u001b[0m\u001b[0;34m\u001b[0m\u001b[0;34m\u001b[0m\u001b[0m\n\u001b[0;32m--> 350\u001b[0;31m                 \u001b[0;32mreturn\u001b[0m \u001b[0mself\u001b[0m\u001b[0;34m.\u001b[0m\u001b[0m_range\u001b[0m\u001b[0;34m.\u001b[0m\u001b[0mindex\u001b[0m\u001b[0;34m(\u001b[0m\u001b[0mnew_key\u001b[0m\u001b[0;34m)\u001b[0m\u001b[0;34m\u001b[0m\u001b[0;34m\u001b[0m\u001b[0m\n\u001b[0m\u001b[1;32m    351\u001b[0m             \u001b[0;32mexcept\u001b[0m \u001b[0mValueError\u001b[0m\u001b[0;34m:\u001b[0m\u001b[0;34m\u001b[0m\u001b[0;34m\u001b[0m\u001b[0m\n",
            "\u001b[0;31mValueError\u001b[0m: 1 is not in range",
            "\nDuring handling of the above exception, another exception occurred:\n",
            "\u001b[0;31mKeyError\u001b[0m                                  Traceback (most recent call last)",
            "\u001b[0;32m<ipython-input-50-9fc65805f346>\u001b[0m in \u001b[0;36m<module>\u001b[0;34m()\u001b[0m\n\u001b[1;32m      1\u001b[0m \u001b[0mfig\u001b[0m\u001b[0;34m,\u001b[0m \u001b[0max\u001b[0m \u001b[0;34m=\u001b[0m \u001b[0mplt\u001b[0m\u001b[0;34m.\u001b[0m\u001b[0msubplots\u001b[0m\u001b[0;34m(\u001b[0m\u001b[0mfigsize\u001b[0m \u001b[0;34m=\u001b[0m\u001b[0;34m(\u001b[0m\u001b[0;36m7\u001b[0m\u001b[0;34m,\u001b[0m\u001b[0;36m6\u001b[0m\u001b[0;34m)\u001b[0m\u001b[0;34m)\u001b[0m\u001b[0;34m\u001b[0m\u001b[0;34m\u001b[0m\u001b[0m\n\u001b[1;32m      2\u001b[0m \u001b[0max\u001b[0m\u001b[0;34m.\u001b[0m\u001b[0mscatter\u001b[0m\u001b[0;34m(\u001b[0m\u001b[0mdatas\u001b[0m\u001b[0;34m[\u001b[0m\u001b[0mfeatures\u001b[0m\u001b[0;34m[\u001b[0m\u001b[0;36m0\u001b[0m\u001b[0;34m]\u001b[0m\u001b[0;34m]\u001b[0m\u001b[0;34m,\u001b[0m \u001b[0mdatas\u001b[0m\u001b[0;34m[\u001b[0m\u001b[0mfeatures\u001b[0m\u001b[0;34m[\u001b[0m\u001b[0;36m1\u001b[0m\u001b[0;34m]\u001b[0m\u001b[0;34m]\u001b[0m\u001b[0;34m,\u001b[0m \u001b[0mc\u001b[0m \u001b[0;34m=\u001b[0m \u001b[0mcolors\u001b[0m\u001b[0;34m)\u001b[0m\u001b[0;34m\u001b[0m\u001b[0;34m\u001b[0m\u001b[0m\n\u001b[0;32m----> 3\u001b[0;31m \u001b[0max\u001b[0m\u001b[0;34m.\u001b[0m\u001b[0mscatter\u001b[0m\u001b[0;34m(\u001b[0m\u001b[0mcet\u001b[0m\u001b[0;34m[\u001b[0m\u001b[0;36m0\u001b[0m\u001b[0;34m]\u001b[0m\u001b[0;34m,\u001b[0m\u001b[0mcet\u001b[0m\u001b[0;34m[\u001b[0m\u001b[0;36m1\u001b[0m\u001b[0;34m]\u001b[0m\u001b[0;34m,\u001b[0m \u001b[0mc\u001b[0m \u001b[0;34m=\u001b[0m \u001b[0mbase_colors\u001b[0m\u001b[0;34m,\u001b[0m \u001b[0ms\u001b[0m\u001b[0;34m=\u001b[0m\u001b[0;36m100\u001b[0m\u001b[0;34m)\u001b[0m\u001b[0;34m;\u001b[0m\u001b[0;34m\u001b[0m\u001b[0;34m\u001b[0m\u001b[0m\n\u001b[0m",
            "\u001b[0;32m/usr/local/lib/python3.6/dist-packages/pandas/core/frame.py\u001b[0m in \u001b[0;36m__getitem__\u001b[0;34m(self, key)\u001b[0m\n\u001b[1;32m   2798\u001b[0m             \u001b[0;32mif\u001b[0m \u001b[0mself\u001b[0m\u001b[0;34m.\u001b[0m\u001b[0mcolumns\u001b[0m\u001b[0;34m.\u001b[0m\u001b[0mnlevels\u001b[0m \u001b[0;34m>\u001b[0m \u001b[0;36m1\u001b[0m\u001b[0;34m:\u001b[0m\u001b[0;34m\u001b[0m\u001b[0;34m\u001b[0m\u001b[0m\n\u001b[1;32m   2799\u001b[0m                 \u001b[0;32mreturn\u001b[0m \u001b[0mself\u001b[0m\u001b[0;34m.\u001b[0m\u001b[0m_getitem_multilevel\u001b[0m\u001b[0;34m(\u001b[0m\u001b[0mkey\u001b[0m\u001b[0;34m)\u001b[0m\u001b[0;34m\u001b[0m\u001b[0;34m\u001b[0m\u001b[0m\n\u001b[0;32m-> 2800\u001b[0;31m             \u001b[0mindexer\u001b[0m \u001b[0;34m=\u001b[0m \u001b[0mself\u001b[0m\u001b[0;34m.\u001b[0m\u001b[0mcolumns\u001b[0m\u001b[0;34m.\u001b[0m\u001b[0mget_loc\u001b[0m\u001b[0;34m(\u001b[0m\u001b[0mkey\u001b[0m\u001b[0;34m)\u001b[0m\u001b[0;34m\u001b[0m\u001b[0;34m\u001b[0m\u001b[0m\n\u001b[0m\u001b[1;32m   2801\u001b[0m             \u001b[0;32mif\u001b[0m \u001b[0mis_integer\u001b[0m\u001b[0;34m(\u001b[0m\u001b[0mindexer\u001b[0m\u001b[0;34m)\u001b[0m\u001b[0;34m:\u001b[0m\u001b[0;34m\u001b[0m\u001b[0;34m\u001b[0m\u001b[0m\n\u001b[1;32m   2802\u001b[0m                 \u001b[0mindexer\u001b[0m \u001b[0;34m=\u001b[0m \u001b[0;34m[\u001b[0m\u001b[0mindexer\u001b[0m\u001b[0;34m]\u001b[0m\u001b[0;34m\u001b[0m\u001b[0;34m\u001b[0m\u001b[0m\n",
            "\u001b[0;32m/usr/local/lib/python3.6/dist-packages/pandas/core/indexes/range.py\u001b[0m in \u001b[0;36mget_loc\u001b[0;34m(self, key, method, tolerance)\u001b[0m\n\u001b[1;32m    350\u001b[0m                 \u001b[0;32mreturn\u001b[0m \u001b[0mself\u001b[0m\u001b[0;34m.\u001b[0m\u001b[0m_range\u001b[0m\u001b[0;34m.\u001b[0m\u001b[0mindex\u001b[0m\u001b[0;34m(\u001b[0m\u001b[0mnew_key\u001b[0m\u001b[0;34m)\u001b[0m\u001b[0;34m\u001b[0m\u001b[0;34m\u001b[0m\u001b[0m\n\u001b[1;32m    351\u001b[0m             \u001b[0;32mexcept\u001b[0m \u001b[0mValueError\u001b[0m\u001b[0;34m:\u001b[0m\u001b[0;34m\u001b[0m\u001b[0;34m\u001b[0m\u001b[0m\n\u001b[0;32m--> 352\u001b[0;31m                 \u001b[0;32mraise\u001b[0m \u001b[0mKeyError\u001b[0m\u001b[0;34m(\u001b[0m\u001b[0mkey\u001b[0m\u001b[0;34m)\u001b[0m\u001b[0;34m\u001b[0m\u001b[0;34m\u001b[0m\u001b[0m\n\u001b[0m\u001b[1;32m    353\u001b[0m         \u001b[0;32mreturn\u001b[0m \u001b[0msuper\u001b[0m\u001b[0;34m(\u001b[0m\u001b[0;34m)\u001b[0m\u001b[0;34m.\u001b[0m\u001b[0mget_loc\u001b[0m\u001b[0;34m(\u001b[0m\u001b[0mkey\u001b[0m\u001b[0;34m,\u001b[0m \u001b[0mmethod\u001b[0m\u001b[0;34m=\u001b[0m\u001b[0mmethod\u001b[0m\u001b[0;34m,\u001b[0m \u001b[0mtolerance\u001b[0m\u001b[0;34m=\u001b[0m\u001b[0mtolerance\u001b[0m\u001b[0;34m)\u001b[0m\u001b[0;34m\u001b[0m\u001b[0;34m\u001b[0m\u001b[0m\n\u001b[1;32m    354\u001b[0m \u001b[0;34m\u001b[0m\u001b[0m\n",
            "\u001b[0;31mKeyError\u001b[0m: 1"
          ]
        },
        {
          "output_type": "display_data",
          "data": {
            "image/png": "[encoded data removed]",
            "text/plain": [
              "<Figure size 504x432 with 1 Axes>"
            ]
          },
          "metadata": {
            "tags": [],
            "needs_background": "light"
          }
        }
      ]
    },
    {
      "cell_type": "code",
      "metadata": {
        "id": "4Uj5Wy8_LJuR",
        "colab_type": "code",
        "colab": {
          "base_uri": "https://localhost:8080/",
          "height": 34
        },
        "outputId": "17885399-eea6-4e0e-842b-3953d2c629b0"
      },
      "source": [
        "df['cluster'].isnull().sum()"
      ],
      "execution_count": 51,
      "outputs": [
        {
          "output_type": "execute_result",
          "data": {
            "text/plain": [
              "0"
            ]
          },
          "metadata": {
            "tags": []
          },
          "execution_count": 51
        }
      ]
    },
    {
      "cell_type": "code",
      "metadata": {
        "id": "FeRx-B24MC03",
        "colab_type": "code",
        "colab": {
          "base_uri": "https://localhost:8080/",
          "height": 87
        },
        "outputId": "5f06c26e-aef1-4099-f4ac-3b5af63ddf53"
      },
      "source": [
        "df['cluster'].value_counts() #This equate to total number of indexes which also mean that the non-diagnosis data frame is alsom100% accurate"
      ],
      "execution_count": 52,
      "outputs": [
        {
          "output_type": "execute_result",
          "data": {
            "text/plain": [
              "2    261\n",
              "0    207\n",
              "1    101\n",
              "Name: cluster, dtype: int64"
            ]
          },
          "metadata": {
            "tags": []
          },
          "execution_count": 52
        }
      ]
    },
    {
      "cell_type": "markdown",
      "metadata": {
        "id": "BedOTS0eJ9_K",
        "colab_type": "text"
      },
      "source": [
        "# 2) Perform PCA on your dataset first and *then* use k-means clustering. \n",
        "\n",
        "- You need to standardize your data before PCA.\n",
        "- First try clustering just on PC1 and PC2 so that you can make a scatterplot of your clustering.\n",
        "- Then use use a scree plot to decide how many principal components to include in your clustering, and use however many principal components you need in order to retain 90% of the variation of the original dataset\n",
        "\n"
      ]
    },
    {
      "cell_type": "code",
      "metadata": {
        "id": "dW1AeAK8PNah",
        "colab_type": "code",
        "colab": {}
      },
      "source": [
        "##### Your Code Here #####\n",
        "from sklearn.preprocessing import StandardScaler\n",
        "\n",
        "scaler = StandardScaler()"
      ],
      "execution_count": 59,
      "outputs": []
    },
    {
      "cell_type": "code",
      "metadata": {
        "id": "hYNS9altO7Ty",
        "colab_type": "code",
        "colab": {
          "base_uri": "https://localhost:8080/",
          "height": 34
        },
        "outputId": "6b1b2f6c-a418-4d33-8932-dcf5783b4ae9"
      },
      "source": [
        "feats = list(df[features].columns)\n",
        "feats"
      ],
      "execution_count": 55,
      "outputs": [
        {
          "output_type": "execute_result",
          "data": {
            "text/plain": [
              "['texture_mean', 'perimeter_mean']"
            ]
          },
          "metadata": {
            "tags": []
          },
          "execution_count": 55
        }
      ]
    },
    {
      "cell_type": "code",
      "metadata": {
        "id": "sG9fOekXUM6A",
        "colab_type": "code",
        "colab": {}
      },
      "source": [
        "scale_data = scaler.fit_transform(df[features])"
      ],
      "execution_count": 61,
      "outputs": []
    },
    {
      "cell_type": "code",
      "metadata": {
        "id": "DjhI42A6VFtM",
        "colab_type": "code",
        "colab": {
          "base_uri": "https://localhost:8080/",
          "height": 105
        },
        "outputId": "fb79f9d5-e1a0-49a6-c56f-86c6779f37f9"
      },
      "source": [
        "scale_data[:5]"
      ],
      "execution_count": 63,
      "outputs": [
        {
          "output_type": "execute_result",
          "data": {
            "text/plain": [
              "array([[-2.07333501,  1.26993369],\n",
              "       [-0.35363241,  1.68595471],\n",
              "       [ 0.45618695,  1.56650313],\n",
              "       [ 0.25373211, -0.59268717],\n",
              "       [-1.15181643,  1.77657315]])"
            ]
          },
          "metadata": {
            "tags": []
          },
          "execution_count": 63
        }
      ]
    },
    {
      "cell_type": "code",
      "metadata": {
        "id": "d880ghptVL78",
        "colab_type": "code",
        "colab": {
          "base_uri": "https://localhost:8080/",
          "height": 197
        },
        "outputId": "64940869-244d-40a7-f2c3-ab970aa56c34"
      },
      "source": [
        "df_scale = pd.DataFrame(scale_data, columns = features) #scalars are used to standardized data\n",
        "df_scale.head()"
      ],
      "execution_count": 64,
      "outputs": [
        {
          "output_type": "execute_result",
          "data": {
            "text/html": [
              "<div>\n",
              "<style scoped>\n",
              "    .dataframe tbody tr th:only-of-type {\n",
              "        vertical-align: middle;\n",
              "    }\n",
              "\n",
              "    .dataframe tbody tr th {\n",
              "        vertical-align: top;\n",
              "    }\n",
              "\n",
              "    .dataframe thead th {\n",
              "        text-align: right;\n",
              "    }\n",
              "</style>\n",
              "<table border=\"1\" class=\"dataframe\">\n",
              "  <thead>\n",
              "    <tr style=\"text-align: right;\">\n",
              "      <th></th>\n",
              "      <th>texture_mean</th>\n",
              "      <th>perimeter_mean</th>\n",
              "    </tr>\n",
              "  </thead>\n",
              "  <tbody>\n",
              "    <tr>\n",
              "      <th>0</th>\n",
              "      <td>-2.073335</td>\n",
              "      <td>1.269934</td>\n",
              "    </tr>\n",
              "    <tr>\n",
              "      <th>1</th>\n",
              "      <td>-0.353632</td>\n",
              "      <td>1.685955</td>\n",
              "    </tr>\n",
              "    <tr>\n",
              "      <th>2</th>\n",
              "      <td>0.456187</td>\n",
              "      <td>1.566503</td>\n",
              "    </tr>\n",
              "    <tr>\n",
              "      <th>3</th>\n",
              "      <td>0.253732</td>\n",
              "      <td>-0.592687</td>\n",
              "    </tr>\n",
              "    <tr>\n",
              "      <th>4</th>\n",
              "      <td>-1.151816</td>\n",
              "      <td>1.776573</td>\n",
              "    </tr>\n",
              "  </tbody>\n",
              "</table>\n",
              "</div>"
            ],
            "text/plain": [
              "   texture_mean  perimeter_mean\n",
              "0     -2.073335        1.269934\n",
              "1     -0.353632        1.685955\n",
              "2      0.456187        1.566503\n",
              "3      0.253732       -0.592687\n",
              "4     -1.151816        1.776573"
            ]
          },
          "metadata": {
            "tags": []
          },
          "execution_count": 64
        }
      ]
    },
    {
      "cell_type": "code",
      "metadata": {
        "id": "Bz1ivS_YVagw",
        "colab_type": "code",
        "colab": {
          "base_uri": "https://localhost:8080/",
          "height": 70
        },
        "outputId": "32339a1f-583a-4e83-f696-2cd191d8bab0"
      },
      "source": [
        "df_scale[features].std()"
      ],
      "execution_count": 65,
      "outputs": [
        {
          "output_type": "execute_result",
          "data": {
            "text/plain": [
              "texture_mean      1.00088\n",
              "perimeter_mean    1.00088\n",
              "dtype: float64"
            ]
          },
          "metadata": {
            "tags": []
          },
          "execution_count": 65
        }
      ]
    },
    {
      "cell_type": "code",
      "metadata": {
        "id": "6XRVs1kHVfN2",
        "colab_type": "code",
        "colab": {}
      },
      "source": [
        "from sklearn.decomposition import PCA\n",
        "pca = PCA(n_components = 2)\n"
      ],
      "execution_count": 66,
      "outputs": []
    },
    {
      "cell_type": "code",
      "metadata": {
        "id": "nBvsiaUUVqUX",
        "colab_type": "code",
        "colab": {
          "base_uri": "https://localhost:8080/",
          "height": 105
        },
        "outputId": "f91be9a6-5eaa-405e-ec72-1088618b3dad"
      },
      "source": [
        "pca_features = pca.fit_transform(df_scale)\n",
        "pca_features[:5]"
      ],
      "execution_count": 68,
      "outputs": [
        {
          "output_type": "execute_result",
          "data": {
            "text/plain": [
              "array([[-0.56809053, -2.36404797],\n",
              "       [ 0.94209413, -1.44220588],\n",
              "       [ 1.43025787, -0.7851121 ],\n",
              "       [-0.23967742,  0.59850881],\n",
              "       [ 0.44176971, -2.07068413]])"
            ]
          },
          "metadata": {
            "tags": []
          },
          "execution_count": 68
        }
      ]
    },
    {
      "cell_type": "code",
      "metadata": {
        "id": "bw4aR-UvV5D1",
        "colab_type": "code",
        "colab": {
          "base_uri": "https://localhost:8080/",
          "height": 34
        },
        "outputId": "71704927-a606-4137-f713-37245132e668"
      },
      "source": [
        "pca.explained_variance_ratio_"
      ],
      "execution_count": 69,
      "outputs": [
        {
          "output_type": "execute_result",
          "data": {
            "text/plain": [
              "array([0.66476653, 0.33523347])"
            ]
          },
          "metadata": {
            "tags": []
          },
          "execution_count": 69
        }
      ]
    },
    {
      "cell_type": "code",
      "metadata": {
        "id": "WNLSiCZrWGvZ",
        "colab_type": "code",
        "colab": {
          "base_uri": "https://localhost:8080/",
          "height": 34
        },
        "outputId": "ff858c34-2485-456a-cf28-eebf3d7b1518"
      },
      "source": [
        "sum(pca.explained_variance_ratio_)"
      ],
      "execution_count": 70,
      "outputs": [
        {
          "output_type": "execute_result",
          "data": {
            "text/plain": [
              "0.9999999999999999"
            ]
          },
          "metadata": {
            "tags": []
          },
          "execution_count": 70
        }
      ]
    },
    {
      "cell_type": "code",
      "metadata": {
        "id": "C1sHplXJWMSv",
        "colab_type": "code",
        "colab": {
          "base_uri": "https://localhost:8080/",
          "height": 197
        },
        "outputId": "3f6447ab-76dc-4fc8-f9f9-220136ae7229"
      },
      "source": [
        "df_pca = pd.DataFrame(pca_features, columns =['Radius Mean', 'Area Mean'])\n",
        "df_pca.head()"
      ],
      "execution_count": 75,
      "outputs": [
        {
          "output_type": "execute_result",
          "data": {
            "text/html": [
              "<div>\n",
              "<style scoped>\n",
              "    .dataframe tbody tr th:only-of-type {\n",
              "        vertical-align: middle;\n",
              "    }\n",
              "\n",
              "    .dataframe tbody tr th {\n",
              "        vertical-align: top;\n",
              "    }\n",
              "\n",
              "    .dataframe thead th {\n",
              "        text-align: right;\n",
              "    }\n",
              "</style>\n",
              "<table border=\"1\" class=\"dataframe\">\n",
              "  <thead>\n",
              "    <tr style=\"text-align: right;\">\n",
              "      <th></th>\n",
              "      <th>Radius Mean</th>\n",
              "      <th>Area Mean</th>\n",
              "    </tr>\n",
              "  </thead>\n",
              "  <tbody>\n",
              "    <tr>\n",
              "      <th>0</th>\n",
              "      <td>-0.568091</td>\n",
              "      <td>-2.364048</td>\n",
              "    </tr>\n",
              "    <tr>\n",
              "      <th>1</th>\n",
              "      <td>0.942094</td>\n",
              "      <td>-1.442206</td>\n",
              "    </tr>\n",
              "    <tr>\n",
              "      <th>2</th>\n",
              "      <td>1.430258</td>\n",
              "      <td>-0.785112</td>\n",
              "    </tr>\n",
              "    <tr>\n",
              "      <th>3</th>\n",
              "      <td>-0.239677</td>\n",
              "      <td>0.598509</td>\n",
              "    </tr>\n",
              "    <tr>\n",
              "      <th>4</th>\n",
              "      <td>0.441770</td>\n",
              "      <td>-2.070684</td>\n",
              "    </tr>\n",
              "  </tbody>\n",
              "</table>\n",
              "</div>"
            ],
            "text/plain": [
              "   Radius Mean  Area Mean\n",
              "0    -0.568091  -2.364048\n",
              "1     0.942094  -1.442206\n",
              "2     1.430258  -0.785112\n",
              "3    -0.239677   0.598509\n",
              "4     0.441770  -2.070684"
            ]
          },
          "metadata": {
            "tags": []
          },
          "execution_count": 75
        }
      ]
    },
    {
      "cell_type": "code",
      "metadata": {
        "id": "GVKc-mJkWiPX",
        "colab_type": "code",
        "colab": {}
      },
      "source": [
        "k= 3\n",
        "model = KMeans(n_clusters = k, max_iter = 1)"
      ],
      "execution_count": 73,
      "outputs": []
    },
    {
      "cell_type": "code",
      "metadata": {
        "id": "4efWB-6PW33n",
        "colab_type": "code",
        "colab": {
          "base_uri": "https://localhost:8080/",
          "height": 70
        },
        "outputId": "d6ff853f-92b1-4d39-c9eb-aeda37b3bf0a"
      },
      "source": [
        "model.fit(df_pca.values)"
      ],
      "execution_count": 74,
      "outputs": [
        {
          "output_type": "execute_result",
          "data": {
            "text/plain": [
              "KMeans(algorithm='auto', copy_x=True, init='k-means++', max_iter=1,\n",
              "       n_clusters=3, n_init=10, n_jobs=None, precompute_distances='auto',\n",
              "       random_state=None, tol=0.0001, verbose=0)"
            ]
          },
          "metadata": {
            "tags": []
          },
          "execution_count": 74
        }
      ]
    },
    {
      "cell_type": "code",
      "metadata": {
        "id": "fihf2cQnW-Z4",
        "colab_type": "code",
        "colab": {}
      },
      "source": [
        "df_pca['cluster'] = model.labels_"
      ],
      "execution_count": 76,
      "outputs": []
    },
    {
      "cell_type": "code",
      "metadata": {
        "id": "g3WUNRkZXF7W",
        "colab_type": "code",
        "colab": {}
      },
      "source": [
        "cenroid = model.cluster_centers_"
      ],
      "execution_count": 78,
      "outputs": []
    },
    {
      "cell_type": "code",
      "metadata": {
        "id": "UXPoZh-CXO7h",
        "colab_type": "code",
        "colab": {
          "base_uri": "https://localhost:8080/",
          "height": 137
        },
        "outputId": "866a8671-3332-4a08-ae43-5d8a33ec77c5"
      },
      "source": [
        "ccu = pd.DataFrame(cenroid)\n",
        "ccu.head()"
      ],
      "execution_count": 79,
      "outputs": [
        {
          "output_type": "execute_result",
          "data": {
            "text/html": [
              "<div>\n",
              "<style scoped>\n",
              "    .dataframe tbody tr th:only-of-type {\n",
              "        vertical-align: middle;\n",
              "    }\n",
              "\n",
              "    .dataframe tbody tr th {\n",
              "        vertical-align: top;\n",
              "    }\n",
              "\n",
              "    .dataframe thead th {\n",
              "        text-align: right;\n",
              "    }\n",
              "</style>\n",
              "<table border=\"1\" class=\"dataframe\">\n",
              "  <thead>\n",
              "    <tr style=\"text-align: right;\">\n",
              "      <th></th>\n",
              "      <th>0</th>\n",
              "      <th>1</th>\n",
              "    </tr>\n",
              "  </thead>\n",
              "  <tbody>\n",
              "    <tr>\n",
              "      <th>0</th>\n",
              "      <td>-0.880093</td>\n",
              "      <td>-0.175767</td>\n",
              "    </tr>\n",
              "    <tr>\n",
              "      <th>1</th>\n",
              "      <td>0.416321</td>\n",
              "      <td>0.843949</td>\n",
              "    </tr>\n",
              "    <tr>\n",
              "      <th>2</th>\n",
              "      <td>1.504839</td>\n",
              "      <td>-0.689125</td>\n",
              "    </tr>\n",
              "  </tbody>\n",
              "</table>\n",
              "</div>"
            ],
            "text/plain": [
              "          0         1\n",
              "0 -0.880093 -0.175767\n",
              "1  0.416321  0.843949\n",
              "2  1.504839 -0.689125"
            ]
          },
          "metadata": {
            "tags": []
          },
          "execution_count": 79
        }
      ]
    },
    {
      "cell_type": "code",
      "metadata": {
        "id": "MU2kJMVWXbKl",
        "colab_type": "code",
        "colab": {}
      },
      "source": [
        "base_colors = ['r','g', 'b']\n",
        "colors = [base_colors[cenroid] for cenroid in model.labels_]"
      ],
      "execution_count": 84,
      "outputs": []
    },
    {
      "cell_type": "code",
      "metadata": {
        "id": "EgHOFCtzXy16",
        "colab_type": "code",
        "colab": {
          "base_uri": "https://localhost:8080/",
          "height": 374
        },
        "outputId": "f788f0d5-1092-42d1-88a8-f008a88ffd3f"
      },
      "source": [
        "fig, ax = plt.subplots(figsize = (7,6))\n",
        "ax.scatter(df_pca['Radius Mean'], df_pca['Area Mean'], c = colors)\n",
        "ax.scatter(ccu[0], ccu[1], c = base_colors, s =100);"
      ],
      "execution_count": 85,
      "outputs": [
        {
          "output_type": "display_data",
          "data": {
            "image/png": "[encoded data removed]",
            "text/plain": [
              "<Figure size 504x432 with 1 Axes>"
            ]
          },
          "metadata": {
            "tags": [],
            "needs_background": "light"
          }
        }
      ]
    },
    {
      "cell_type": "code",
      "metadata": {
        "id": "agjcKSRfY5di",
        "colab_type": "code",
        "colab": {
          "base_uri": "https://localhost:8080/",
          "height": 34
        },
        "outputId": "ee6d4c6c-b801-4392-bcc1-48c32767e7c4"
      },
      "source": [
        "#silhouette score\n",
        "from sklearn import metrics\n",
        "metrics.silhouette_score(df[features], model.labels_, metric='euclidean')"
      ],
      "execution_count": 87,
      "outputs": [
        {
          "output_type": "execute_result",
          "data": {
            "text/plain": [
              "0.23652671604338618"
            ]
          },
          "metadata": {
            "tags": []
          },
          "execution_count": 87
        }
      ]
    },
    {
      "cell_type": "code",
      "metadata": {
        "id": "ihJfUUueZqum",
        "colab_type": "code",
        "colab": {
          "base_uri": "https://localhost:8080/",
          "height": 496
        },
        "outputId": "5e93cf21-fee0-4875-eda8-f099bd0d7067"
      },
      "source": [
        "model.labels_"
      ],
      "execution_count": 88,
      "outputs": [
        {
          "output_type": "execute_result",
          "data": {
            "text/plain": [
              "array([0, 2, 2, 1, 2, 0, 2, 1, 1, 1, 1, 0, 2, 1, 1, 1, 1, 2, 2, 0, 0, 0,\n",
              "       0, 2, 2, 2, 1, 2, 1, 0, 2, 0, 2, 2, 0, 2, 1, 0, 1, 1, 1, 1, 2, 1,\n",
              "       1, 2, 0, 0, 0, 1, 1, 0, 0, 2, 1, 0, 2, 1, 0, 0, 0, 1, 1, 0, 1, 1,\n",
              "       1, 0, 0, 0, 2, 0, 2, 0, 0, 1, 0, 2, 2, 0, 1, 0, 2, 2, 0, 2, 1, 2,\n",
              "       1, 0, 1, 1, 0, 0, 1, 2, 0, 0, 0, 1, 1, 0, 1, 0, 0, 0, 0, 0, 2, 1,\n",
              "       0, 1, 1, 1, 0, 1, 0, 0, 1, 2, 0, 2, 2, 0, 0, 0, 1, 2, 0, 2, 0, 1,\n",
              "       1, 0, 2, 1, 0, 0, 0, 0, 0, 0, 0, 0, 0, 0, 0, 0, 0, 0, 1, 1, 0, 0,\n",
              "       0, 0, 2, 2, 0, 0, 1, 2, 2, 1, 2, 1, 0, 2, 2, 0, 0, 1, 0, 0, 0, 0,\n",
              "       0, 2, 1, 0, 2, 2, 1, 0, 1, 0, 2, 0, 0, 0, 1, 1, 0, 1, 1, 0, 1, 2,\n",
              "       2, 1, 0, 2, 2, 1, 0, 0, 0, 2, 1, 0, 2, 0, 2, 2, 1, 0, 0, 0, 2, 2,\n",
              "       0, 0, 0, 1, 0, 0, 0, 0, 1, 1, 2, 1, 1, 2, 0, 1, 2, 2, 1, 1, 0, 0,\n",
              "       0, 1, 2, 0, 0, 0, 1, 0, 2, 0, 2, 2, 2, 0, 2, 0, 2, 1, 2, 2, 2, 1,\n",
              "       2, 2, 0, 1, 0, 1, 0, 0, 2, 0, 2, 0, 0, 2, 0, 0, 2, 0, 2, 2, 0, 0,\n",
              "       1, 0, 1, 0, 1, 0, 0, 0, 0, 0, 0, 0, 0, 1, 2, 1, 2, 0, 0, 1, 0, 0,\n",
              "       0, 0, 0, 0, 0, 0, 0, 0, 0, 2, 0, 0, 0, 2, 0, 2, 0, 0, 0, 0, 2, 2,\n",
              "       0, 0, 1, 0, 0, 2, 0, 2, 0, 2, 0, 0, 0, 2, 0, 0, 0, 0, 0, 0, 0, 2,\n",
              "       2, 1, 0, 0, 0, 0, 0, 0, 0, 1, 0, 0, 0, 2, 2, 0, 2, 2, 2, 0, 2, 2,\n",
              "       0, 0, 1, 1, 0, 0, 0, 0, 1, 0, 0, 1, 0, 0, 0, 2, 0, 0, 1, 2, 0, 0,\n",
              "       0, 0, 0, 0, 2, 0, 0, 0, 0, 0, 0, 1, 2, 0, 0, 0, 1, 1, 1, 1, 1, 1,\n",
              "       0, 1, 0, 0, 0, 0, 0, 1, 0, 1, 0, 0, 1, 0, 2, 2, 0, 1, 0, 0, 1, 0,\n",
              "       0, 2, 0, 0, 2, 1, 2, 0, 0, 2, 1, 2, 1, 0, 0, 1, 1, 1, 1, 1, 1, 2,\n",
              "       1, 0, 0, 1, 1, 0, 2, 0, 0, 1, 0, 1, 0, 0, 1, 0, 0, 2, 0, 0, 0, 0,\n",
              "       0, 0, 0, 2, 0, 2, 1, 0, 2, 0, 1, 1, 0, 0, 2, 2, 0, 1, 0, 2, 0, 0,\n",
              "       1, 0, 0, 1, 0, 0, 1, 0, 0, 0, 2, 2, 0, 0, 0, 2, 0, 0, 0, 0, 0, 0,\n",
              "       0, 0, 0, 1, 0, 2, 0, 2, 1, 1, 1, 1, 0, 1, 1, 1, 1, 1, 0, 0, 0, 1,\n",
              "       1, 1, 1, 1, 1, 1, 0, 1, 1, 1, 1, 1, 1, 2, 2, 2, 1, 2, 1],\n",
              "      dtype=int32)"
            ]
          },
          "metadata": {
            "tags": []
          },
          "execution_count": 88
        }
      ]
    },
    {
      "cell_type": "code",
      "metadata": {
        "id": "b7RJdttRcklu",
        "colab_type": "code",
        "colab": {}
      },
      "source": [
        "#PCA1"
      ],
      "execution_count": null,
      "outputs": []
    },
    {
      "cell_type": "code",
      "metadata": {
        "id": "kykG___5cQju",
        "colab_type": "code",
        "colab": {}
      },
      "source": [
        "pca1 = PCA(n_components = 1)"
      ],
      "execution_count": 91,
      "outputs": []
    },
    {
      "cell_type": "code",
      "metadata": {
        "id": "lOITNadEcjvu",
        "colab_type": "code",
        "colab": {
          "base_uri": "https://localhost:8080/",
          "height": 105
        },
        "outputId": "c5b4b6eb-8739-4323-f8ff-38e780b92d57"
      },
      "source": [
        "pca1_features = pca1.fit_transform(df_scale)\n",
        "pca1_features[:5]"
      ],
      "execution_count": 96,
      "outputs": [
        {
          "output_type": "execute_result",
          "data": {
            "text/plain": [
              "array([[-0.56809053],\n",
              "       [ 0.94209413],\n",
              "       [ 1.43025787],\n",
              "       [-0.23967742],\n",
              "       [ 0.44176971]])"
            ]
          },
          "metadata": {
            "tags": []
          },
          "execution_count": 96
        }
      ]
    },
    {
      "cell_type": "code",
      "metadata": {
        "id": "G9g5vrj_dPCa",
        "colab_type": "code",
        "colab": {
          "base_uri": "https://localhost:8080/",
          "height": 34
        },
        "outputId": "10020917-cf24-40d0-dd59-2282458ee000"
      },
      "source": [
        "pca1.explained_variance_ratio_"
      ],
      "execution_count": 93,
      "outputs": [
        {
          "output_type": "execute_result",
          "data": {
            "text/plain": [
              "array([0.66476653])"
            ]
          },
          "metadata": {
            "tags": []
          },
          "execution_count": 93
        }
      ]
    },
    {
      "cell_type": "code",
      "metadata": {
        "id": "8p1rxnIKdVUx",
        "colab_type": "code",
        "colab": {
          "base_uri": "https://localhost:8080/",
          "height": 34
        },
        "outputId": "a73c90cc-69a4-434d-96e9-9df8eaae549d"
      },
      "source": [
        "sum(pca1.explained_variance_ratio_)"
      ],
      "execution_count": 94,
      "outputs": [
        {
          "output_type": "execute_result",
          "data": {
            "text/plain": [
              "0.6647665293432848"
            ]
          },
          "metadata": {
            "tags": []
          },
          "execution_count": 94
        }
      ]
    },
    {
      "cell_type": "code",
      "metadata": {
        "id": "p_EbJpu7daPN",
        "colab_type": "code",
        "colab": {
          "base_uri": "https://localhost:8080/",
          "height": 34
        },
        "outputId": "c8b4c584-848d-4967-9cb0-a15849f0e88e"
      },
      "source": [
        "sum(pca1.explained_variance_ratio_)"
      ],
      "execution_count": 95,
      "outputs": [
        {
          "output_type": "execute_result",
          "data": {
            "text/plain": [
              "0.6647665293432848"
            ]
          },
          "metadata": {
            "tags": []
          },
          "execution_count": 95
        }
      ]
    },
    {
      "cell_type": "code",
      "metadata": {
        "id": "EZncMWwOdnmw",
        "colab_type": "code",
        "colab": {
          "base_uri": "https://localhost:8080/",
          "height": 197
        },
        "outputId": "db841f5a-a59e-40ed-d342-c5d565fb48e1"
      },
      "source": [
        "df_pca1 = pd.DataFrame(pca1_features, columns = ['Radius Mean'])\n",
        "df_pca1.head()"
      ],
      "execution_count": 99,
      "outputs": [
        {
          "output_type": "execute_result",
          "data": {
            "text/html": [
              "<div>\n",
              "<style scoped>\n",
              "    .dataframe tbody tr th:only-of-type {\n",
              "        vertical-align: middle;\n",
              "    }\n",
              "\n",
              "    .dataframe tbody tr th {\n",
              "        vertical-align: top;\n",
              "    }\n",
              "\n",
              "    .dataframe thead th {\n",
              "        text-align: right;\n",
              "    }\n",
              "</style>\n",
              "<table border=\"1\" class=\"dataframe\">\n",
              "  <thead>\n",
              "    <tr style=\"text-align: right;\">\n",
              "      <th></th>\n",
              "      <th>Radius Mean</th>\n",
              "    </tr>\n",
              "  </thead>\n",
              "  <tbody>\n",
              "    <tr>\n",
              "      <th>0</th>\n",
              "      <td>-0.568091</td>\n",
              "    </tr>\n",
              "    <tr>\n",
              "      <th>1</th>\n",
              "      <td>0.942094</td>\n",
              "    </tr>\n",
              "    <tr>\n",
              "      <th>2</th>\n",
              "      <td>1.430258</td>\n",
              "    </tr>\n",
              "    <tr>\n",
              "      <th>3</th>\n",
              "      <td>-0.239677</td>\n",
              "    </tr>\n",
              "    <tr>\n",
              "      <th>4</th>\n",
              "      <td>0.441770</td>\n",
              "    </tr>\n",
              "  </tbody>\n",
              "</table>\n",
              "</div>"
            ],
            "text/plain": [
              "   Radius Mean\n",
              "0    -0.568091\n",
              "1     0.942094\n",
              "2     1.430258\n",
              "3    -0.239677\n",
              "4     0.441770"
            ]
          },
          "metadata": {
            "tags": []
          },
          "execution_count": 99
        }
      ]
    },
    {
      "cell_type": "code",
      "metadata": {
        "id": "857bvpJMeVw7",
        "colab_type": "code",
        "colab": {}
      },
      "source": [
        "k =3\n",
        "mode = KMeans(n_clusters = k, max_iter = 1)"
      ],
      "execution_count": 101,
      "outputs": []
    },
    {
      "cell_type": "code",
      "metadata": {
        "id": "ZT043T9oepaL",
        "colab_type": "code",
        "colab": {
          "base_uri": "https://localhost:8080/",
          "height": 70
        },
        "outputId": "50b4b4d6-6542-4037-9dc8-bff4dedcc895"
      },
      "source": [
        "mode.fit(df_pca1.values)"
      ],
      "execution_count": 102,
      "outputs": [
        {
          "output_type": "execute_result",
          "data": {
            "text/plain": [
              "KMeans(algorithm='auto', copy_x=True, init='k-means++', max_iter=1,\n",
              "       n_clusters=3, n_init=10, n_jobs=None, precompute_distances='auto',\n",
              "       random_state=None, tol=0.0001, verbose=0)"
            ]
          },
          "metadata": {
            "tags": []
          },
          "execution_count": 102
        }
      ]
    },
    {
      "cell_type": "code",
      "metadata": {
        "id": "Wg5J-FV0e6Uy",
        "colab_type": "code",
        "colab": {}
      },
      "source": [
        "df_pca1['cluster'] = mode.labels_\n",
        "centrid = model.cluster_centers_"
      ],
      "execution_count": 105,
      "outputs": []
    },
    {
      "cell_type": "code",
      "metadata": {
        "id": "86nxfiBjfRW_",
        "colab_type": "code",
        "colab": {
          "base_uri": "https://localhost:8080/",
          "height": 137
        },
        "outputId": "80339e35-7ec9-48b3-a18d-ec700481bcb3"
      },
      "source": [
        "ccua = pd.DataFrame(centrid)\n",
        "ccua.head()"
      ],
      "execution_count": 106,
      "outputs": [
        {
          "output_type": "execute_result",
          "data": {
            "text/html": [
              "<div>\n",
              "<style scoped>\n",
              "    .dataframe tbody tr th:only-of-type {\n",
              "        vertical-align: middle;\n",
              "    }\n",
              "\n",
              "    .dataframe tbody tr th {\n",
              "        vertical-align: top;\n",
              "    }\n",
              "\n",
              "    .dataframe thead th {\n",
              "        text-align: right;\n",
              "    }\n",
              "</style>\n",
              "<table border=\"1\" class=\"dataframe\">\n",
              "  <thead>\n",
              "    <tr style=\"text-align: right;\">\n",
              "      <th></th>\n",
              "      <th>0</th>\n",
              "      <th>1</th>\n",
              "    </tr>\n",
              "  </thead>\n",
              "  <tbody>\n",
              "    <tr>\n",
              "      <th>0</th>\n",
              "      <td>-0.880093</td>\n",
              "      <td>-0.175767</td>\n",
              "    </tr>\n",
              "    <tr>\n",
              "      <th>1</th>\n",
              "      <td>0.416321</td>\n",
              "      <td>0.843949</td>\n",
              "    </tr>\n",
              "    <tr>\n",
              "      <th>2</th>\n",
              "      <td>1.504839</td>\n",
              "      <td>-0.689125</td>\n",
              "    </tr>\n",
              "  </tbody>\n",
              "</table>\n",
              "</div>"
            ],
            "text/plain": [
              "          0         1\n",
              "0 -0.880093 -0.175767\n",
              "1  0.416321  0.843949\n",
              "2  1.504839 -0.689125"
            ]
          },
          "metadata": {
            "tags": []
          },
          "execution_count": 106
        }
      ]
    },
    {
      "cell_type": "code",
      "metadata": {
        "id": "68nyKGhhgt8X",
        "colab_type": "code",
        "colab": {}
      },
      "source": [
        "base_c = ['purple','indigo', 'green']\n",
        "colors = [base_c[centrid] for centrid in mode.labels_]"
      ],
      "execution_count": 107,
      "outputs": []
    },
    {
      "cell_type": "code",
      "metadata": {
        "id": "trRxmoW-hANH",
        "colab_type": "code",
        "colab": {
          "base_uri": "https://localhost:8080/",
          "height": 392
        },
        "outputId": "629d2eae-4818-4be8-d531-ea54443c808f"
      },
      "source": [
        "fig,ax = plt.subplots(figsize =(7,6))\n",
        "ax.scatter(df_pca1['cluster'],df_pca1['Radius Mean'], c =colors)\n",
        "ax.scatter(ccua[0],ccua[1],  c = base_colors, s =100)\n",
        "#PCA with a component sample of 1 seem to produce linear clusters, while PCA with a components of 2 prouces clusters."
      ],
      "execution_count": 113,
      "outputs": [
        {
          "output_type": "execute_result",
          "data": {
            "text/plain": [
              "<matplotlib.collections.PathCollection at 0x7f8c459e4c88>"
            ]
          },
          "metadata": {
            "tags": []
          },
          "execution_count": 113
        },
        {
          "output_type": "display_data",
          "data": {
            "image/png": "[encoded data removed]",
            "text/plain": [
              "<Figure size 504x432 with 1 Axes>"
            ]
          },
          "metadata": {
            "tags": [],
            "needs_background": "light"
          }
        }
      ]
    },
    {
      "cell_type": "code",
      "metadata": {
        "id": "L5n465QQiOw9",
        "colab_type": "code",
        "colab": {
          "base_uri": "https://localhost:8080/",
          "height": 34
        },
        "outputId": "768e7761-8d99-4589-deef-be4b96b0d2ca"
      },
      "source": [
        "#Accuracy Score:\n",
        "df_pca1['Radius Mean'].isnull().sum() #there are any null values in the data set, which indicate a complet data group"
      ],
      "execution_count": 116,
      "outputs": [
        {
          "output_type": "execute_result",
          "data": {
            "text/plain": [
              "0"
            ]
          },
          "metadata": {
            "tags": []
          },
          "execution_count": 116
        }
      ]
    },
    {
      "cell_type": "code",
      "metadata": {
        "id": "RAFk2Nu9isrY",
        "colab_type": "code",
        "colab": {
          "base_uri": "https://localhost:8080/",
          "height": 34
        },
        "outputId": "ec77d996-207c-4c68-99ab-d3a5aeaaa34a"
      },
      "source": [
        "len(df_pca1)/ len(df_pca1) # This indicate that data group is about 100% accurate, however there may be miss print data values, that would can be determine by actual data logged and records"
      ],
      "execution_count": 117,
      "outputs": [
        {
          "output_type": "execute_result",
          "data": {
            "text/plain": [
              "1.0"
            ]
          },
          "metadata": {
            "tags": []
          },
          "execution_count": 117
        }
      ]
    },
    {
      "cell_type": "code",
      "metadata": {
        "id": "dVWO_npAjA_O",
        "colab_type": "code",
        "colab": {
          "base_uri": "https://localhost:8080/",
          "height": 87
        },
        "outputId": "d21e006c-e99d-428f-835d-5525f0107eef"
      },
      "source": [
        "df_pca.isnull().sum()# this also true statement for PCA1 c data values because of the lack of data values."
      ],
      "execution_count": 118,
      "outputs": [
        {
          "output_type": "execute_result",
          "data": {
            "text/plain": [
              "Radius Mean    0\n",
              "Area Mean      0\n",
              "cluster        0\n",
              "dtype: int64"
            ]
          },
          "metadata": {
            "tags": []
          },
          "execution_count": 118
        }
      ]
    },
    {
      "cell_type": "code",
      "metadata": {
        "id": "jEmSZ5esjVf6",
        "colab_type": "code",
        "colab": {
          "base_uri": "https://localhost:8080/",
          "height": 34
        },
        "outputId": "50408c4a-09d1-42de-db96-7b4173245585"
      },
      "source": [
        "#Silhouett Score PCA2 :\n",
        "\n",
        "metrics.silhouette_score(df_pca, model.labels_, metric = 'euclidean')"
      ],
      "execution_count": 119,
      "outputs": [
        {
          "output_type": "execute_result",
          "data": {
            "text/plain": [
              "0.5081836296737615"
            ]
          },
          "metadata": {
            "tags": []
          },
          "execution_count": 119
        }
      ]
    },
    {
      "cell_type": "code",
      "metadata": {
        "id": "FLgjxZgNjnVm",
        "colab_type": "code",
        "colab": {
          "base_uri": "https://localhost:8080/",
          "height": 34
        },
        "outputId": "4be56891-97f7-445f-b3fa-0abdd7a68b85"
      },
      "source": [
        "#Silhouett Score PCA1\n",
        "metrics.silhouette_score(df_pca1, mode.labels_, metric = 'euclidean') # There was higher metric store within the single component group."
      ],
      "execution_count": 120,
      "outputs": [
        {
          "output_type": "execute_result",
          "data": {
            "text/plain": [
              "0.7187549151253734"
            ]
          },
          "metadata": {
            "tags": []
          },
          "execution_count": 120
        }
      ]
    },
    {
      "cell_type": "markdown",
      "metadata": {
        "id": "PkrfbzfBROpP",
        "colab_type": "text"
      },
      "source": [
        "## Check your work: \n",
        "\n",
        "- Compare your PC1, PC2 clustering scatterplot to the clustering scatterplots you made on the raw data\n",
        "- Calculate accuracy scores for both the PC1,PC2 Principal component clustering and the 90% of explained variance clustering.\n",
        "\n",
        "How do your accuracy scores -when preprocessing the data with PCA- compare to the accuracy when simply clustering on the raw data?"
      ]
    },
    {
      "cell_type": "markdown",
      "metadata": {
        "id": "wKBwVaGOOYsq",
        "colab_type": "text"
      },
      "source": [
        "# Stretch Goals:\n",
        "\n",
        "- Study for the Sprint Challenge\n",
        "- Work on your Data Storytelling Project"
      ]
    },
    {
      "cell_type": "code",
      "metadata": {
        "id": "9p2djjY5LNWd",
        "colab_type": "code",
        "colab": {}
      },
      "source": [
        ""
      ],
      "execution_count": null,
      "outputs": []
    }
  ]
}